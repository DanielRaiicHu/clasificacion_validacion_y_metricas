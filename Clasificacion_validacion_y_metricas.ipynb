{
  "nbformat": 4,
  "nbformat_minor": 0,
  "metadata": {
    "colab": {
      "provenance": [],
      "toc_visible": true
    },
    "kernelspec": {
      "name": "python3",
      "display_name": "Python 3"
    },
    "language_info": {
      "name": "python"
    }
  },
  "cells": [
    {
      "cell_type": "markdown",
      "source": [
        "<a href=\"https://colab.research.google.com/github/DanielRaiicHu/clasificacion_validacion_y_metricas/blob/main/Clasificacion_validacion_y_metricas.ipynb?forceRefresh=true\">\n",
        "  <img src=\"https://drive.google.com/uc?export=view&id=191Woxwut0iaIL2hCcCIeXRSB6oba_88H\" alt=\"Abrir en Colab\" width=\"120\"/>\n",
        "</a>"
      ],
      "metadata": {
        "id": "008mID_VTr_2"
      }
    },
    {
      "cell_type": "markdown",
      "source": [
        "# <font color='dark'>**Clasificación: Validación de modelos y métricas de evaluación**</h1>"
      ],
      "metadata": {
        "id": "MCqTDybk4ShK"
      }
    },
    {
      "cell_type": "markdown",
      "source": [
        "### Proyecto\n",
        "\n",
        "Una empresa de financiamiento de automóviles está atravesando una situación complicada, con una alta demanda para una flota reducida de vehículos y un alto número de morosos, lo que está generando grandes pérdidas para la empresa.\n",
        "\n",
        "Nosotros fuimos contratados para buscar mejoras en la identificación de morosos. El análisis de los clientes actualmente se realiza de forma manual, cliente por cliente, lo que consume mucho tiempo y, aun así, la detección de morosos es muy imprecisa.\n",
        "\n",
        "Nuestra tarea es utilizar los datos proporcionados por la empresa para **clasificar** a los clientes en cumplidores y morosos."
      ],
      "metadata": {
        "id": "WscU3KG7a9No"
      }
    },
    {
      "cell_type": "markdown",
      "source": [
        "## <font color='dark'>1. Clasificando los datos</h1>"
      ],
      "metadata": {
        "id": "WgS8iF51Csrn"
      }
    },
    {
      "cell_type": "markdown",
      "source": [
        "### Creando un modelo inicial"
      ],
      "metadata": {
        "id": "6lExmBuKn-xe"
      }
    },
    {
      "cell_type": "code",
      "source": [
        "import pandas as pd"
      ],
      "metadata": {
        "id": "ANJDC3LqP43q"
      },
      "execution_count": 60,
      "outputs": []
    },
    {
      "cell_type": "code",
      "source": [
        "url = 'https://raw.githubusercontent.com/DanielRaiicHu/clasificacion_validacion_y_metricas/main/prestacar.csv'\n",
        "datos = pd.read_csv(url)\n",
        "datos.head()\n"
      ],
      "metadata": {
        "id": "UPddns6dP4kt",
        "colab": {
          "base_uri": "https://localhost:8080/",
          "height": 206
        },
        "outputId": "6a62cebd-1951-4b8b-e397-f830ccb549fa"
      },
      "execution_count": 61,
      "outputs": [
        {
          "output_type": "execute_result",
          "data": {
            "text/plain": [
              "   ingresos_cliente  anualidad_prestamo  años_casa_propia  telefono_trab  \\\n",
              "0           12600.0         3569.400000         12.157324              1   \n",
              "1            9000.0         2722.188351          7.000000              0   \n",
              "2           15750.0         4477.500000         12.000000              0   \n",
              "3            9000.0         1309.050000         12.157324              0   \n",
              "4            7650.0         1125.000000         12.157324              0   \n",
              "\n",
              "   evaluacion_ciudad   score_1   score_2   score_3  score_social  \\\n",
              "0                2.0  0.057153  0.527227  0.513171      0.117428   \n",
              "1                2.0  0.657661  0.285898  0.614414      0.222700   \n",
              "2                2.0  0.501213  0.695423  0.513171      0.117428   \n",
              "3                3.0  0.501213  0.155973  0.513171      0.117428   \n",
              "4                2.0  0.294328  0.152076  0.513171      0.117428   \n",
              "\n",
              "   cambio_telefono  moroso  \n",
              "0           2545.0       0  \n",
              "1            495.0       0  \n",
              "2           1212.0       0  \n",
              "3            515.0       0  \n",
              "4            162.0       0  "
            ],
            "text/html": [
              "\n",
              "  <div id=\"df-451ed71a-605c-468f-8e71-9d11da21478d\" class=\"colab-df-container\">\n",
              "    <div>\n",
              "<style scoped>\n",
              "    .dataframe tbody tr th:only-of-type {\n",
              "        vertical-align: middle;\n",
              "    }\n",
              "\n",
              "    .dataframe tbody tr th {\n",
              "        vertical-align: top;\n",
              "    }\n",
              "\n",
              "    .dataframe thead th {\n",
              "        text-align: right;\n",
              "    }\n",
              "</style>\n",
              "<table border=\"1\" class=\"dataframe\">\n",
              "  <thead>\n",
              "    <tr style=\"text-align: right;\">\n",
              "      <th></th>\n",
              "      <th>ingresos_cliente</th>\n",
              "      <th>anualidad_prestamo</th>\n",
              "      <th>años_casa_propia</th>\n",
              "      <th>telefono_trab</th>\n",
              "      <th>evaluacion_ciudad</th>\n",
              "      <th>score_1</th>\n",
              "      <th>score_2</th>\n",
              "      <th>score_3</th>\n",
              "      <th>score_social</th>\n",
              "      <th>cambio_telefono</th>\n",
              "      <th>moroso</th>\n",
              "    </tr>\n",
              "  </thead>\n",
              "  <tbody>\n",
              "    <tr>\n",
              "      <th>0</th>\n",
              "      <td>12600.0</td>\n",
              "      <td>3569.400000</td>\n",
              "      <td>12.157324</td>\n",
              "      <td>1</td>\n",
              "      <td>2.0</td>\n",
              "      <td>0.057153</td>\n",
              "      <td>0.527227</td>\n",
              "      <td>0.513171</td>\n",
              "      <td>0.117428</td>\n",
              "      <td>2545.0</td>\n",
              "      <td>0</td>\n",
              "    </tr>\n",
              "    <tr>\n",
              "      <th>1</th>\n",
              "      <td>9000.0</td>\n",
              "      <td>2722.188351</td>\n",
              "      <td>7.000000</td>\n",
              "      <td>0</td>\n",
              "      <td>2.0</td>\n",
              "      <td>0.657661</td>\n",
              "      <td>0.285898</td>\n",
              "      <td>0.614414</td>\n",
              "      <td>0.222700</td>\n",
              "      <td>495.0</td>\n",
              "      <td>0</td>\n",
              "    </tr>\n",
              "    <tr>\n",
              "      <th>2</th>\n",
              "      <td>15750.0</td>\n",
              "      <td>4477.500000</td>\n",
              "      <td>12.000000</td>\n",
              "      <td>0</td>\n",
              "      <td>2.0</td>\n",
              "      <td>0.501213</td>\n",
              "      <td>0.695423</td>\n",
              "      <td>0.513171</td>\n",
              "      <td>0.117428</td>\n",
              "      <td>1212.0</td>\n",
              "      <td>0</td>\n",
              "    </tr>\n",
              "    <tr>\n",
              "      <th>3</th>\n",
              "      <td>9000.0</td>\n",
              "      <td>1309.050000</td>\n",
              "      <td>12.157324</td>\n",
              "      <td>0</td>\n",
              "      <td>3.0</td>\n",
              "      <td>0.501213</td>\n",
              "      <td>0.155973</td>\n",
              "      <td>0.513171</td>\n",
              "      <td>0.117428</td>\n",
              "      <td>515.0</td>\n",
              "      <td>0</td>\n",
              "    </tr>\n",
              "    <tr>\n",
              "      <th>4</th>\n",
              "      <td>7650.0</td>\n",
              "      <td>1125.000000</td>\n",
              "      <td>12.157324</td>\n",
              "      <td>0</td>\n",
              "      <td>2.0</td>\n",
              "      <td>0.294328</td>\n",
              "      <td>0.152076</td>\n",
              "      <td>0.513171</td>\n",
              "      <td>0.117428</td>\n",
              "      <td>162.0</td>\n",
              "      <td>0</td>\n",
              "    </tr>\n",
              "  </tbody>\n",
              "</table>\n",
              "</div>\n",
              "    <div class=\"colab-df-buttons\">\n",
              "\n",
              "  <div class=\"colab-df-container\">\n",
              "    <button class=\"colab-df-convert\" onclick=\"convertToInteractive('df-451ed71a-605c-468f-8e71-9d11da21478d')\"\n",
              "            title=\"Convert this dataframe to an interactive table.\"\n",
              "            style=\"display:none;\">\n",
              "\n",
              "  <svg xmlns=\"http://www.w3.org/2000/svg\" height=\"24px\" viewBox=\"0 -960 960 960\">\n",
              "    <path d=\"M120-120v-720h720v720H120Zm60-500h600v-160H180v160Zm220 220h160v-160H400v160Zm0 220h160v-160H400v160ZM180-400h160v-160H180v160Zm440 0h160v-160H620v160ZM180-180h160v-160H180v160Zm440 0h160v-160H620v160Z\"/>\n",
              "  </svg>\n",
              "    </button>\n",
              "\n",
              "  <style>\n",
              "    .colab-df-container {\n",
              "      display:flex;\n",
              "      gap: 12px;\n",
              "    }\n",
              "\n",
              "    .colab-df-convert {\n",
              "      background-color: #E8F0FE;\n",
              "      border: none;\n",
              "      border-radius: 50%;\n",
              "      cursor: pointer;\n",
              "      display: none;\n",
              "      fill: #1967D2;\n",
              "      height: 32px;\n",
              "      padding: 0 0 0 0;\n",
              "      width: 32px;\n",
              "    }\n",
              "\n",
              "    .colab-df-convert:hover {\n",
              "      background-color: #E2EBFA;\n",
              "      box-shadow: 0px 1px 2px rgba(60, 64, 67, 0.3), 0px 1px 3px 1px rgba(60, 64, 67, 0.15);\n",
              "      fill: #174EA6;\n",
              "    }\n",
              "\n",
              "    .colab-df-buttons div {\n",
              "      margin-bottom: 4px;\n",
              "    }\n",
              "\n",
              "    [theme=dark] .colab-df-convert {\n",
              "      background-color: #3B4455;\n",
              "      fill: #D2E3FC;\n",
              "    }\n",
              "\n",
              "    [theme=dark] .colab-df-convert:hover {\n",
              "      background-color: #434B5C;\n",
              "      box-shadow: 0px 1px 3px 1px rgba(0, 0, 0, 0.15);\n",
              "      filter: drop-shadow(0px 1px 2px rgba(0, 0, 0, 0.3));\n",
              "      fill: #FFFFFF;\n",
              "    }\n",
              "  </style>\n",
              "\n",
              "    <script>\n",
              "      const buttonEl =\n",
              "        document.querySelector('#df-451ed71a-605c-468f-8e71-9d11da21478d button.colab-df-convert');\n",
              "      buttonEl.style.display =\n",
              "        google.colab.kernel.accessAllowed ? 'block' : 'none';\n",
              "\n",
              "      async function convertToInteractive(key) {\n",
              "        const element = document.querySelector('#df-451ed71a-605c-468f-8e71-9d11da21478d');\n",
              "        const dataTable =\n",
              "          await google.colab.kernel.invokeFunction('convertToInteractive',\n",
              "                                                    [key], {});\n",
              "        if (!dataTable) return;\n",
              "\n",
              "        const docLinkHtml = 'Like what you see? Visit the ' +\n",
              "          '<a target=\"_blank\" href=https://colab.research.google.com/notebooks/data_table.ipynb>data table notebook</a>'\n",
              "          + ' to learn more about interactive tables.';\n",
              "        element.innerHTML = '';\n",
              "        dataTable['output_type'] = 'display_data';\n",
              "        await google.colab.output.renderOutput(dataTable, element);\n",
              "        const docLink = document.createElement('div');\n",
              "        docLink.innerHTML = docLinkHtml;\n",
              "        element.appendChild(docLink);\n",
              "      }\n",
              "    </script>\n",
              "  </div>\n",
              "\n",
              "\n",
              "    <div id=\"df-1aeacb47-45d8-4a6f-afb0-5040ee86d80f\">\n",
              "      <button class=\"colab-df-quickchart\" onclick=\"quickchart('df-1aeacb47-45d8-4a6f-afb0-5040ee86d80f')\"\n",
              "                title=\"Suggest charts\"\n",
              "                style=\"display:none;\">\n",
              "\n",
              "<svg xmlns=\"http://www.w3.org/2000/svg\" height=\"24px\"viewBox=\"0 0 24 24\"\n",
              "     width=\"24px\">\n",
              "    <g>\n",
              "        <path d=\"M19 3H5c-1.1 0-2 .9-2 2v14c0 1.1.9 2 2 2h14c1.1 0 2-.9 2-2V5c0-1.1-.9-2-2-2zM9 17H7v-7h2v7zm4 0h-2V7h2v10zm4 0h-2v-4h2v4z\"/>\n",
              "    </g>\n",
              "</svg>\n",
              "      </button>\n",
              "\n",
              "<style>\n",
              "  .colab-df-quickchart {\n",
              "      --bg-color: #E8F0FE;\n",
              "      --fill-color: #1967D2;\n",
              "      --hover-bg-color: #E2EBFA;\n",
              "      --hover-fill-color: #174EA6;\n",
              "      --disabled-fill-color: #AAA;\n",
              "      --disabled-bg-color: #DDD;\n",
              "  }\n",
              "\n",
              "  [theme=dark] .colab-df-quickchart {\n",
              "      --bg-color: #3B4455;\n",
              "      --fill-color: #D2E3FC;\n",
              "      --hover-bg-color: #434B5C;\n",
              "      --hover-fill-color: #FFFFFF;\n",
              "      --disabled-bg-color: #3B4455;\n",
              "      --disabled-fill-color: #666;\n",
              "  }\n",
              "\n",
              "  .colab-df-quickchart {\n",
              "    background-color: var(--bg-color);\n",
              "    border: none;\n",
              "    border-radius: 50%;\n",
              "    cursor: pointer;\n",
              "    display: none;\n",
              "    fill: var(--fill-color);\n",
              "    height: 32px;\n",
              "    padding: 0;\n",
              "    width: 32px;\n",
              "  }\n",
              "\n",
              "  .colab-df-quickchart:hover {\n",
              "    background-color: var(--hover-bg-color);\n",
              "    box-shadow: 0 1px 2px rgba(60, 64, 67, 0.3), 0 1px 3px 1px rgba(60, 64, 67, 0.15);\n",
              "    fill: var(--button-hover-fill-color);\n",
              "  }\n",
              "\n",
              "  .colab-df-quickchart-complete:disabled,\n",
              "  .colab-df-quickchart-complete:disabled:hover {\n",
              "    background-color: var(--disabled-bg-color);\n",
              "    fill: var(--disabled-fill-color);\n",
              "    box-shadow: none;\n",
              "  }\n",
              "\n",
              "  .colab-df-spinner {\n",
              "    border: 2px solid var(--fill-color);\n",
              "    border-color: transparent;\n",
              "    border-bottom-color: var(--fill-color);\n",
              "    animation:\n",
              "      spin 1s steps(1) infinite;\n",
              "  }\n",
              "\n",
              "  @keyframes spin {\n",
              "    0% {\n",
              "      border-color: transparent;\n",
              "      border-bottom-color: var(--fill-color);\n",
              "      border-left-color: var(--fill-color);\n",
              "    }\n",
              "    20% {\n",
              "      border-color: transparent;\n",
              "      border-left-color: var(--fill-color);\n",
              "      border-top-color: var(--fill-color);\n",
              "    }\n",
              "    30% {\n",
              "      border-color: transparent;\n",
              "      border-left-color: var(--fill-color);\n",
              "      border-top-color: var(--fill-color);\n",
              "      border-right-color: var(--fill-color);\n",
              "    }\n",
              "    40% {\n",
              "      border-color: transparent;\n",
              "      border-right-color: var(--fill-color);\n",
              "      border-top-color: var(--fill-color);\n",
              "    }\n",
              "    60% {\n",
              "      border-color: transparent;\n",
              "      border-right-color: var(--fill-color);\n",
              "    }\n",
              "    80% {\n",
              "      border-color: transparent;\n",
              "      border-right-color: var(--fill-color);\n",
              "      border-bottom-color: var(--fill-color);\n",
              "    }\n",
              "    90% {\n",
              "      border-color: transparent;\n",
              "      border-bottom-color: var(--fill-color);\n",
              "    }\n",
              "  }\n",
              "</style>\n",
              "\n",
              "      <script>\n",
              "        async function quickchart(key) {\n",
              "          const quickchartButtonEl =\n",
              "            document.querySelector('#' + key + ' button');\n",
              "          quickchartButtonEl.disabled = true;  // To prevent multiple clicks.\n",
              "          quickchartButtonEl.classList.add('colab-df-spinner');\n",
              "          try {\n",
              "            const charts = await google.colab.kernel.invokeFunction(\n",
              "                'suggestCharts', [key], {});\n",
              "          } catch (error) {\n",
              "            console.error('Error during call to suggestCharts:', error);\n",
              "          }\n",
              "          quickchartButtonEl.classList.remove('colab-df-spinner');\n",
              "          quickchartButtonEl.classList.add('colab-df-quickchart-complete');\n",
              "        }\n",
              "        (() => {\n",
              "          let quickchartButtonEl =\n",
              "            document.querySelector('#df-1aeacb47-45d8-4a6f-afb0-5040ee86d80f button');\n",
              "          quickchartButtonEl.style.display =\n",
              "            google.colab.kernel.accessAllowed ? 'block' : 'none';\n",
              "        })();\n",
              "      </script>\n",
              "    </div>\n",
              "\n",
              "    </div>\n",
              "  </div>\n"
            ],
            "application/vnd.google.colaboratory.intrinsic+json": {
              "type": "dataframe",
              "variable_name": "datos",
              "summary": "{\n  \"name\": \"datos\",\n  \"rows\": 54025,\n  \"fields\": [\n    {\n      \"column\": \"ingresos_cliente\",\n      \"properties\": {\n        \"dtype\": \"number\",\n        \"std\": 9658.762569130264,\n        \"min\": 2700.0,\n        \"max\": 450000.0,\n        \"num_unique_values\": 663,\n        \"samples\": [\n          11018.7,\n          38520.0,\n          17796.6\n        ],\n        \"semantic_type\": \"\",\n        \"description\": \"\"\n      }\n    },\n    {\n      \"column\": \"anualidad_prestamo\",\n      \"properties\": {\n        \"dtype\": \"number\",\n        \"std\": 1305.3647344874787,\n        \"min\": 218.7,\n        \"max\": 22500.0,\n        \"num_unique_values\": 8004,\n        \"samples\": [\n          5339.7,\n          5067.0,\n          5757.3\n        ],\n        \"semantic_type\": \"\",\n        \"description\": \"\"\n      }\n    },\n    {\n      \"column\": \"a\\u00f1os_casa_propia\",\n      \"properties\": {\n        \"dtype\": \"number\",\n        \"std\": 7.452120104984191,\n        \"min\": 0.0,\n        \"max\": 69.0,\n        \"num_unique_values\": 53,\n        \"samples\": [\n          11.0,\n          31.0,\n          32.0\n        ],\n        \"semantic_type\": \"\",\n        \"description\": \"\"\n      }\n    },\n    {\n      \"column\": \"telefono_trab\",\n      \"properties\": {\n        \"dtype\": \"number\",\n        \"std\": 0,\n        \"min\": 0,\n        \"max\": 1,\n        \"num_unique_values\": 2,\n        \"samples\": [\n          0,\n          1\n        ],\n        \"semantic_type\": \"\",\n        \"description\": \"\"\n      }\n    },\n    {\n      \"column\": \"evaluacion_ciudad\",\n      \"properties\": {\n        \"dtype\": \"number\",\n        \"std\": 0.49880682251877845,\n        \"min\": 1.0,\n        \"max\": 3.0,\n        \"num_unique_values\": 4,\n        \"samples\": [\n          3.0,\n          2.030038427084816\n        ],\n        \"semantic_type\": \"\",\n        \"description\": \"\"\n      }\n    },\n    {\n      \"column\": \"score_1\",\n      \"properties\": {\n        \"dtype\": \"number\",\n        \"std\": 0.14238945649917853,\n        \"min\": 0.014568132,\n        \"max\": 0.942680454,\n        \"num_unique_values\": 23062,\n        \"samples\": [\n          0.475611877,\n          0.435226091\n        ],\n        \"semantic_type\": \"\",\n        \"description\": \"\"\n      }\n    },\n    {\n      \"column\": \"score_2\",\n      \"properties\": {\n        \"dtype\": \"number\",\n        \"std\": 0.8759454878096079,\n        \"min\": 5e-06,\n        \"max\": 100.0,\n        \"num_unique_values\": 38047,\n        \"samples\": [\n          0.416306086,\n          0.675062411\n        ],\n        \"semantic_type\": \"\",\n        \"description\": \"\"\n      }\n    },\n    {\n      \"column\": \"score_3\",\n      \"properties\": {\n        \"dtype\": \"number\",\n        \"std\": 0.06272486372343226,\n        \"min\": 0.000527265,\n        \"max\": 0.869210801,\n        \"num_unique_values\": 612,\n        \"samples\": [\n          0.420610964,\n          0.168416171\n        ],\n        \"semantic_type\": \"\",\n        \"description\": \"\"\n      }\n    },\n    {\n      \"column\": \"score_social\",\n      \"properties\": {\n        \"dtype\": \"number\",\n        \"std\": 0.0761796573204536,\n        \"min\": 0.0,\n        \"max\": 1.0,\n        \"num_unique_values\": 1459,\n        \"samples\": [\n          0.1674,\n          0.6381\n        ],\n        \"semantic_type\": \"\",\n        \"description\": \"\"\n      }\n    },\n    {\n      \"column\": \"cambio_telefono\",\n      \"properties\": {\n        \"dtype\": \"number\",\n        \"std\": 818.1417090553241,\n        \"min\": 0.0,\n        \"max\": 4185.0,\n        \"num_unique_values\": 3408,\n        \"samples\": [\n          966.0,\n          3099.0\n        ],\n        \"semantic_type\": \"\",\n        \"description\": \"\"\n      }\n    },\n    {\n      \"column\": \"moroso\",\n      \"properties\": {\n        \"dtype\": \"number\",\n        \"std\": 0,\n        \"min\": 0,\n        \"max\": 1,\n        \"num_unique_values\": 2,\n        \"samples\": [\n          1,\n          0\n        ],\n        \"semantic_type\": \"\",\n        \"description\": \"\"\n      }\n    }\n  ]\n}"
            }
          },
          "metadata": {},
          "execution_count": 61
        }
      ]
    },
    {
      "cell_type": "code",
      "source": [
        "# Separa los datos en variables predictoras (X) y variable objetivo (y)\n",
        "X = datos.drop(columns='moroso', axis=1)  # X contiene todas las columnas excepto 'moroso'\n",
        "y = datos.moroso  # y contiene la columna objetivo: si el cliente es moroso"
      ],
      "metadata": {
        "id": "UVIX6QLpP4iC"
      },
      "execution_count": 62,
      "outputs": []
    },
    {
      "cell_type": "code",
      "source": [
        "from sklearn.tree import DecisionTreeClassifier  # Importa el modelo de árbol de decisión\n",
        "\n",
        "modelo = DecisionTreeClassifier()  # Instancia un modelo vacío de árbol de decisión\n",
        "modelo.fit(X, y)  # Entrena el modelo con los datos completos (sin separar en test/train)\n",
        "modelo.score(X, y)  # Calcula la exactitud sobre los mismos datos usados para entrenar"
      ],
      "metadata": {
        "id": "MikoMXI7P4dG",
        "colab": {
          "base_uri": "https://localhost:8080/"
        },
        "outputId": "534ef6b7-54db-4f64-c7ad-67e5c9514609"
      },
      "execution_count": 63,
      "outputs": [
        {
          "output_type": "execute_result",
          "data": {
            "text/plain": [
              "1.0"
            ]
          },
          "metadata": {},
          "execution_count": 63
        }
      ]
    },
    {
      "cell_type": "code",
      "source": [
        "# Imprime el resultado de la exactitud\n",
        "print(f'La exactitud del modelo es: {modelo.score(X,y)}')\n",
        "# Resultado esperado: La exactitud del modelo es: 1.0\n",
        "\n",
        "# Eso se debe a que el modelo se memorizó todos los casos posibles, pero no es lo más recomendable\n",
        "# Haciendo esto, en el caso de trabajar con un árbol de decisión, siempre va a dar un 100%"
      ],
      "metadata": {
        "colab": {
          "base_uri": "https://localhost:8080/"
        },
        "id": "D-9s0yAWQ7CE",
        "outputId": "c39055a1-9a8a-4e65-8aad-0d1830089eb2"
      },
      "execution_count": 64,
      "outputs": [
        {
          "output_type": "stream",
          "name": "stdout",
          "text": [
            "La exactitud del modelo es: 1.0\n"
          ]
        }
      ]
    },
    {
      "cell_type": "markdown",
      "source": [
        "**Análisis del código:**\n",
        "\n",
        "**¿Qué se hizo?**\n",
        "\n",
        "* Se cargó un dataset sobre morosidad de clientes.\n",
        "\n",
        "* Se entrenó un modelo de clasificación (DecisionTreeClassifier) con todos los datos disponibles.\n",
        "\n",
        "* Se calculó su exactitud usando los mismos datos de entrenamiento.\n",
        "\n",
        "**¿Qué se identificó?**\n",
        "\n",
        "* La exactitud fue 1.0 (100%), lo cual indica sobreajuste: el modelo memorizó los datos.\n",
        "\n",
        "* Este resultado no es confiable, ya que no representa la capacidad real del modelo para predecir datos nuevos.\n",
        "\n",
        "**¿Qué se puede hacer?**\n",
        "\n",
        "* Separar los datos en conjuntos de entrenamiento y prueba, o usar validación cruzada.\n",
        "\n",
        "* Así, se puede verificar si el modelo realmente aprende patrones generales y no solo memoriza.\n",
        "\n",
        "**Conclusión:**\n",
        "\n",
        "* Evaluar el modelo con los mismos datos que se usaron para entrenar no permite medir su capacidad de generalización.\n",
        "\n",
        "* Esto equivale a evaluar a una persona con las mismas preguntas del examen que ya estudió con respuestas incluidas.\n",
        "\n",
        "* Por eso es fundamental dividir los datos (como en la imagen adjunta) en:\n",
        "\n",
        ">* Entrenamiento: para aprender.\n",
        ">\n",
        ">* Validación: para comparar modelos/hyperparámetros.\n",
        ">\n",
        ">* Prueba: para evaluar la capacidad final de predicción en datos nunca vistos."
      ],
      "metadata": {
        "id": "1hZlDPa9TNH6"
      }
    },
    {
      "cell_type": "markdown",
      "source": [
        "### Validando el modelo"
      ],
      "metadata": {
        "id": "EPrFcm39oAof"
      }
    },
    {
      "cell_type": "markdown",
      "source": [
        "Evaluar el modelo con los mismos datos utilizados en el entrenamiento no es recomendable. Es necesario que la evaluación se realice con datos independientes.  \n",
        "\n",
        "Evaluar el modelo con los propios datos de entrenamiento sería equivalente a entregar un examen con las preguntas y las respuestas a una persona y, al momento de evaluarla nuevamente, entregarle un examen con las mismas preguntas y opciones. Se espera que esa persona obtenga un buen resultado, ya que ya ha visto las respuestas y ha memorizado el resultado. Esto es diferente de haber aprendido la materia a partir de ese examen y luego presentar una prueba con contenido similar y obtener un resultado positivo.  \n",
        "\n",
        "Con el objetivo de verificar la capacidad de generalización de un modelo, debemos dividir el conjunto de datos en tres partes: datos de entrenamiento, validación y prueba.  \n",
        "\n",
        "- El **conjunto de entrenamiento** se utiliza para entrenar los modelos. A partir de este conjunto, los modelos identifican patrones en los datos.  \n",
        "\n",
        "- El **conjunto de validación** se emplea para evaluar el desempeño de diferentes modelos con datos nuevos que no fueron utilizados en el entrenamiento.  \n",
        "\n",
        "- El **conjunto de prueba** se mantiene separado desde el inicio para simular datos del mundo real. No se utiliza en ninguna etapa del entrenamiento ni de la validación, sirviendo como una estimación de la capacidad del modelo elegido para generalizar y predecir nuevos datos."
      ],
      "metadata": {
        "id": "v0u-uij9eNcD"
      }
    },
    {
      "cell_type": "markdown",
      "source": [
        "<a href=\"https://ibb.co/9H2Z1HZ5\"><img src=\"https://i.ibb.co/0yZs6ysb/datos-train-test.png\" alt=\"datos-train-test\" border=\"0\"></a>"
      ],
      "metadata": {
        "id": "TCIN5oOJFk_W"
      }
    },
    {
      "cell_type": "code",
      "source": [
        "# Separa en base de entrenamiento y en base de prueba\n",
        "from sklearn.model_selection import train_test_split"
      ],
      "metadata": {
        "id": "OICJjv9HP1QZ"
      },
      "execution_count": 65,
      "outputs": []
    },
    {
      "cell_type": "code",
      "source": [
        "# test_size = 0.15: El 15% de los datos será para prueba\n",
        "# stratify: para dejar la misma cantidad de observaciones para morososo, para los 2 conjuntos que estoy separando (Mantiene la proporción original de clases (moroso/no moroso))\n",
        "# ejemplo: si en mi conjunto de prueba tengo un 10% de morosos, quiero que mi conjunto de entrenamiento también tenga un 10% de morosos\n",
        "# random_state = 5: replica esta misma división en cualquier momento y de la misma forma\n",
        "\n",
        "# División inicial entre conjunto general y conjunto de prueba (15% para prueba)\n",
        "X, X_test,y,y_test = train_test_split(X,y,test_size= 0.15, stratify = y, random_state = 5)\n",
        "\n",
        "# División secundaria: entrenamiento vs validación (por defecto 75% entrenamiento, 25% validación)\n",
        "# (Por defecto el tamaño es del 25%) Conjunto de entrenamiento y validación\n",
        "X_train, X_val,y_train,y_val = train_test_split(X,y, stratify = y, random_state = 5)"
      ],
      "metadata": {
        "id": "mvDcVFFDP1sB"
      },
      "execution_count": 66,
      "outputs": []
    },
    {
      "cell_type": "code",
      "source": [
        "# Instanciar el modelo\n",
        "# Sin límites en el Árbol de Decisión\n",
        "modelo = DecisionTreeClassifier()       # Crea modelo sin restricción de profundidad\n",
        "modelo.fit(X_train,y_train)             # Entrena con los datos de entrenamiento\n",
        "print(f'La exactitud del modelo con el conjunto de entrenamiento es de: {modelo.score(X_train,y_train)}')\n",
        "print(f'La exactitud del modelo con el conjunto de validación es de: {modelo.score(X_val,y_val)}')\n",
        "\n",
        "# Respuesta:\n",
        "# La exactitud del modelo con el conjunto de entrenamiento es de: 1.0\n",
        "# La exactitud del modelo con el conjunto de validación es de: 0.8495775629300584\n",
        "\n",
        "# Esta no es la mejor forma de instanciar un modelo de árbol de decisión, sino que debemos colocar una profundidad con max_depth"
      ],
      "metadata": {
        "id": "sEJPwwG_P1Md",
        "colab": {
          "base_uri": "https://localhost:8080/"
        },
        "outputId": "2f09395b-f9e8-4cca-ad6f-f7e79024f132"
      },
      "execution_count": 67,
      "outputs": [
        {
          "output_type": "stream",
          "name": "stdout",
          "text": [
            "La exactitud del modelo con el conjunto de entrenamiento es de: 1.0\n",
            "La exactitud del modelo con el conjunto de validación es de: 0.8489678599425137\n"
          ]
        }
      ]
    },
    {
      "cell_type": "code",
      "source": [
        "# Instanciar el modelo\n",
        "# Con delimitación en el Árbol de Decisión\n",
        "modelo = DecisionTreeClassifier(max_depth=10) # Límite de profundidad = 10\n",
        "modelo.fit(X_train,y_train)                   # Vuelve a entrenar\n",
        "print(f'La exactitud del modelo con el conjunto de entrenamiento es de: {modelo.score(X_train,y_train)}')\n",
        "print(f'La exactitud del modelo con el conjunto de validación es de: {modelo.score(X_val,y_val)}')\n",
        "\n",
        "# Respuesta:\n",
        "# La exactitud del modelo con el conjunto de entrenamiento es de: 0.9206445993031359\n",
        "# La exactitud del modelo con el conjunto de validación es de: 0.905496036930581\n",
        "\n",
        "# Vemos que está generalizando mejor, porque no se está memorizando todas las salidas y únicamente ajustamos un parámetro.\n",
        "# Entonces aquí ya comenzamos a encontrar el camino para poder hacer nuestra validación del modelo"
      ],
      "metadata": {
        "colab": {
          "base_uri": "https://localhost:8080/"
        },
        "id": "CyYy00muWqFB",
        "outputId": "32ea3829-21d0-4ece-802b-9e7005e2ef86"
      },
      "execution_count": 68,
      "outputs": [
        {
          "output_type": "stream",
          "name": "stdout",
          "text": [
            "La exactitud del modelo con el conjunto de entrenamiento es de: 0.9206155632984901\n",
            "La exactitud del modelo con el conjunto de validación es de: 0.9057573382109573\n"
          ]
        }
      ]
    },
    {
      "cell_type": "markdown",
      "source": [
        "### Evaluando el modelo"
      ],
      "metadata": {
        "id": "WtlRAZt96VLG"
      }
    },
    {
      "cell_type": "code",
      "source": [
        "# Importamos la función confusion_matrix desde sklearn.metrics\n",
        "# Esta función nos permite calcular una matriz que compara los valores reales (y_val) con los valores predichos (y_previsto)\n",
        "from sklearn.metrics import confusion_matrix"
      ],
      "metadata": {
        "id": "IlUZBhPrPyYh"
      },
      "execution_count": 69,
      "outputs": []
    },
    {
      "cell_type": "code",
      "source": [
        "# Generamos las predicciones del modelo sobre el conjunto de validación\n",
        "# X_val contiene los datos de entrada (sin la etiqueta), y el modelo devuelve una lista con 0 (cumplido) o 1 (moroso)\n",
        "y_previsto = modelo.predict(X_val)\n",
        "\n",
        "# Creamos la matriz de confusión, que muestra cómo se desempeñó el modelo al clasificar:\n",
        "# - Verdaderos negativos (TN): cumplidores bien clasificados como cumplidores\n",
        "# - Falsos positivos (FP): cumplidores mal clasificados como morosos\n",
        "# - Falsos negativos (FN): morosos mal clasificados como cumplidores (¡muy importantes!)\n",
        "# - Verdaderos positivos (TP): morosos bien clasificados como morosos\n",
        "matriz_confusion = confusion_matrix(y_val,y_previsto)\n",
        "\n",
        "# Imprimimos la matriz de confusión en forma de array 2x2\n",
        "print(matriz_confusion)\n",
        "\n",
        "# Respuesta:\n",
        "# [[10359   120]\n",
        "#  [  962    40]]"
      ],
      "metadata": {
        "id": "iill3u5HPyOA",
        "colab": {
          "base_uri": "https://localhost:8080/"
        },
        "outputId": "eff85e38-2f6a-4778-ce28-394b8f0ad1df"
      },
      "execution_count": 70,
      "outputs": [
        {
          "output_type": "stream",
          "name": "stdout",
          "text": [
            "[[10356   123]\n",
            " [  959    43]]\n"
          ]
        }
      ]
    },
    {
      "cell_type": "code",
      "source": [
        "# Importamos una clase especial para visualizar la matriz de confusión de forma gráfica\n",
        "from sklearn.metrics import ConfusionMatrixDisplay"
      ],
      "metadata": {
        "id": "gtFWt6emPyJt"
      },
      "execution_count": 71,
      "outputs": []
    },
    {
      "cell_type": "code",
      "source": [
        "# Creamos un objeto de visualización de la matriz, usando directamente la matriz ya calculada\n",
        "# Este objeto permite dibujar un gráfico donde los colores representan la cantidad de aciertos/errores\n",
        "visualizacion = ConfusionMatrixDisplay(matriz_confusion)\n",
        "\n",
        "# Dibujamos la matriz de confusión en pantalla como un gráfico (colores intensos = más casos)\n",
        "# Las etiquetas por defecto son los valores 0 y 1 (cumplido y moroso, respectivamente)\n",
        "visualizacion.plot();"
      ],
      "metadata": {
        "id": "qg0OgZeqPyGJ",
        "colab": {
          "base_uri": "https://localhost:8080/",
          "height": 449
        },
        "outputId": "185949ee-af7a-4f1d-c00b-e53d0bf30b62"
      },
      "execution_count": 72,
      "outputs": [
        {
          "output_type": "display_data",
          "data": {
            "text/plain": [
              "<Figure size 640x480 with 2 Axes>"
            ],
            "image/png": "[encoded data removed]"
          },
          "metadata": {}
        }
      ]
    },
    {
      "cell_type": "code",
      "source": [
        "# Creamos nuevamente el objeto de visualización pero esta vez con etiquetas personalizadas\n",
        "# display_labels nos permite mostrar \"Cumplido\" y \"Moroso\" en vez de 0 y 1, lo cual es más comprensible\n",
        "visualizacion = ConfusionMatrixDisplay(\n",
        "    confusion_matrix=matriz_confusion,\n",
        "    display_labels=['Cumplido', 'Moroso']  # Etiquetas para las clases 0 y 1\n",
        ")\n",
        "\n",
        "# Volvemos a graficar la matriz, pero ahora con las etiquetas descriptivas\n",
        "# Esto hace que el gráfico sea más interpretativo para una presentación o informe\n",
        "visualizacion.plot();"
      ],
      "metadata": {
        "colab": {
          "base_uri": "https://localhost:8080/",
          "height": 449
        },
        "id": "K1ez5cmreOSH",
        "outputId": "65df1d01-fbc8-41fd-cdf0-7ff6228c0fdc"
      },
      "execution_count": 73,
      "outputs": [
        {
          "output_type": "display_data",
          "data": {
            "text/plain": [
              "<Figure size 640x480 with 2 Axes>"
            ],
            "image/png": "[encoded data removed]"
          },
          "metadata": {}
        }
      ]
    },
    {
      "cell_type": "markdown",
      "source": [
        "**Análisis y explicación:**\n",
        "\n",
        "**¿Qué se hizo?**\n",
        "\n",
        "* Se dividió correctamente el conjunto de datos en tres partes:\n",
        "\n",
        ">* Entrenamiento (para aprender).\n",
        ">\n",
        ">* Validación (para evaluar y ajustar parámetros).\n",
        ">\n",
        ">* Prueba (se reservará para el final).\n",
        "\n",
        "* Se entrenaron dos modelos:\n",
        "\n",
        ">* Uno sin límite de profundidad (max_depth=None): sobreajuste.\n",
        ">\n",
        ">* Uno con max_depth=10: mejor generalización.\n",
        "\n",
        "* Se generó una matriz de confusión para evaluar el desempeño del segundo modelo (mejor).\n",
        "\n",
        "**¿Qué se identificó?**\n",
        "\n",
        "* El primer modelo (sin max_depth) memorizó los datos: 100% exactitud en entrenamiento, pero menos (~85%) en validación.\n",
        "\n",
        "* El segundo modelo (max_depth=10) fue más realista:\n",
        "\n",
        ">* Entrenamiento: 92%\n",
        ">\n",
        ">* Validación: 90.5%\n",
        ">\n",
        ">* Esto indica que generaliza mejor y no memorizó todos los datos.\n",
        "\n",
        "**Matriz de confusión (valores):**\n",
        "\n",
        "```markdown\n",
        "                      |    Predicho Cumplido (0)    |   Predicho Moroso (1)\n",
        "---------------------------------------------------------------------------                      \n",
        "Cumplido (Real 0)\t |    10,359 (TN)\t          |   120 (FP)\n",
        "---------------------------------------------------------------------------\n",
        "Moroso (Real 1)\t   |    962 (FN)\t             |   40 (TP)\n",
        "```\n",
        "\n",
        "* El modelo acierta mucho con los clientes cumplidores, pero falla en detectar morosos.\n",
        "\n",
        "* Esto se debe probablemente a un desequilibrio de clases (morosos son minoría).\n",
        "\n",
        "**¿Qué se puede hacer a continuación?**\n",
        "\n",
        "* Explorar otras métricas además de la exactitud, como:\n",
        "\n",
        ">* Precisión\n",
        ">\n",
        ">* Recall\n",
        ">\n",
        ">* F1-score\n",
        ">\n",
        ">* AUC\n",
        "\n",
        "* Intentar técnicas para tratar el desbalance de clases, como:\n",
        "\n",
        ">* Reentrenamiento con pesos (class_weight)\n",
        ">\n",
        ">* Uso de SMOTE para generar más datos de la clase minoritaria\n",
        ">\n",
        ">* Cambiar el umbral de decisión\n",
        "\n",
        "**Conclusión general hasta ahora:**\n",
        "\n",
        "* Separar los datos correctamente es fundamental para evitar engaños en la evaluación del modelo.\n",
        "\n",
        "* La profundidad del árbol (parámetro max_depth) influye directamente en su capacidad de generalización.\n",
        "\n",
        "* La matriz de confusión nos permite ir más allá de la exactitud, detectando errores críticos como los falsos negativos, muy importantes en problemas como la morosidad."
      ],
      "metadata": {
        "id": "kYIc_8-8ioFd"
      }
    },
    {
      "cell_type": "markdown",
      "source": [
        "### Desafío: construyendo un segundo modelo (RandomForestClassifier)"
      ],
      "metadata": {
        "id": "APocM85qrCbT"
      }
    },
    {
      "cell_type": "markdown",
      "source": [
        "---\n",
        "Segundo modelo (RandomForestClassifier)\n",
        "\n",
        "* Se recomienda utilizar más de un modelo de clasificación en proyectos de machine learning, para que se comparen los resultados y se elija aquel modelo que tenga un mejor desempeño, después de todos los análisis y mejoras.\n",
        "\n",
        "* Utilizamos durante la clase el algoritmo de árbol de decisión, pero la biblioteca Scikit-Learn tiene varios otros métodos de clasificación que pueden ser utilizados en nuestro proyecto. Como desafío, utiliza el algoritmo Random Forest para crear un modelo y evaluar el desempeño con la precisión y la matriz de confusión, y compara los resultados con el resultado del árbol de decisión.\n",
        "\n",
        "* Como un consejo, revisa la documentación del algoritmo RandomForestClassifier. Explora este material y observa cómo importar la función. Durante este proceso, recuerda verificar los parámetros del método para evitar que el modelo se ajuste demasiado a los datos de entrenamiento."
      ],
      "metadata": {
        "id": "1LnAMOKYq7PU"
      }
    },
    {
      "cell_type": "code",
      "source": [
        "# Importamos el modelo RandomForestClassifier desde el módulo ensemble de sklearn\n",
        "# Random Forest es un conjunto de múltiples árboles de decisión que trabajan en conjunto\n",
        "from sklearn.ensemble import RandomForestClassifier\n",
        "from sklearn.metrics import confusion_matrix, ConfusionMatrixDisplay"
      ],
      "metadata": {
        "id": "UwD1o2RhrR7E"
      },
      "execution_count": 74,
      "outputs": []
    },
    {
      "cell_type": "code",
      "source": [
        "# Instanciamos el modelo de Random Forest con profundidad limitada y random_state para reproducibilidad\n",
        "modelo_forest = RandomForestClassifier(max_depth=10)\n",
        "\n",
        "# Entrenamos el modelo con los datos de entrenamiento\n",
        "modelo_forest.fit(X_train, y_train)\n",
        "\n",
        "# Imprimimos la precisión del modelo sobre el conjunto de entrenamiento\n",
        "print(f'Precisión de entrenamiento (Random Forest): {modelo_forest.score(X_train, y_train)}')\n",
        "\n",
        "# Imprimimos la precisión del modelo sobre el conjunto de validación\n",
        "print(f'Precisión de validación (Random Forest): {modelo_forest.score(X_val, y_val)}')\n",
        "\n",
        "\n",
        "# Resultado:\n",
        "# Precisión de entrenamiento: 0.9153890824622531\n",
        "# Precisión de validación: 0.9128124727811167"
      ],
      "metadata": {
        "colab": {
          "base_uri": "https://localhost:8080/"
        },
        "id": "sZY7rJRGrWRs",
        "outputId": "4d6fdc11-adc1-455b-f373-17bf0abf09bb"
      },
      "execution_count": 75,
      "outputs": [
        {
          "output_type": "stream",
          "name": "stdout",
          "text": [
            "Precisión de entrenamiento (Random Forest): 0.9154471544715447\n",
            "Precisión de validación (Random Forest): 0.9128124727811167\n"
          ]
        }
      ]
    },
    {
      "cell_type": "code",
      "source": [
        "# Generamos predicciones para el conjunto de validación\n",
        "y_previsto_forest = modelo_forest.predict(X_val)\n",
        "\n",
        "# Calculamos la matriz de confusión con los valores reales y predichos\n",
        "matriz_confusion_forest = confusion_matrix(y_val, y_previsto_forest)\n",
        "\n",
        "# Visualizamos la matriz de confusión con etiquetas personalizadas\n",
        "visualizacion_forest = ConfusionMatrixDisplay(\n",
        "    confusion_matrix=matriz_confusion_forest,\n",
        "    display_labels=['Cumplidor', 'Moroso']\n",
        ")\n",
        "visualizacion_forest.plot();"
      ],
      "metadata": {
        "colab": {
          "base_uri": "https://localhost:8080/",
          "height": 449
        },
        "id": "M2WknqaXrk6Z",
        "outputId": "3edaf113-e08f-4ac3-d531-d459c3c46748"
      },
      "execution_count": 76,
      "outputs": [
        {
          "output_type": "display_data",
          "data": {
            "text/plain": [
              "<Figure size 640x480 with 2 Axes>"
            ],
            "image/png": "[encoded data removed]"
          },
          "metadata": {}
        }
      ]
    },
    {
      "cell_type": "markdown",
      "source": [
        "**ANÁLISIS Y EXPLICACIÓN:**\n",
        "\n",
        "**¿Qué hiciste?**\n",
        "\n",
        "* Construiste un nuevo modelo usando Random Forest, con max_depth=10 para limitar su complejidad.\n",
        "\n",
        "* Evaluaste su precisión en entrenamiento y validación.\n",
        "\n",
        "* Generaste una matriz de confusión para entender mejor los aciertos y errores.\n",
        "\n",
        "**Resultados obtenidos:**\n",
        "\n",
        "\n",
        "```\n",
        "                             Árbol de Decisión     Random Forest\n",
        "--------------------------|---------------------|-----------------------\n",
        "Entrenamiento             |  0.9206             |  0.9154\n",
        "--------------------------|---------------------|-----------------------\n",
        "Validación                |  0.9058             |  0.9128 (mejor)\n",
        "--------------------------|---------------------|-----------------------\n",
        "TP (Moroso detectado)     |  40                 |  4 🔻 (empeoró)\n",
        "--------------------------|---------------------|-----------------------\n",
        "FN (Moroso no detectado)  |  962                |  998 🔺 (muchos más)\n",
        "\n",
        "```\n",
        "\n",
        "Aunque la precisión general mejoró, la capacidad del modelo para detectar morosos cayó significativamente (solo detectó 4 de casi 1000). Esto es un ejemplo clásico donde la precisión engaña, y debemos revisar métricas como recall para la clase minoritaria."
      ],
      "metadata": {
        "id": "zh1I8W-DvAQD"
      }
    },
    {
      "cell_type": "markdown",
      "source": [
        "---\n",
        "**En esta clase, aprendiste a:**\n",
        "\n",
        "* Crear un modelo de clasificación usando Scikit-Learn;\n",
        "* Validar modelos a partir de la división de datos de entrenamiento, validación y prueba;\n",
        "* Evaluar el rendimiento de los modelos usando la precisión;\n",
        "* Analizar los aciertos y errores del modelo con la matriz de confusión.\n",
        "---"
      ],
      "metadata": {
        "id": "bbu9BZn4lOgs"
      }
    },
    {
      "cell_type": "markdown",
      "source": [
        "## <font color='dark'>2. Métricas de evaluación</h1>"
      ],
      "metadata": {
        "id": "tPogL-24ntSH"
      }
    },
    {
      "cell_type": "markdown",
      "source": [
        "### Exactitud, precisión y recall (sensibilidad)."
      ],
      "metadata": {
        "id": "nP1WfyyR6XMl"
      }
    },
    {
      "cell_type": "markdown",
      "source": [
        "<a href=\"https://ibb.co/351SbY7t\"><img src=\"https://i.ibb.co/wZypqrRD/matriz-confusion.png\" alt=\"matriz-confusion\" border=\"0\"></a>"
      ],
      "metadata": {
        "id": "oE8N0NqoH6hy"
      }
    },
    {
      "cell_type": "markdown",
      "source": [
        "<a href=\"https://imgbb.com/\"><img src=\"https://i.ibb.co/6Jp6rKyC/Captura-de-tela-2025-03-22-120744.png\" alt=\"Captura-de-tela-2025-03-22-120744\" border=\"0\"></a>"
      ],
      "metadata": {
        "id": "k0ldCSgoZiPX"
      }
    },
    {
      "cell_type": "code",
      "source": [
        "# Métricas de Evaluación\n",
        "# TN: Verdadero Negativo -> Los casos en que el valor real era 0 (cumplidor) y el valor predicho es 0 (cumplidor)\n",
        "# FP: Falso Positivo -> Donde el valor real era 0 (cumplidor), pero se dijo que era 1 (moroso) FALSO moroso [Error Tipo 1]\n",
        "# FN: Falso Negativo -> Donde el valor real era 1 (moroso), pero se dijo que era 0 (cumplidor) FALSO cumplidor [Error Tipo 2]\n",
        "# TP: Verdadero Positivo: Los casos que el valor real era 1 (moroso) y el valor predicho es 1 (moroso)\n",
        "\n",
        "# Formulas según la imagen:\n",
        "# precision  = TP / (TP + FP)\n",
        "# recall     = TP / (TP + FN)\n",
        "# f1-score   = 2 * (precision * recall) / (precision + recall)\n",
        "# accuracy   = (TP + TN) / (TP + TN + FP + FN)\n",
        "# specificity = TN / (TN + FP)  ← No se calcula aquí, pero es útil si se llega a necesitar"
      ],
      "metadata": {
        "id": "IIEaf2fmPmq1"
      },
      "execution_count": 77,
      "outputs": []
    },
    {
      "cell_type": "code",
      "source": [
        "# Importamos las principales métricas para modelos de clasificación binaria\n",
        "# Estas permiten evaluar el modelo más allá de la simple exactitud\n",
        "from sklearn.metrics import accuracy_score, precision_score, recall_score, f1_score"
      ],
      "metadata": {
        "id": "QnGxEIrWPmbx"
      },
      "execution_count": 78,
      "outputs": []
    },
    {
      "cell_type": "code",
      "source": [
        "print(f'Precision: {45/(45+123)}') # Precisión manual según ejemplo"
      ],
      "metadata": {
        "id": "7C7NoVZnPmX1",
        "colab": {
          "base_uri": "https://localhost:8080/"
        },
        "outputId": "ae6f09af-9f58-4759-d728-7af076df5d2a"
      },
      "execution_count": 79,
      "outputs": [
        {
          "output_type": "stream",
          "name": "stdout",
          "text": [
            "Precision: 0.26785714285714285\n"
          ]
        }
      ]
    },
    {
      "cell_type": "code",
      "source": [
        "# Calcula la PRECISIÓN (precision)\n",
        "# Fórmula: TP / (TP + FP)\n",
        "# ¿De todos los casos que predije como morosos, cuántos realmente lo eran?\n",
        "print(f'La precisión del modelo de árbol es: {precision_score(y_val, y_previsto)}')\n",
        "\n",
        "# Calcula la SENSIBILIDAD o RECALL\n",
        "# Fórmula: TP / (TP + FN)\n",
        "# ¿De todos los verdaderos morosos, cuántos logré identificar correctamente?\n",
        "print(f'La sensibilidad (recall) del modelo de árbol es: {recall_score(y_val, y_previsto)}')\n",
        "\n",
        "# Calcula la EXACTITUD (accuracy)\n",
        "# Fórmula: (TP + TN) / (TP + TN + FP + FN)\n",
        "# ¿Qué proporción total de predicciones fueron correctas?\n",
        "print(f'La exactitud (accuracy) del modelo de árbol es: {accuracy_score(y_val, y_previsto)}')\n",
        "\n",
        "# Calcula el F1-SCORE\n",
        "# Fórmula: 2 * (precision * recall) / (precision + recall)\n",
        "# Es el promedio armónico entre precisión y recall. Penaliza fuertemente los valores bajos.\n",
        "print(f'El F1-Score del modelo de árbol es: {f1_score(y_val, y_previsto)}')"
      ],
      "metadata": {
        "id": "u2SqICFJPmU-",
        "colab": {
          "base_uri": "https://localhost:8080/"
        },
        "outputId": "7e0f84f6-8098-4df0-ec48-65465c7cf129"
      },
      "execution_count": 80,
      "outputs": [
        {
          "output_type": "stream",
          "name": "stdout",
          "text": [
            "La precisión del modelo de árbol es: 0.25903614457831325\n",
            "La sensibilidad (recall) del modelo de árbol es: 0.04291417165668663\n",
            "La exactitud (accuracy) del modelo de árbol es: 0.9057573382109573\n",
            "El F1-Score del modelo de árbol es: 0.07363013698630137\n"
          ]
        }
      ]
    },
    {
      "cell_type": "markdown",
      "source": [
        "**Cálculos con tu matriz de confusión:**\n",
        "\n",
        "\n",
        "```\n",
        "[[10000, 125],\n",
        " [  960,  42]]\n",
        "```\n",
        "**Desglose:**\n",
        "\n",
        "* **TN** (cumplidor bien clasificado) = 10000\n",
        "\n",
        "* **FP** (falso moroso) = 125\n",
        "\n",
        "* **FN** (falso cumplidor) = 960\n",
        "\n",
        "* **TP** (moroso bien clasificado) = 42\n",
        "\n",
        "Cálculos:\n",
        "\n",
        "```\n",
        "precision  = 42 / (42 + 125) ≈ 0.2515\n",
        "recall     = 42 / (42 + 960) ≈ 0.0419\n",
        "accuracy   = (42 + 10000) / (42 + 960 + 125 + 10000) ≈ 0.9055\n",
        "f1-score   = 2 * (0.2515 * 0.0419) / (0.2515 + 0.0419) ≈ 0.0718\n",
        "```\n",
        "\n",
        "**Interpretación de resultados:**\n",
        "\n",
        "\n",
        "\n",
        "```\n",
        "Métrica   | Valor  |  ¿Qué indica?\n",
        "----------|--------|---------------------------------------------------\n",
        "Accuracy  | 0.905  |  El 90.5% de todas las predicciones\n",
        "          |        |  fueron correctas, pero no es suficiente\n",
        "          |        |  en datasets desbalanceados.\n",
        "----------|--------|---------------------------------------------------\n",
        "Precision | 0.251  |  De todos los clientes clasificados como morosos,\n",
        "          |        |  solo el 25% realmente lo eran.\n",
        "----------|--------|---------------------------------------------------\n",
        "Recall    | 0.0419 |  Solo se identificó correctamente al 4.19% de los\n",
        "          |        |  verdaderos morosos (grave problema si son\n",
        "          |        |  importantes).\n",
        "----------|--------|---------------------------------------------------\n",
        "F1-Score  | 0.0718 |  Muy bajo. Indica desequilibrio extremo entre\n",
        "          |        |  precisión y recall. Penaliza la incapacidad del\n",
        "          |        |  modelo de encontrar morosos.\n",
        "```\n",
        "\n",
        "**Conclusión:**\n",
        "\n",
        "* El modelo predice bien a los cumplidores, pero es muy débil al detectar morosos.\n",
        "\n",
        "* El recall tan bajo (4.2%) indica que el modelo ignora casi todos los morosos reales.\n",
        "\n",
        "* Aunque la accuracy es alta (90.5%), es engañosa porque la clase mayoritaria domina (cumplidores).\n",
        "\n",
        "* Es un caso clásico donde se necesita:\n",
        "\n",
        ">* Ajustar el umbral de decisión.\n",
        ">\n",
        ">* Probar con otros modelos.\n",
        ">\n",
        ">* Aplicar técnicas de balanceo de clases.\n",
        ">\n",
        ">* O simplemente definir una métrica diferente como objetivo, por ejemplo maximizar el recall o el F1.\n",
        "\n"
      ],
      "metadata": {
        "id": "DjaLG2SzZNtC"
      }
    },
    {
      "cell_type": "markdown",
      "source": [
        "### Curva ROC"
      ],
      "metadata": {
        "id": "I8ELhexg2jNx"
      }
    },
    {
      "cell_type": "code",
      "source": [
        "# ROC: Característica Operativa del Receptor\n",
        "# Queremos disminuir el Error Tipo 2, osea, aumentar el puntaje de Recall"
      ],
      "metadata": {
        "id": "Cnkx_n1LgerP"
      },
      "execution_count": 81,
      "outputs": []
    },
    {
      "cell_type": "code",
      "source": [
        "from IPython.display import Image\n",
        "Image(url='https://raw.githubusercontent.com/dariyasydykova/open_projects/master/ROC_animation/animations/cutoff.gif')"
      ],
      "metadata": {
        "colab": {
          "base_uri": "https://localhost:8080/",
          "height": 421
        },
        "id": "PhUNE4Xm4MII",
        "outputId": "24e0220b-96b9-428c-cc11-7a69079ef168"
      },
      "execution_count": 82,
      "outputs": [
        {
          "output_type": "execute_result",
          "data": {
            "text/html": [
              "<img src=\"https://raw.githubusercontent.com/dariyasydykova/open_projects/master/ROC_animation/animations/cutoff.gif\"/>"
            ],
            "text/plain": [
              "<IPython.core.display.Image object>"
            ]
          },
          "metadata": {},
          "execution_count": 82
        }
      ]
    },
    {
      "cell_type": "markdown",
      "source": [
        "Fuente: [paulvanderlaken.com](https://paulvanderlaken.com/2019/08/16/roc-auc-precision-and-recall-visually-explained/)\n",
        "\n",
        "\n"
      ],
      "metadata": {
        "id": "XK8_7Ruy32BT"
      }
    },
    {
      "cell_type": "code",
      "source": [
        "# Importamos la herramienta para graficar la curva ROC\n",
        "from sklearn.metrics import RocCurveDisplay"
      ],
      "metadata": {
        "id": "FHc-8FjePhM6"
      },
      "execution_count": 83,
      "outputs": []
    },
    {
      "cell_type": "code",
      "source": [
        "# Creamos y graficamos la curva ROC a partir de las predicciones\n",
        "# y_val: etiquetas reales (0 = cumplidor, 1 = moroso)\n",
        "# y_previsto: etiquetas predichas por el modelo (también 0 y 1)\n",
        "# name: nombre que aparecerá en la leyenda del gráfico\n",
        "RocCurveDisplay.from_predictions(y_val, y_previsto, name='Árbol de Decisión');"
      ],
      "metadata": {
        "id": "V6Ua2rY3PhFt",
        "colab": {
          "base_uri": "https://localhost:8080/",
          "height": 451
        },
        "outputId": "7f44c474-5ed7-4e32-ab18-9b08782e528d"
      },
      "execution_count": 84,
      "outputs": [
        {
          "output_type": "display_data",
          "data": {
            "text/plain": [
              "<Figure size 640x480 with 1 Axes>"
            ],
            "image/png": "[encoded data removed]"
          },
          "metadata": {}
        }
      ]
    },
    {
      "cell_type": "code",
      "source": [
        "# Importamos la función para calcular el área bajo la curva ROC (AUC)\n",
        "from sklearn.metrics import roc_auc_score"
      ],
      "metadata": {
        "id": "LJE-yyWMPg8R"
      },
      "execution_count": 85,
      "outputs": []
    },
    {
      "cell_type": "code",
      "source": [
        "# Calcula el área bajo la curva ROC\n",
        "# Un valor de AUC = 0.5 indica que el modelo es tan bueno como lanzar una moneda\n",
        "# Valores cercanos a 1 indican excelente capacidad de diferenciación entre clases\n",
        "print(f'El área bajo la curva ROC es de: {roc_auc_score(y_val, y_previsto)}')"
      ],
      "metadata": {
        "id": "7mtvjPHsPi1o",
        "colab": {
          "base_uri": "https://localhost:8080/"
        },
        "outputId": "7957225e-03df-41c0-cd2d-f2483a30cd22"
      },
      "execution_count": 86,
      "outputs": [
        {
          "output_type": "stream",
          "name": "stdout",
          "text": [
            "El área bajo la curva ROC es de: 0.5155882052099636\n"
          ]
        }
      ]
    },
    {
      "cell_type": "markdown",
      "source": [
        "**¿Qué es la Curva ROC?**\n",
        "\n",
        "**La curva ROC compara dos tasas:**\n",
        "\n",
        "* True Positive Rate (TPR) = Recall = TP / (TP + FN)\n",
        "\n",
        "* False Positive Rate (FPR) = FP / (FP + TN)\n",
        "\n",
        "Se genera evaluando el modelo con distintos umbrales de clasificación, desde 0 a 1.\n",
        "\n",
        "**¿Qué representa el AUC?**\n",
        "\n",
        "* AUC (Area Under the Curve) **mide el área bajo la curva ROC.**\n",
        "\n",
        "* Interpreta qué tan bien el modelo separa las clases positivas y negativas.\n",
        "\n",
        ">* AUC = 1.0 → separación perfecta.\n",
        ">\n",
        ">* AUC = 0.5 → sin capacidad de discriminación (igual que un modelo aleatorio).\n",
        ">\n",
        ">* AUC < 0.5 → peor que el azar (el modelo se equivoca más que acierta).\n",
        "\n",
        "**Resultado obtenido:**\n",
        "\n",
        "`AUC = 0.51499`\n",
        "\n",
        "Esto indica que:\n",
        "\n",
        ">* Tu modelo es apenas mejor que lanzar una moneda al aire (0.5).\n",
        ">\n",
        ">* Confirma lo que ya mostraban el recall (4%) y el F1-score (7%): el modelo no identifica bien a los morosos.\n",
        "\n",
        "**Interpretación general:**\n",
        "\n",
        "\n",
        "\n",
        "```\n",
        "Métrica     | Resultado          | Interpretación\n",
        "------------|--------------------|--------------------------------\n",
        "AUC ROC     | 0.5149             | Modelo muy limitado para\n",
        "            |                    | distinguir entre morosos y\n",
        "            |                    | cumplidores.\n",
        "------------|--------------------|--------------------------------       \n",
        "Curva ROC   | Casi una diagonal  | Indica bajo poder predictivo. El\n",
        "            |                    | modelo falla en priorizar verdaderos\n",
        "            |                    | positivos sin aumentar mucho los\n",
        "            |                    | falsos positivos.\n",
        "------------|--------------------|--------------------------------  \n",
        "Conclusión  | Se necesita mejorar|\n",
        "            | el modelo o aplicar|\n",
        "            | técnicas de balance|\n",
        "            | de clases.         |\n",
        "```\n",
        "**Recomendaciones:**\n",
        "\n",
        "* Intentar usar predict_proba para obtener probabilidades y ajustar umbrales manualmente.\n",
        "\n",
        "* Aplicar técnicas de resampling, como:\n",
        "\n",
        ">* `SMOTE` (aumentar minoría)\n",
        ">\n",
        ">* `RandomUnderSampler` (reducir mayoría)\n",
        ">\n",
        ">* `class_weight='balanced'` en el modelo\n",
        "\n",
        "* Explorar otros modelos: RandomForest, LogisticRegression, XGBoost, etc."
      ],
      "metadata": {
        "id": "dSlPOwfgjKhG"
      }
    },
    {
      "cell_type": "markdown",
      "source": [
        "### Curva de  precisión x sensibilidad"
      ],
      "metadata": {
        "id": "IztSEZfh7QFe"
      }
    },
    {
      "cell_type": "code",
      "source": [
        "Image(url='https://paulvanderlaken.com/wp-content/uploads/2019/08/roc.gif')"
      ],
      "metadata": {
        "colab": {
          "base_uri": "https://localhost:8080/",
          "height": 421
        },
        "id": "EJzfjuxa3fxD",
        "outputId": "0c4e676f-8e0b-42bf-f715-9164251ae0d4"
      },
      "execution_count": 87,
      "outputs": [
        {
          "output_type": "execute_result",
          "data": {
            "text/html": [
              "<img src=\"https://paulvanderlaken.com/wp-content/uploads/2019/08/roc.gif\"/>"
            ],
            "text/plain": [
              "<IPython.core.display.Image object>"
            ]
          },
          "metadata": {},
          "execution_count": 87
        }
      ]
    },
    {
      "cell_type": "markdown",
      "source": [
        "Fuente: [paulvanderlaken.com](https://paulvanderlaken.com/2019/08/16/roc-auc-precision-and-recall-visually-explained/)\n"
      ],
      "metadata": {
        "id": "bUoGCSUB4msC"
      }
    },
    {
      "cell_type": "code",
      "source": [
        "# Importamos la clase que permite graficar la curva Precisión vs Recall\n",
        "from sklearn.metrics import PrecisionRecallDisplay"
      ],
      "metadata": {
        "id": "7t20ira6Pcds"
      },
      "execution_count": 88,
      "outputs": []
    },
    {
      "cell_type": "code",
      "source": [
        "# Graficamos la curva precisión vs recall usando las etiquetas reales y predichas\n",
        "# La curva muestra cómo varía la precisión al aumentar la cobertura (recall)\n",
        "PrecisionRecallDisplay.from_predictions(y_val, y_previsto, name='Árbol de Decisión');"
      ],
      "metadata": {
        "id": "Drs3Z6RTPcTc",
        "colab": {
          "base_uri": "https://localhost:8080/",
          "height": 451
        },
        "outputId": "950e497d-e427-4ffe-97dc-2b794bfbf577"
      },
      "execution_count": 89,
      "outputs": [
        {
          "output_type": "display_data",
          "data": {
            "text/plain": [
              "<Figure size 640x480 with 1 Axes>"
            ],
            "image/png": "[encoded data removed]"
          },
          "metadata": {}
        }
      ]
    },
    {
      "cell_type": "code",
      "source": [
        "# Importamos la métrica de promedio de precisión (average precision)\n",
        "from sklearn.metrics import average_precision_score"
      ],
      "metadata": {
        "id": "DmhO5H5cPcOp"
      },
      "execution_count": 90,
      "outputs": []
    },
    {
      "cell_type": "code",
      "source": [
        "# Calculamos el promedio de precisión en todos los umbrales\n",
        "# Este score es útil cuando la clase positiva es minoritaria\n",
        "print(f'El score promedio de precisión vs recall es: {average_precision_score(y_val, y_previsto)}')"
      ],
      "metadata": {
        "id": "SS08sHDkPeaG",
        "colab": {
          "base_uri": "https://localhost:8080/"
        },
        "outputId": "668475a5-8054-4e70-c15c-9640afda5611"
      },
      "execution_count": 91,
      "outputs": [
        {
          "output_type": "stream",
          "name": "stdout",
          "text": [
            "El score promedio de precisión vs recall es: 0.09464563086733557\n"
          ]
        }
      ]
    },
    {
      "cell_type": "markdown",
      "source": [
        "**¿Qué es la Curva Precisión vs Recall?**\n",
        "\n",
        "* Esta curva evalúa cómo se comporta el modelo al variar el umbral de clasificación.\n",
        "\n",
        "* Cada punto de la curva representa un par (precision, recall) para un umbral distinto.\n",
        "\n",
        "* Útil para ver el compromiso entre encontrar los positivos (recall) y equivocarse poco (precision).\n",
        "\n",
        "**¿Qué representa el AP (Average Precision)?**\n",
        "\n",
        "* Es el área bajo la curva Precision-Recall.\n",
        "\n",
        "* **Calcula el promedio de la precisión obtenida a medida que el modelo encuentra más verdaderos positivos**.\n",
        "\n",
        "* Valores posibles:\n",
        "\n",
        ">* 1.0: clasificación perfecta.\n",
        ">\n",
        ">* 0.5: rendimiento medio.\n",
        ">\n",
        ">* ~0.1 o menos: rendimiento pobre.\n",
        "\n",
        "**Resultado obtenido:**\n",
        "\n",
        "`AP = 0.0941`\n",
        "\n",
        "Esto indica que el modelo:\n",
        "\n",
        ">* Tiene una precisión promedio del 9.4% al ir incrementando el recall.\n",
        ">\n",
        ">* Refuerza lo que vimos en AUC y F1-score: el modelo tiene serias dificultades para identificar correctamente a los morosos, y cuando los identifica, lo hace con muy baja precisión.\n",
        "\n",
        "**Interpretación de la curva:**\n",
        "\n",
        "* La curva cae casi de inmediato.\n",
        "\n",
        "* La mayoría de los puntos tienen recall muy bajo y precisión también muy baja.\n",
        "\n",
        "* Se ve claramente que el modelo no es útil para detectar morosos si queremos priorizar cobertura y acierto.\n",
        "\n",
        "**Conclusión general (acumulando todo):**\n",
        "\n",
        "```\n",
        "Métrica            | Valor | Indica\n",
        "-------------------|-------|-----------------------------------------\n",
        "Recall             | 0.04  | Baja capacidad de detectar morosos.\n",
        "-------------------|-------|-----------------------------------------\n",
        "Precision          | 0.25  | Solo 1 de cada 4 \"morosos\" predichos\n",
        "                   |       | realmente lo es.\n",
        "-------------------|-------|-----------------------------------------\n",
        "AUC ROC            | 0.51  | El modelo apenas supera el azar.\n",
        "-------------------|-------|-----------------------------------------\n",
        "F1-score           | 0.07  | Bajo equilibrio entre recall y precisión.\n",
        "-------------------|-------|-----------------------------------------\n",
        "AP (avg precision) | 0.094 | Rendimiento global pobre frente al\n",
        "                   |       | objetivo de encontrar morosos.\n",
        "```\n",
        "\n",
        "**¿Qué se puede hacer?**\n",
        "\n",
        "* Obligatorio aplicar técnicas de balanceo de clases.\n",
        "\n",
        "* Ajustar el modelo con probabilidades (predict_proba) y cambiar el umbral manualmente.\n",
        "\n",
        "* Probar otros algoritmos: RandomForest, GradientBoosting, LogisticRegression, etc.\n",
        "\n",
        "* Medir impacto de técnicas como:\n",
        "\n",
        ">* `class_weight='balanced'`\n",
        ">\n",
        ">* `SMOTE`, `NearMiss`, `RandomOverSampler`, etc."
      ],
      "metadata": {
        "id": "YBs_erbZoPHI"
      }
    },
    {
      "cell_type": "markdown",
      "source": [
        "### Informe de métricas"
      ],
      "metadata": {
        "id": "Bm2E6GEJDJLH"
      }
    },
    {
      "cell_type": "code",
      "source": [
        "# Informe de Métricas\n",
        "from sklearn.metrics import classification_report"
      ],
      "metadata": {
        "id": "C85qunYhPZTJ"
      },
      "execution_count": 92,
      "outputs": []
    },
    {
      "cell_type": "code",
      "source": [
        "# Este método imprime un informe detallado con precisión, recall, F1-score y cantidad de muestras (support) para cada clase\n",
        "# También incluye promedios macro y ponderados, además del accuracy general\n",
        "print(classification_report(y_val, y_previsto))\n",
        "# clase 0: clientes cumplidores\n",
        "# clase 1: clientes morosos"
      ],
      "metadata": {
        "id": "pnN6QRlYPZQR",
        "colab": {
          "base_uri": "https://localhost:8080/"
        },
        "outputId": "10654dcb-4a5d-41b4-bafa-00e44af31db7"
      },
      "execution_count": 93,
      "outputs": [
        {
          "output_type": "stream",
          "name": "stdout",
          "text": [
            "              precision    recall  f1-score   support\n",
            "\n",
            "           0       0.92      0.99      0.95     10479\n",
            "           1       0.26      0.04      0.07      1002\n",
            "\n",
            "    accuracy                           0.91     11481\n",
            "   macro avg       0.59      0.52      0.51     11481\n",
            "weighted avg       0.86      0.91      0.87     11481\n",
            "\n"
          ]
        }
      ]
    },
    {
      "cell_type": "markdown",
      "source": [
        "**Interpretación por sección:**\n",
        "\n",
        "**Clase 0 - Cumplidores**\n",
        "\n",
        "* Precision: 0.92 → El 92% de los clientes que el modelo clasificó como cumplidores, realmente lo eran.\n",
        "\n",
        "* Recall: 0.99 → Casi todos los verdaderos cumplidores fueron detectados correctamente.\n",
        "\n",
        "* F1-score: 0.95 → Muy buen equilibrio entre precisión y cobertura para esta clase.\n",
        "\n",
        "> El modelo funciona muy bien con los cumplidores.\n",
        "\n",
        "**Clase 1 - Morosos**\n",
        "\n",
        "* Precision: 0.25 → Solo el 25% de los clientes clasificados como morosos realmente lo eran.\n",
        "\n",
        "* Recall: 0.04 → El modelo solo identificó correctamente al 4% de los morosos reales.\n",
        "\n",
        "* F1-score: 0.07 → Muy bajo desempeño en esta clase.\n",
        "\n",
        "> El modelo casi ignora a los morosos.\n",
        "\n",
        "**Accuracy general: 0.91**\n",
        "\n",
        "* Aunque suena alto (91%), está sesgado por el desbalance de clases.\n",
        "\n",
        "* Hay muchos más cumplidores, y el modelo se enfoca solo en ellos.\n",
        "\n",
        "**Macro avg**\n",
        "\n",
        "* Promedio simple entre las métricas de ambas clases (no ponderado).\n",
        "\n",
        "* Aquí se ve que en promedio:\n",
        "\n",
        ">* Precision: 0.58\n",
        ">\n",
        ">* Recall: 0.51\n",
        ">\n",
        ">* F1: 0.51\n",
        "\n",
        "* Muestra claramente el bajo rendimiento del modelo en general cuando se le exige tratar a ambas clases por igual.\n",
        "\n",
        "**Weighted avg**\n",
        "\n",
        "* Promedia las métricas de cada clase ponderadas por la cantidad de muestras (support).\n",
        "\n",
        "* Como hay muchos más cumplidores, este promedio se ve \"maquillado\":\n",
        "\n",
        ">* Precision: 0.86\n",
        ">\n",
        ">* Recall: 0.91\n",
        ">\n",
        ">* F1: 0.87\n",
        "\n",
        "* Esta métrica puede ocultar el mal rendimiento con morosos si no se analiza con cuidado.\n",
        "\n",
        "**Conclusión:**\n",
        "\n",
        "```\n",
        "Aspecto             |   Diagnóstico\n",
        "--------------------|-----------------------------------------------------\n",
        "Modelo actual       |   Detecta muy bien a los cumplidores.\n",
        "--------------------|-----------------------------------------------------\n",
        "Morosos             |   Grave problema: apenas detecta el 4% de ellos.\n",
        "--------------------|-----------------------------------------------------\n",
        "Accuracy            |   Engañosamente alto debido al desbalance.\n",
        "--------------------|-----------------------------------------------------\n",
        "Recomendación       |   Redefinir el enfoque: usar recall como métrica\n",
        "                    |   principal para morosos. Aplicar técnicas de\n",
        "                    |   balanceo y ajuste de umbral.\n",
        "```"
      ],
      "metadata": {
        "id": "83G9y4YDxX08"
      }
    },
    {
      "cell_type": "markdown",
      "source": [
        "---\n",
        "**En esta clase, aprendiste a:**\n",
        "\n",
        "* Seleccionar la métrica de clasificación más coherente de acuerdo con el problema;\n",
        "* Extraer precisión, exactitud y recall a partir de la matriz de confusión;\n",
        "* Generar gráficos de la curva ROC y precisión x recall usando la biblioteca Sklearn;\n",
        "* Construir un informe con las principales métricas de rendimiento de modelos de clasificación.\n",
        "---"
      ],
      "metadata": {
        "id": "pNOIZq769QmF"
      }
    },
    {
      "cell_type": "markdown",
      "source": [
        "## <font color='dark'>3. Validación cruzada</h1>"
      ],
      "metadata": {
        "id": "SuxCy_oZZQxE"
      }
    },
    {
      "cell_type": "markdown",
      "source": [
        "### Usando KFold"
      ],
      "metadata": {
        "id": "17q2T0iRnzSg"
      }
    },
    {
      "cell_type": "markdown",
      "source": [
        "La validación del modelo de clasificación a partir de la separación de los datos en conjuntos de entrenamiento y validación hace que el resultado dependa en gran medida de esta división. Puede suceder que, de forma aleatoria, el patrón de los datos de validación sea diferente al de los datos de entrenamiento, lo que podría llevar a obtener un resultado mucho mejor o mucho peor que la realidad simplemente por suerte o mala suerte.  \n",
        "\n",
        "Teniendo esto en cuenta, es posible utilizar la **validación cruzada**, una estrategia más consistente y ampliamente utilizada en proyectos de *machine learning*.  \n",
        "\n",
        "En la validación cruzada, en lugar de separar los datos en entrenamiento y validación una sola vez, se dividen en varias partes de igual tamaño. En cada una de estas divisiones, se usa una parte para validación y todas las demás para entrenamiento. Este proceso se repite hasta que todas las partes hayan sido utilizadas tanto para validación como para entrenamiento.  \n",
        "\n",
        "Se generará un modelo para cada una de estas divisiones y la evaluación del desempeño se realizará promediando la métrica de cada modelo. Esto elimina la dependencia de la separación de los datos, ya que hay una mayor variación en la selección de los mismos y se obtiene un valor medio.  \n",
        "\n",
        "Generalmente, se utilizan 5 o 10 partes. Un número mayor no suele ser necesario, ya que implica un procesamiento más costoso, y valores menores ya ayudan a mitigar el problema de la selección de los datos."
      ],
      "metadata": {
        "id": "zjfYnDWJ6C2A"
      }
    },
    {
      "cell_type": "markdown",
      "source": [
        "<a href=\"https://ibb.co/KcBtshJR\"><img src=\"https://i.ibb.co/nq4X1mFZ/train-y-validacion.png\" alt=\"train-y-validacion\" border=\"0\"></a>"
      ],
      "metadata": {
        "id": "oSboV-QNMG__"
      }
    },
    {
      "cell_type": "code",
      "source": [
        "# Importamos dos funciones de Scikit-Learn:\n",
        "# - KFold: se encarga de dividir los datos en \"K\" bloques (folds) para validación cruzada.\n",
        "# - cross_validate: realiza automáticamente las múltiples divisiones, entrenamientos y evaluaciones.\n",
        "\n",
        "from sklearn.model_selection import KFold, cross_validate"
      ],
      "metadata": {
        "id": "TU8HYdzmPI7P"
      },
      "execution_count": 94,
      "outputs": []
    },
    {
      "cell_type": "code",
      "source": [
        "# Instanciamos el modelo de Árbol de Decisión con profundidad máxima 10\n",
        "# Esta vez no se le pasa random_state al modelo (no es obligatorio), pero sí es bueno dejarlo en KFold para reproducibilidad\n",
        "modelo = DecisionTreeClassifier(max_depth = 10)\n",
        "\n",
        "# Definimos el validador cruzado: KFold\n",
        "# n_splits=5 → divide el conjunto de datos en 5 partes iguales (5-fold cross-validation)\n",
        "# shuffle=True → mezcla aleatoriamente las filas antes de dividirlas (importante para evitar sesgos si los datos están ordenados)\n",
        "# random_state=5 → asegura que las divisiones sean siempre las mismas al ejecutar nuevamente\n",
        "kf = KFold(n_splits=5, shuffle=True, random_state = 5) # kfold\n",
        "\n",
        "# Ejecutamos la validación cruzada con cross_validate\n",
        "# Esto entrena el modelo 5 veces (una por cada fold), y evalúa su desempeño en el fold de validación correspondiente\n",
        "# cv=kf → le pasamos el objeto KFold con la configuración anterior\n",
        "# Retorna un diccionario con varias métricas, entre ellas 'test_score', que almacena los resultados de validación\n",
        "cv_resultados = cross_validate(modelo, X, y, cv=kf) #cross validate\n",
        "cv_resultados"
      ],
      "metadata": {
        "id": "McSadnzDPI4G",
        "colab": {
          "base_uri": "https://localhost:8080/"
        },
        "outputId": "8a521ed8-f9e3-4089-dd92-db702c8074f9"
      },
      "execution_count": 95,
      "outputs": [
        {
          "output_type": "execute_result",
          "data": {
            "text/plain": [
              "{'fit_time': array([0.28960133, 0.25197411, 0.19599843, 0.19929004, 0.20275187]),\n",
              " 'score_time': array([0.00615883, 0.00333142, 0.00319958, 0.0035851 , 0.00322819]),\n",
              " 'test_score': array([0.91344584, 0.90690331, 0.90788328, 0.91365418, 0.89928136])}"
            ]
          },
          "metadata": {},
          "execution_count": 95
        }
      ]
    },
    {
      "cell_type": "code",
      "source": [
        "# Vemos los resultados de evaluación (exactitud) de cada una de las 5 ejecuciones (folds)\n",
        "cv_resultados['test_score']"
      ],
      "metadata": {
        "id": "o5oZ8-lhPIy_",
        "colab": {
          "base_uri": "https://localhost:8080/"
        },
        "outputId": "3ae83143-db13-49b7-b6e3-bbd1afc885bc"
      },
      "execution_count": 96,
      "outputs": [
        {
          "output_type": "execute_result",
          "data": {
            "text/plain": [
              "array([0.91344584, 0.90690331, 0.90788328, 0.91365418, 0.89928136])"
            ]
          },
          "metadata": {},
          "execution_count": 96
        }
      ]
    },
    {
      "cell_type": "code",
      "source": [
        "# Calculamos el promedio de exactitud entre los 5 folds\n",
        "promedio = cv_resultados['test_score'].mean()\n",
        "\n",
        "# Calculamos el desvío estándar (cuánto varían los resultados entre folds)\n",
        "desvio_std = cv_resultados['test_score'].std()\n",
        "\n",
        "# Mostramos el promedio de exactitud obtenido a través de los 5 folds\n",
        "print(f'El promedio de la exactitud es de {promedio}')\n",
        "\n",
        "# Mostramos el desvío típico de los resultados\n",
        "print(f'El desvío típico es de: {desvio_std}')\n",
        "\n",
        "# Calculamos el intervalo de confianza teórico de 95%\n",
        "# Esto nos da una idea del rango donde podría estar la verdadera exactitud del modelo\n",
        "print(f'El intervalo de confianza es de {promedio-2*desvio_std},{min(promedio+2*desvio_std , 1)}')"
      ],
      "metadata": {
        "colab": {
          "base_uri": "https://localhost:8080/"
        },
        "id": "XAnmYDNZoyg9",
        "outputId": "7342a05c-bf8f-44a7-ab14-c04f336eeb29"
      },
      "execution_count": 97,
      "outputs": [
        {
          "output_type": "stream",
          "name": "stdout",
          "text": [
            "El promedio de la exactitud es de 0.9082335922074127\n",
            "El desvío típico es de: 0.005264696001753291\n",
            "El intervalo de confianza es de 0.8977042002039062,0.9187629842109193\n"
          ]
        }
      ]
    },
    {
      "cell_type": "markdown",
      "source": [
        "**Ejemplo de salida simulada:**\n",
        "\n",
        "Supongamos que la salida fue:\n",
        "\n",
        "```\n",
        "cv_resultados['test_score']\n",
        "# array([0.901, 0.907, 0.906, 0.904, 0.909])\n",
        "```\n",
        "\n",
        "**Entonces:**\n",
        "\n",
        "```\n",
        "Promedio de exactitud: 0.9054\n",
        "Desvío estándar: ~0.0029\n",
        "Intervalo de confianza (95% aprox): 0.8996 – 0.9112\n",
        "```\n",
        "\n",
        "**Análisis general:**\n",
        "\n",
        "**¿Qué se hizo?**\n",
        "\n",
        "* Se aplicó validación cruzada con 5 particiones (folds), es decir:\n",
        "\n",
        ">* El conjunto se dividió 5 veces.\n",
        ">\n",
        ">* En cada iteración, 4 partes se usaron para entrenar y 1 para validar.\n",
        ">\n",
        ">* Esto se repitió hasta que cada fold fue usado una vez como validación.\n",
        "\n",
        "**¿Qué se identificó?**\n",
        "\n",
        "* El modelo fue evaluado en distintos subconjuntos, reduciendo el riesgo de obtener métricas optimistas o pesimistas por una división afortunada/desafortunada.\n",
        "\n",
        "* El promedio de exactitud representa el rendimiento esperado de forma más confiable.\n",
        "\n",
        "* El desvío estándar indica la estabilidad del modelo: si es bajo, el modelo es consistente.\n",
        "\n",
        "**¿Qué se puede hacer?**\n",
        "\n",
        "* Repetir el procedimiento con distintos modelos para compararlos.\n",
        "\n",
        "* Evaluar otras métricas (precision, recall, F1, AUC) usando el parámetro scoring de cross_validate.\n",
        "\n",
        "* Usar StratifiedKFold si necesitas garantizar el balance de clases en cada fold (como en clasificación desbalanceada).\n",
        "\n",
        "**Ventajas de K-Fold frente a una sola división:**\n",
        "\n",
        "```\n",
        "Técnica tradicional                   |  K-Fold Cross Validation\n",
        "--------------------------------------|-------------------------------------\n",
        "Usa una única división                |  Usa múltiples divisiones\n",
        "--------------------------------------|-------------------------------------\n",
        "Dependencia del azar                  |  Reducción del azar\n",
        "--------------------------------------|-------------------------------------\n",
        "Solo 1 métrica de evaluación          |  Promedio de múltiples resultados\n",
        "--------------------------------------|-------------------------------------\n",
        "Riesgo de sobreajuste o subestimación |  Evaluación más confiable y estable\n",
        "--------------------------------------|-------------------------------------\n",
        "```"
      ],
      "metadata": {
        "id": "JZ77oX2CtEYR"
      }
    },
    {
      "cell_type": "markdown",
      "source": [
        "### Validación cruzada con sensibilidad"
      ],
      "metadata": {
        "id": "GAHrtLM2OCjO"
      }
    },
    {
      "cell_type": "code",
      "source": [
        "# Comentario explicativo:\n",
        "# Aunque por defecto cross_validate calcula la exactitud, aquí lo estamos forzando a usar \"recall\"\n",
        "# Porque el recall es la métrica que nos ayuda a reducir los falsos negativos (morosos que pasan desapercibidos)"
      ],
      "metadata": {
        "id": "Ywfsoe3_PLYZ"
      },
      "execution_count": 98,
      "outputs": []
    },
    {
      "cell_type": "code",
      "source": [
        "# Definimos una función personalizada para calcular el intervalo de confianza del resultado de la validación cruzada\n",
        "def intervalo_confianza(resultados):\n",
        "    promedio = resultados['test_score'].mean()         # Calcula el promedio de los scores de validación cruzada\n",
        "    desvio_std = resultados['test_score'].std()        # Calcula la desviación estándar\n",
        "    return f'El intervalo de confianza es de {promedio-2*desvio_std},{min(promedio+2*desvio_std , 1)}'\n",
        "    # Se retorna el intervalo al 95% de confianza (aproximado con 2 * desviación estándar)\n",
        "    # Se limita el valor superior a 1 usando min()"
      ],
      "metadata": {
        "id": "PV3m-6IxPLMf"
      },
      "execution_count": 99,
      "outputs": []
    },
    {
      "cell_type": "code",
      "source": [
        "# Instanciamos el modelo de árbol de decisión con profundidad máxima de 10 niveles\n",
        "modelo = DecisionTreeClassifier(max_depth = 10)\n",
        "\n",
        "# Definimos la estrategia de validación cruzada (KFold con 5 particiones)\n",
        "# shuffle=True → para mezclar los datos antes de partirlos\n",
        "# random_state=5 → para que las divisiones sean reproducibles\n",
        "kf = KFold(n_splits=5, shuffle=True, random_state = 5) # kfold\n",
        "\n",
        "# Ejecutamos la validación cruzada usando 'recall' como métrica\n",
        "# Esto devuelve los valores de recall obtenidos en cada una de las 5 divisiones\n",
        "cv_resultados = cross_validate(modelo, X, y, cv=kf, scoring = 'recall') #cross validate - con recall (sensibilidad)\n",
        "\n",
        "# Mostramos los resultados crudos del cross_validate\n",
        "cv_resultados\n",
        "# {'fit_time': [...], 'score_time': [...], 'test_score': [0.0264, 0.0223, 0.0196, 0.0169, 0.0244]}\n",
        "# Lo que nos interesa es 'test_score', ya que contiene el recall en cada fold"
      ],
      "metadata": {
        "id": "Y-gpgU7pPLJv",
        "colab": {
          "base_uri": "https://localhost:8080/"
        },
        "outputId": "1406df5d-1c09-4be9-e434-f77bdb505be0"
      },
      "execution_count": 100,
      "outputs": [
        {
          "output_type": "execute_result",
          "data": {
            "text/plain": [
              "{'fit_time': array([0.22303605, 0.20116305, 0.19853616, 0.20711231, 0.1936729 ]),\n",
              " 'score_time': array([0.00576997, 0.00525284, 0.00496316, 0.00558591, 0.00508881]),\n",
              " 'test_score': array([0.02906209, 0.01980198, 0.0196802 , 0.01697128, 0.02427746])}"
            ]
          },
          "metadata": {},
          "execution_count": 100
        }
      ]
    },
    {
      "cell_type": "code",
      "source": [
        "# Aplicamos la función para mostrar el intervalo de confianza del recall\n",
        "intervalo_confianza(cv_resultados)"
      ],
      "metadata": {
        "colab": {
          "base_uri": "https://localhost:8080/",
          "height": 35
        },
        "id": "c2lTkKPC5Wjq",
        "outputId": "10bcb145-9b2d-4337-e670-da791e8a5fe8"
      },
      "execution_count": 101,
      "outputs": [
        {
          "output_type": "execute_result",
          "data": {
            "text/plain": [
              "'El intervalo de confianza es de 0.013447331111684701,0.030469868971121847'"
            ],
            "application/vnd.google.colaboratory.intrinsic+json": {
              "type": "string"
            }
          },
          "metadata": {},
          "execution_count": 101
        }
      ]
    },
    {
      "cell_type": "markdown",
      "source": [
        "**Análisis de resultados:**\n",
        "\n",
        "**¿Qué se hizo?**\n",
        "\n",
        "* Se repitió la validación cruzada con recall como métrica de evaluación.\n",
        "\n",
        "* Se obtuvieron 5 valores de recall (uno por cada fold).\n",
        "\n",
        "* Se calculó su promedio y su intervalo de confianza (estimación del rango real esperado para el recall del modelo).\n",
        "\n",
        "**¿Qué se identificó?**\n",
        "\n",
        "```\n",
        "Métrica         |   Valor estimado\n",
        "----------------|--------------------------\n",
        "Recall medio    |   Aproximadamente 0.021\n",
        "----------------|--------------------------\n",
        "Intervalo 95%   |   Entre 0.0147 y 0.0277\n",
        "----------------|--------------------------\n",
        "```\n",
        "\n",
        "* Esto indica que el modelo apenas detecta entre el 1.5% y 2.7% de los morosos en promedio.\n",
        "\n",
        "* Aunque el modelo tenga buen accuracy general, el recall es extremadamente bajo. Refuerza la necesidad de mejorar el modelo en detección de positivos reales.\n",
        "\n",
        "**¿Qué se puede hacer a continuación?**\n",
        "\n",
        "* Probar con:\n",
        "\n",
        ">* StratifiedKFold para asegurar proporciones de clases en cada fold.\n",
        ">\n",
        ">* Otros modelos más potentes como RandomForest, XGBoost.\n",
        ">\n",
        ">* Técnicas de reponderación como class_weight='balanced'.\n",
        ">\n",
        ">* Balanceo de clases con SMOTE o RandomOverSampler.\n",
        "\n",
        "* Evaluar no solo recall, sino también f1-score en validación cruzada para equilibrar precisión y sensibilidad."
      ],
      "metadata": {
        "id": "DdvpFx0fMUbn"
      }
    },
    {
      "cell_type": "markdown",
      "source": [
        "#### Desafío: validación con otras métricas"
      ],
      "metadata": {
        "id": "eTv__7ShOv_F"
      }
    },
    {
      "cell_type": "markdown",
      "source": [
        "* Para obtener un resultado completo de las métricas en la validación cruzada así como el classification_report, es necesario utilizar el método cross_validate e informar en el parámetro scoring las métricas a evaluar.\n",
        "\n",
        "* Como desafío, construye un código para generar el intervalo de confianza para cada una de las métricas utilizando la validación cruzada:\n",
        "\n",
        ">* Exactitud\n",
        ">\n",
        ">* Recall\n",
        ">\n",
        ">* Precisión\n",
        ">\n",
        ">* F1-score\n"
      ],
      "metadata": {
        "id": "nMJCCbmnOztu"
      }
    },
    {
      "cell_type": "code",
      "source": [
        "# Se define el modelo de árbol de decisión con una profundidad máxima de 10 niveles\n",
        "modelo = DecisionTreeClassifier(max_depth=10)\n",
        "\n",
        "# Se configura la validación cruzada con KFold de 5 particiones\n",
        "# shuffle=True → mezcla los datos para evitar sesgos por orden\n",
        "# random_state=5 → permite obtener siempre las mismas divisiones\n",
        "kf = KFold(n_splits=5, shuffle=True, random_state=5)\n",
        "\n",
        "# Se ejecuta la validación cruzada evaluando múltiples métricas a la vez:\n",
        "# 'accuracy' → exactitud\n",
        "# 'recall' → sensibilidad (clave para morosos)\n",
        "# 'precision' → proporción de verdaderos positivos entre los predichos como tales\n",
        "# 'f1' → balance entre recall y precisión\n",
        "cv_resultados_metricas = cross_validate(modelo, X, y, cv=kf, scoring = ['accuracy','recall', 'precision', 'f1'])\n",
        "\n",
        "# El resultado obtenido es un diccionario con los tiempos de ajuste de los modelos,\n",
        "# tiempos de cálculo de las métricas y los resultados de cada una de las métricas para cada uno de los 5 modelos del KFold:\n",
        "cv_resultados_metricas"
      ],
      "metadata": {
        "colab": {
          "base_uri": "https://localhost:8080/"
        },
        "id": "u4EdJkpmOvZv",
        "outputId": "9b5e52da-4197-433c-fcad-e868373b1642"
      },
      "execution_count": 102,
      "outputs": [
        {
          "output_type": "execute_result",
          "data": {
            "text/plain": [
              "{'fit_time': array([0.20475364, 0.1932447 , 0.19211102, 0.2012465 , 0.20082593]),\n",
              " 'score_time': array([0.01090765, 0.01162791, 0.01027203, 0.01130533, 0.01854491]),\n",
              " 'test_accuracy': array([0.91322809, 0.90722997, 0.90766551, 0.91332753, 0.89928136]),\n",
              " 'test_recall': array([0.02642008, 0.01980198, 0.01845018, 0.01305483, 0.02312139]),\n",
              " 'test_precision': array([0.25      , 0.21052632, 0.23076923, 0.2       , 0.2       ]),\n",
              " 'test_f1': array([0.04778973, 0.0361991 , 0.03416856, 0.0245098 , 0.04145078])}"
            ]
          },
          "metadata": {},
          "execution_count": 102
        }
      ]
    },
    {
      "cell_type": "code",
      "source": [
        "# Se define una función para calcular y mostrar el intervalo de confianza\n",
        "# Se utiliza la fórmula del intervalo estimado al 95%: media ± 2 * desviación estándar\n",
        "# El resultado se limita a un máximo de 1.0 para evitar valores inválidos\n",
        "def informe_metricas(resultados_met):\n",
        "    for metrica in ['test_accuracy', 'test_recall', 'test_precision', 'test_f1']:\n",
        "        media = resultados_met[metrica].mean()\n",
        "        desvio_estandar = resultados_met[metrica].std()\n",
        "        print(f'Intervalo de confianza({metrica}): [{media-2*desvio_estandar}, {min(media+2*desvio_estandar, 1.0)}]')"
      ],
      "metadata": {
        "id": "Xs1n0rr6Pm9H"
      },
      "execution_count": 103,
      "outputs": []
    },
    {
      "cell_type": "code",
      "source": [
        "# Se ejecuta la función para mostrar los intervalos de confianza de las 4 métricas\n",
        "informe_metricas(cv_resultados_metricas)"
      ],
      "metadata": {
        "colab": {
          "base_uri": "https://localhost:8080/"
        },
        "id": "YzJkfMkKQHE4",
        "outputId": "00258e65-bc88-45c3-fb5d-1cbb54d75338"
      },
      "execution_count": 104,
      "outputs": [
        {
          "output_type": "stream",
          "name": "stdout",
          "text": [
            "Intervalo de confianza(test_accuracy): [0.8978575550572941, 0.9184354228133821]\n",
            "Intervalo de confianza(test_recall): [0.011158897839660358, 0.02918048677255799]\n",
            "Intervalo de confianza(test_precision): [0.1793687658116957, 0.2571494528117861]\n",
            "Intervalo de confianza(test_f1): [0.021312681932756924, 0.05233450457749067]\n"
          ]
        }
      ]
    },
    {
      "cell_type": "markdown",
      "source": [
        "**Análisis estructurado:**\n",
        "\n",
        "**¿Qué se visualizó?**\n",
        "\n",
        "* Se implementó una validación cruzada con 5 folds.\n",
        "\n",
        "* Se evaluaron cuatro métricas clave para entender el rendimiento general del modelo:\n",
        "\n",
        ">* accuracy, recall, precision, f1.\n",
        "\n",
        "* Se definió una función personalizada para calcular el intervalo de confianza estimado (95%) para cada métrica.\n",
        "\n",
        "**¿Qué se identificó?**\n",
        "\n",
        "* Aunque la exactitud del modelo es alta, esto es engañoso por el desbalance de clases.\n",
        "\n",
        "* La métrica recall (clave para detectar morosos) es muy baja, lo que evidencia que el modelo no logra detectar correctamente a la mayoría de los clientes morosos.\n",
        "\n",
        "* El f1-score, que intenta balancear recall y precisión, también muestra un desempeño bajo, confirmando la debilidad del modelo en la clase minoritaria.\n",
        "\n",
        "* La estimación del intervalo de confianza ayuda a comprender la estabilidad de cada métrica: un desvío estándar bajo indica resultados consistentes entre folds.\n",
        "\n",
        "**¿Qué se puede hacer?**\n",
        "\n",
        "* Usar StratifiedKFold para asegurar que cada fold mantenga la proporción de morosos y cumplidores.\n",
        "\n",
        "* Aplicar técnicas de balance de clases para mejorar el recall (como class_weight='balanced' o SMOTE).\n",
        "\n",
        "* Comparar otros modelos que puedan mejorar el desempeño general, especialmente en recall."
      ],
      "metadata": {
        "id": "y3SlE2UfR-lW"
      }
    },
    {
      "cell_type": "markdown",
      "source": [
        "### Estratificando los datos"
      ],
      "metadata": {
        "id": "-FAOYtNen4qJ"
      }
    },
    {
      "cell_type": "code",
      "source": [
        "# Recuento de valores en la columna 'moroso' para identificar el desbalance de clases\n",
        "datos['moroso'].value_counts()"
      ],
      "metadata": {
        "id": "G6bPA6vaPN1A",
        "colab": {
          "base_uri": "https://localhost:8080/",
          "height": 178
        },
        "outputId": "41ffbe0b-31d3-4972-c4ed-19d3210566d5"
      },
      "execution_count": 105,
      "outputs": [
        {
          "output_type": "execute_result",
          "data": {
            "text/plain": [
              "moroso\n",
              "0    49309\n",
              "1     4716\n",
              "Name: count, dtype: int64"
            ],
            "text/html": [
              "<div>\n",
              "<style scoped>\n",
              "    .dataframe tbody tr th:only-of-type {\n",
              "        vertical-align: middle;\n",
              "    }\n",
              "\n",
              "    .dataframe tbody tr th {\n",
              "        vertical-align: top;\n",
              "    }\n",
              "\n",
              "    .dataframe thead th {\n",
              "        text-align: right;\n",
              "    }\n",
              "</style>\n",
              "<table border=\"1\" class=\"dataframe\">\n",
              "  <thead>\n",
              "    <tr style=\"text-align: right;\">\n",
              "      <th></th>\n",
              "      <th>count</th>\n",
              "    </tr>\n",
              "    <tr>\n",
              "      <th>moroso</th>\n",
              "      <th></th>\n",
              "    </tr>\n",
              "  </thead>\n",
              "  <tbody>\n",
              "    <tr>\n",
              "      <th>0</th>\n",
              "      <td>49309</td>\n",
              "    </tr>\n",
              "    <tr>\n",
              "      <th>1</th>\n",
              "      <td>4716</td>\n",
              "    </tr>\n",
              "  </tbody>\n",
              "</table>\n",
              "</div><br><label><b>dtype:</b> int64</label>"
            ]
          },
          "metadata": {},
          "execution_count": 105
        }
      ]
    },
    {
      "cell_type": "code",
      "source": [
        "# Importamos StratifiedKFold, que mantiene la proporción de clases en cada fold\n",
        "from sklearn.model_selection import StratifiedKFold"
      ],
      "metadata": {
        "id": "HONIpY1BPNzd"
      },
      "execution_count": 106,
      "outputs": []
    },
    {
      "cell_type": "code",
      "source": [
        "# Garantiza que la proporción de cada clase se mantenga\n",
        "# En todos estos grupos independientemente como queden, todos tengan un porcentaje aprox de morosos y cumplidores\n",
        "\n",
        "# Instanciamos el modelo de árbol con profundidad máxima de 10\n",
        "modelo = DecisionTreeClassifier(max_depth=10)\n",
        "\n",
        "# Definimos la validación cruzada estratificada (mantiene la proporción de morosos/cumplidores en cada fold)\n",
        "# shuffle=True → mezcla los datos antes de dividirlos\n",
        "# random_state=5 → hace que las divisiones sean reproducibles\n",
        "skf = StratifiedKFold(n_splits=5, shuffle=True, random_state=5)\n",
        "\n",
        "# Ejecutamos la validación cruzada utilizando el recall como métrica principal\n",
        "cv_resultados = cross_validate(modelo, X, y, cv=skf, scoring='recall')"
      ],
      "metadata": {
        "id": "jCFRBhd_PNxT"
      },
      "execution_count": 107,
      "outputs": []
    },
    {
      "cell_type": "code",
      "source": [
        "# Calculamos el intervalo de confianza para los resultados de recall obtenidos\n",
        "intervalo_confianza(cv_resultados)"
      ],
      "metadata": {
        "colab": {
          "base_uri": "https://localhost:8080/",
          "height": 35
        },
        "id": "hsQCeD4iUgVa",
        "outputId": "29a35ec9-5422-4e31-b6bc-63d07c1c79e0"
      },
      "execution_count": 108,
      "outputs": [
        {
          "output_type": "execute_result",
          "data": {
            "text/plain": [
              "'El intervalo de confianza es de 0.01788041206975858,0.03948864967039789'"
            ],
            "application/vnd.google.colaboratory.intrinsic+json": {
              "type": "string"
            }
          },
          "metadata": {},
          "execution_count": 108
        }
      ]
    },
    {
      "cell_type": "markdown",
      "source": [
        "**Análisis estructurado:**\n",
        "\n",
        "**¿Qué se visualizó?**\n",
        "\n",
        "* Se aplicó validación cruzada estratificada con 5 folds, usando StratifiedKFold para asegurar que en cada partición haya una proporción similar de morosos y cumplidores.\n",
        "\n",
        "* Se utilizó recall como métrica de evaluación para mantener el foco en la detección de morosos reales.\n",
        "\n",
        "* Se calculó el intervalo de confianza estimado del recall para entender su variabilidad.\n",
        "\n",
        "**¿Qué se identificó?**\n",
        "\n",
        "* La clase moroso representa solo una pequeña parte del total, lo que justifica el uso de validación estratificada.\n",
        "\n",
        "* El recall promedio sigue siendo bajo, pero más representativo y estable gracias al equilibrio en cada fold.\n",
        "\n",
        "* El intervalo de confianza indica que el modelo puede detectar entre un 1.5% y un 4.1% de los morosos reales, lo cual sigue siendo muy bajo, pero más confiable que sin estratificación.\n",
        "\n",
        "¿**Qué se puede hacer?**\n",
        "\n",
        "* Seguir utilizando StratifiedKFold como estándar en problemas desbalanceados.\n",
        "\n",
        "* Aplicar técnicas de mejora del recall, como:\n",
        "\n",
        ">* class_weight='balanced' en el modelo.\n",
        ">\n",
        ">* Algoritmos alternativos más robustos (e.g., RandomForest, XGBoost).\n",
        ">\n",
        ">* Técnicas de sobremuestreo (SMOTE) o submuestreo (RandomUnderSampler).\n",
        ">\n",
        ">* Ajuste del umbral de decisión con predict_proba()."
      ],
      "metadata": {
        "id": "cE3B-7xEcjo7"
      }
    },
    {
      "cell_type": "markdown",
      "source": [
        "## <font color='dark'>4. Balanceo de los datos</h1>"
      ],
      "metadata": {
        "id": "yaVwNb1kn8sX"
      }
    },
    {
      "cell_type": "markdown",
      "source": [
        "### Oversampling"
      ],
      "metadata": {
        "id": "4eYKxWJd6g6w"
      }
    },
    {
      "cell_type": "markdown",
      "source": [
        "https://imbalanced-learn.org/stable/references/generated/imblearn.over_sampling.SMOTE.html#id1"
      ],
      "metadata": {
        "id": "N0MJ7hGUmL4l"
      }
    },
    {
      "cell_type": "code",
      "source": [],
      "metadata": {
        "id": "cO0Dx5xAO4B5"
      },
      "execution_count": 108,
      "outputs": []
    },
    {
      "cell_type": "code",
      "source": [],
      "metadata": {
        "id": "h6DQqcttO3_c"
      },
      "execution_count": 108,
      "outputs": []
    },
    {
      "cell_type": "code",
      "source": [],
      "metadata": {
        "id": "7Lp4GoMRO355"
      },
      "execution_count": 108,
      "outputs": []
    },
    {
      "cell_type": "markdown",
      "source": [
        "### Pipeline para validación"
      ],
      "metadata": {
        "id": "fHSNXznm6ia-"
      }
    },
    {
      "cell_type": "code",
      "source": [],
      "metadata": {
        "id": "DaoAbR84O44S"
      },
      "execution_count": 108,
      "outputs": []
    },
    {
      "cell_type": "code",
      "source": [],
      "metadata": {
        "id": "7UezUduWO41c"
      },
      "execution_count": 108,
      "outputs": []
    },
    {
      "cell_type": "code",
      "source": [],
      "metadata": {
        "id": "b7Z-pe6wO4yN"
      },
      "execution_count": 108,
      "outputs": []
    },
    {
      "cell_type": "markdown",
      "source": [
        "### Undersampling"
      ],
      "metadata": {
        "id": "66PlvwjX6kFv"
      }
    },
    {
      "cell_type": "markdown",
      "source": [
        "https://imbalanced-learn.org/stable/references/generated/imblearn.under_sampling.NearMiss.html"
      ],
      "metadata": {
        "id": "Fh6VZN5Fx7wl"
      }
    },
    {
      "cell_type": "code",
      "source": [],
      "metadata": {
        "id": "lUn59uqAO63N"
      },
      "execution_count": 108,
      "outputs": []
    },
    {
      "cell_type": "code",
      "source": [],
      "metadata": {
        "id": "pOUKHwqRO6zb"
      },
      "execution_count": 108,
      "outputs": []
    },
    {
      "cell_type": "code",
      "source": [],
      "metadata": {
        "id": "ykn9H4kFO6so"
      },
      "execution_count": 108,
      "outputs": []
    },
    {
      "cell_type": "markdown",
      "source": [
        "### Probando el modelo"
      ],
      "metadata": {
        "id": "EP-44U0eHt-a"
      }
    },
    {
      "cell_type": "code",
      "source": [],
      "metadata": {
        "id": "XWhZlwOTO8eN"
      },
      "execution_count": 108,
      "outputs": []
    },
    {
      "cell_type": "code",
      "source": [],
      "metadata": {
        "id": "gZHVqM6hO8bt"
      },
      "execution_count": 108,
      "outputs": []
    },
    {
      "cell_type": "code",
      "source": [],
      "metadata": {
        "id": "QSrpOQpxO8WT"
      },
      "execution_count": 108,
      "outputs": []
    },
    {
      "cell_type": "markdown",
      "source": [
        "## Desafío: Hora de la práctica"
      ],
      "metadata": {
        "id": "dzVuUHG4x7Va"
      }
    },
    {
      "cell_type": "markdown",
      "source": [
        "Vamos a practicar el contenido que se presentó en la clase a partir de algunas actividades, pero utilizando un conjunto de datos diferente con datos de pacientes a ser diagnosticados con diabetes o no. Los desafíos siguen una secuencia de tareas, sirviendo como un proyecto secundario. Para realizar los desafíos, descarga la base de datos desde este [enlace](https://github.com/alura-es-cursos/2162-clasificacion-validacion-de-modelos-y-metricas/blob/desafios/diabetes.csv).\n",
        "\n"
      ],
      "metadata": {
        "id": "yh37nFspyE4x"
      }
    },
    {
      "cell_type": "markdown",
      "source": [
        "### 1) Clasificando Datos"
      ],
      "metadata": {
        "id": "GivISsU1yqYq"
      }
    },
    {
      "cell_type": "markdown",
      "source": [
        ">* **1 -** Para la construcción de un modelo de machine learning se necesitan datos. Como tarea inicial, realiza la lectura de la base de datos de diabetes y **divide los datos en variables explicativas y variable objetivo** (x e y). La variable objetivo es la columna que quieres clasificar, que contiene la información de si el paciente tiene o no diabetes. Las variables explicativas son todas las columnas excepto la de diabetes. La separación de los datos se puede hacer con la selección de columnas con pandas.\n",
        ">\n",
        ">* **2 -** Una etapa muy importante en proyectos de clasificación es la validación de los modelos, para identificar si hay una generalización del modelo para datos nuevos. **Realiza la división de los datos entre entrenamiento, validación y prueba**. Utiliza el **5% de los datos para prueba** y con el resto, deja el **25% para validación**. En el momento de la separación, usa el parámetro stratify a partir de la variable objetivo para mantener la proporción de los datos.\n",
        ">\n",
        ">* **3 -** **La etapa de modelado de datos consiste en utilizar un algoritmo capaz de identificar patrones en los datos y clasificar los valores**. A partir del modelo es posible extraer una tasa de acierto para entender su desempeño. Crea 2 modelos utilizando los algoritmos **DecisionTreeClassifier y RandomForestClassifier** y evalúa la precisión de entrenamiento y prueba, eligiendo el valor **3 para el parámetro max_depth del algoritmo DecisionTreeClassifier** y el **valor 2 para el max_depth del algoritmo RandomForestClassifier**, para que los modelos no se especialicen demasiado en el patrón de los datos de entrenamiento.\n",
        ">\n",
        ">* **4 -** La tasa de acierto generalmente no proporciona información suficiente para entender el comportamiento del modelo. La matriz de confusión es una herramienta más completa, capaz de proporcionar los aciertos y errores del modelo para cada clase. **Construye una matriz de confusión para cada uno de los modelos para evaluar el desempeño de la predicción**. Para construir la matriz, usa el método predict para generar las predicciones de los valores y comparar con los valores reales de la base de datos."
      ],
      "metadata": {
        "id": "b5reAXyzyz-h"
      }
    },
    {
      "cell_type": "markdown",
      "source": [
        "#### Lectura de datos y separación de variables explicativas y respuesta"
      ],
      "metadata": {
        "id": "5geYw_LP0Zhx"
      }
    },
    {
      "cell_type": "code",
      "source": [
        "import pandas as pd"
      ],
      "metadata": {
        "id": "JKFQ_4XTzqBT"
      },
      "execution_count": 109,
      "outputs": []
    },
    {
      "cell_type": "code",
      "source": [
        "url_desafio = 'https://raw.githubusercontent.com/DanielRaiicHu/clasificacion_validacion_y_metricas/main/diabetes.csv'\n",
        "datos_desafio = pd.read_csv(url_desafio)\n",
        "datos_desafio"
      ],
      "metadata": {
        "colab": {
          "base_uri": "https://localhost:8080/",
          "height": 423
        },
        "id": "gkG5p0-dzsc_",
        "outputId": "d739b53e-a379-452c-b2c0-148b15b48a58"
      },
      "execution_count": 110,
      "outputs": [
        {
          "output_type": "execute_result",
          "data": {
            "text/plain": [
              "     glicemia  presion_sanguinea  grasa_subcutanea_triceps  insulina    imc  \\\n",
              "0          66                 23                        94      28.1  0.167   \n",
              "1          40                 35                       168      43.1  2.288   \n",
              "2          50                 32                        88      31.0  0.248   \n",
              "3          70                 45                       543      30.5  0.158   \n",
              "4          60                 23                       846      30.1  0.398   \n",
              "..        ...                ...                       ...       ...    ...   \n",
              "389        88                 44                       510      43.3  0.222   \n",
              "390        88                 39                       110      36.5  1.057   \n",
              "391        58                 26                        16      28.4  0.766   \n",
              "392        76                 48                       180      32.9  0.171   \n",
              "393        72                 23                       112      26.2  0.245   \n",
              "\n",
              "     diabetes  \n",
              "0           0  \n",
              "1           1  \n",
              "2           1  \n",
              "3           1  \n",
              "4           1  \n",
              "..        ...  \n",
              "389         1  \n",
              "390         1  \n",
              "391         0  \n",
              "392         0  \n",
              "393         0  \n",
              "\n",
              "[394 rows x 6 columns]"
            ],
            "text/html": [
              "\n",
              "  <div id=\"df-3d9047df-2353-4d4d-8923-45605d06557a\" class=\"colab-df-container\">\n",
              "    <div>\n",
              "<style scoped>\n",
              "    .dataframe tbody tr th:only-of-type {\n",
              "        vertical-align: middle;\n",
              "    }\n",
              "\n",
              "    .dataframe tbody tr th {\n",
              "        vertical-align: top;\n",
              "    }\n",
              "\n",
              "    .dataframe thead th {\n",
              "        text-align: right;\n",
              "    }\n",
              "</style>\n",
              "<table border=\"1\" class=\"dataframe\">\n",
              "  <thead>\n",
              "    <tr style=\"text-align: right;\">\n",
              "      <th></th>\n",
              "      <th>glicemia</th>\n",
              "      <th>presion_sanguinea</th>\n",
              "      <th>grasa_subcutanea_triceps</th>\n",
              "      <th>insulina</th>\n",
              "      <th>imc</th>\n",
              "      <th>diabetes</th>\n",
              "    </tr>\n",
              "  </thead>\n",
              "  <tbody>\n",
              "    <tr>\n",
              "      <th>0</th>\n",
              "      <td>66</td>\n",
              "      <td>23</td>\n",
              "      <td>94</td>\n",
              "      <td>28.1</td>\n",
              "      <td>0.167</td>\n",
              "      <td>0</td>\n",
              "    </tr>\n",
              "    <tr>\n",
              "      <th>1</th>\n",
              "      <td>40</td>\n",
              "      <td>35</td>\n",
              "      <td>168</td>\n",
              "      <td>43.1</td>\n",
              "      <td>2.288</td>\n",
              "      <td>1</td>\n",
              "    </tr>\n",
              "    <tr>\n",
              "      <th>2</th>\n",
              "      <td>50</td>\n",
              "      <td>32</td>\n",
              "      <td>88</td>\n",
              "      <td>31.0</td>\n",
              "      <td>0.248</td>\n",
              "      <td>1</td>\n",
              "    </tr>\n",
              "    <tr>\n",
              "      <th>3</th>\n",
              "      <td>70</td>\n",
              "      <td>45</td>\n",
              "      <td>543</td>\n",
              "      <td>30.5</td>\n",
              "      <td>0.158</td>\n",
              "      <td>1</td>\n",
              "    </tr>\n",
              "    <tr>\n",
              "      <th>4</th>\n",
              "      <td>60</td>\n",
              "      <td>23</td>\n",
              "      <td>846</td>\n",
              "      <td>30.1</td>\n",
              "      <td>0.398</td>\n",
              "      <td>1</td>\n",
              "    </tr>\n",
              "    <tr>\n",
              "      <th>...</th>\n",
              "      <td>...</td>\n",
              "      <td>...</td>\n",
              "      <td>...</td>\n",
              "      <td>...</td>\n",
              "      <td>...</td>\n",
              "      <td>...</td>\n",
              "    </tr>\n",
              "    <tr>\n",
              "      <th>389</th>\n",
              "      <td>88</td>\n",
              "      <td>44</td>\n",
              "      <td>510</td>\n",
              "      <td>43.3</td>\n",
              "      <td>0.222</td>\n",
              "      <td>1</td>\n",
              "    </tr>\n",
              "    <tr>\n",
              "      <th>390</th>\n",
              "      <td>88</td>\n",
              "      <td>39</td>\n",
              "      <td>110</td>\n",
              "      <td>36.5</td>\n",
              "      <td>1.057</td>\n",
              "      <td>1</td>\n",
              "    </tr>\n",
              "    <tr>\n",
              "      <th>391</th>\n",
              "      <td>58</td>\n",
              "      <td>26</td>\n",
              "      <td>16</td>\n",
              "      <td>28.4</td>\n",
              "      <td>0.766</td>\n",
              "      <td>0</td>\n",
              "    </tr>\n",
              "    <tr>\n",
              "      <th>392</th>\n",
              "      <td>76</td>\n",
              "      <td>48</td>\n",
              "      <td>180</td>\n",
              "      <td>32.9</td>\n",
              "      <td>0.171</td>\n",
              "      <td>0</td>\n",
              "    </tr>\n",
              "    <tr>\n",
              "      <th>393</th>\n",
              "      <td>72</td>\n",
              "      <td>23</td>\n",
              "      <td>112</td>\n",
              "      <td>26.2</td>\n",
              "      <td>0.245</td>\n",
              "      <td>0</td>\n",
              "    </tr>\n",
              "  </tbody>\n",
              "</table>\n",
              "<p>394 rows × 6 columns</p>\n",
              "</div>\n",
              "    <div class=\"colab-df-buttons\">\n",
              "\n",
              "  <div class=\"colab-df-container\">\n",
              "    <button class=\"colab-df-convert\" onclick=\"convertToInteractive('df-3d9047df-2353-4d4d-8923-45605d06557a')\"\n",
              "            title=\"Convert this dataframe to an interactive table.\"\n",
              "            style=\"display:none;\">\n",
              "\n",
              "  <svg xmlns=\"http://www.w3.org/2000/svg\" height=\"24px\" viewBox=\"0 -960 960 960\">\n",
              "    <path d=\"M120-120v-720h720v720H120Zm60-500h600v-160H180v160Zm220 220h160v-160H400v160Zm0 220h160v-160H400v160ZM180-400h160v-160H180v160Zm440 0h160v-160H620v160ZM180-180h160v-160H180v160Zm440 0h160v-160H620v160Z\"/>\n",
              "  </svg>\n",
              "    </button>\n",
              "\n",
              "  <style>\n",
              "    .colab-df-container {\n",
              "      display:flex;\n",
              "      gap: 12px;\n",
              "    }\n",
              "\n",
              "    .colab-df-convert {\n",
              "      background-color: #E8F0FE;\n",
              "      border: none;\n",
              "      border-radius: 50%;\n",
              "      cursor: pointer;\n",
              "      display: none;\n",
              "      fill: #1967D2;\n",
              "      height: 32px;\n",
              "      padding: 0 0 0 0;\n",
              "      width: 32px;\n",
              "    }\n",
              "\n",
              "    .colab-df-convert:hover {\n",
              "      background-color: #E2EBFA;\n",
              "      box-shadow: 0px 1px 2px rgba(60, 64, 67, 0.3), 0px 1px 3px 1px rgba(60, 64, 67, 0.15);\n",
              "      fill: #174EA6;\n",
              "    }\n",
              "\n",
              "    .colab-df-buttons div {\n",
              "      margin-bottom: 4px;\n",
              "    }\n",
              "\n",
              "    [theme=dark] .colab-df-convert {\n",
              "      background-color: #3B4455;\n",
              "      fill: #D2E3FC;\n",
              "    }\n",
              "\n",
              "    [theme=dark] .colab-df-convert:hover {\n",
              "      background-color: #434B5C;\n",
              "      box-shadow: 0px 1px 3px 1px rgba(0, 0, 0, 0.15);\n",
              "      filter: drop-shadow(0px 1px 2px rgba(0, 0, 0, 0.3));\n",
              "      fill: #FFFFFF;\n",
              "    }\n",
              "  </style>\n",
              "\n",
              "    <script>\n",
              "      const buttonEl =\n",
              "        document.querySelector('#df-3d9047df-2353-4d4d-8923-45605d06557a button.colab-df-convert');\n",
              "      buttonEl.style.display =\n",
              "        google.colab.kernel.accessAllowed ? 'block' : 'none';\n",
              "\n",
              "      async function convertToInteractive(key) {\n",
              "        const element = document.querySelector('#df-3d9047df-2353-4d4d-8923-45605d06557a');\n",
              "        const dataTable =\n",
              "          await google.colab.kernel.invokeFunction('convertToInteractive',\n",
              "                                                    [key], {});\n",
              "        if (!dataTable) return;\n",
              "\n",
              "        const docLinkHtml = 'Like what you see? Visit the ' +\n",
              "          '<a target=\"_blank\" href=https://colab.research.google.com/notebooks/data_table.ipynb>data table notebook</a>'\n",
              "          + ' to learn more about interactive tables.';\n",
              "        element.innerHTML = '';\n",
              "        dataTable['output_type'] = 'display_data';\n",
              "        await google.colab.output.renderOutput(dataTable, element);\n",
              "        const docLink = document.createElement('div');\n",
              "        docLink.innerHTML = docLinkHtml;\n",
              "        element.appendChild(docLink);\n",
              "      }\n",
              "    </script>\n",
              "  </div>\n",
              "\n",
              "\n",
              "    <div id=\"df-9781050a-ccec-444d-9548-453e2bbf5a34\">\n",
              "      <button class=\"colab-df-quickchart\" onclick=\"quickchart('df-9781050a-ccec-444d-9548-453e2bbf5a34')\"\n",
              "                title=\"Suggest charts\"\n",
              "                style=\"display:none;\">\n",
              "\n",
              "<svg xmlns=\"http://www.w3.org/2000/svg\" height=\"24px\"viewBox=\"0 0 24 24\"\n",
              "     width=\"24px\">\n",
              "    <g>\n",
              "        <path d=\"M19 3H5c-1.1 0-2 .9-2 2v14c0 1.1.9 2 2 2h14c1.1 0 2-.9 2-2V5c0-1.1-.9-2-2-2zM9 17H7v-7h2v7zm4 0h-2V7h2v10zm4 0h-2v-4h2v4z\"/>\n",
              "    </g>\n",
              "</svg>\n",
              "      </button>\n",
              "\n",
              "<style>\n",
              "  .colab-df-quickchart {\n",
              "      --bg-color: #E8F0FE;\n",
              "      --fill-color: #1967D2;\n",
              "      --hover-bg-color: #E2EBFA;\n",
              "      --hover-fill-color: #174EA6;\n",
              "      --disabled-fill-color: #AAA;\n",
              "      --disabled-bg-color: #DDD;\n",
              "  }\n",
              "\n",
              "  [theme=dark] .colab-df-quickchart {\n",
              "      --bg-color: #3B4455;\n",
              "      --fill-color: #D2E3FC;\n",
              "      --hover-bg-color: #434B5C;\n",
              "      --hover-fill-color: #FFFFFF;\n",
              "      --disabled-bg-color: #3B4455;\n",
              "      --disabled-fill-color: #666;\n",
              "  }\n",
              "\n",
              "  .colab-df-quickchart {\n",
              "    background-color: var(--bg-color);\n",
              "    border: none;\n",
              "    border-radius: 50%;\n",
              "    cursor: pointer;\n",
              "    display: none;\n",
              "    fill: var(--fill-color);\n",
              "    height: 32px;\n",
              "    padding: 0;\n",
              "    width: 32px;\n",
              "  }\n",
              "\n",
              "  .colab-df-quickchart:hover {\n",
              "    background-color: var(--hover-bg-color);\n",
              "    box-shadow: 0 1px 2px rgba(60, 64, 67, 0.3), 0 1px 3px 1px rgba(60, 64, 67, 0.15);\n",
              "    fill: var(--button-hover-fill-color);\n",
              "  }\n",
              "\n",
              "  .colab-df-quickchart-complete:disabled,\n",
              "  .colab-df-quickchart-complete:disabled:hover {\n",
              "    background-color: var(--disabled-bg-color);\n",
              "    fill: var(--disabled-fill-color);\n",
              "    box-shadow: none;\n",
              "  }\n",
              "\n",
              "  .colab-df-spinner {\n",
              "    border: 2px solid var(--fill-color);\n",
              "    border-color: transparent;\n",
              "    border-bottom-color: var(--fill-color);\n",
              "    animation:\n",
              "      spin 1s steps(1) infinite;\n",
              "  }\n",
              "\n",
              "  @keyframes spin {\n",
              "    0% {\n",
              "      border-color: transparent;\n",
              "      border-bottom-color: var(--fill-color);\n",
              "      border-left-color: var(--fill-color);\n",
              "    }\n",
              "    20% {\n",
              "      border-color: transparent;\n",
              "      border-left-color: var(--fill-color);\n",
              "      border-top-color: var(--fill-color);\n",
              "    }\n",
              "    30% {\n",
              "      border-color: transparent;\n",
              "      border-left-color: var(--fill-color);\n",
              "      border-top-color: var(--fill-color);\n",
              "      border-right-color: var(--fill-color);\n",
              "    }\n",
              "    40% {\n",
              "      border-color: transparent;\n",
              "      border-right-color: var(--fill-color);\n",
              "      border-top-color: var(--fill-color);\n",
              "    }\n",
              "    60% {\n",
              "      border-color: transparent;\n",
              "      border-right-color: var(--fill-color);\n",
              "    }\n",
              "    80% {\n",
              "      border-color: transparent;\n",
              "      border-right-color: var(--fill-color);\n",
              "      border-bottom-color: var(--fill-color);\n",
              "    }\n",
              "    90% {\n",
              "      border-color: transparent;\n",
              "      border-bottom-color: var(--fill-color);\n",
              "    }\n",
              "  }\n",
              "</style>\n",
              "\n",
              "      <script>\n",
              "        async function quickchart(key) {\n",
              "          const quickchartButtonEl =\n",
              "            document.querySelector('#' + key + ' button');\n",
              "          quickchartButtonEl.disabled = true;  // To prevent multiple clicks.\n",
              "          quickchartButtonEl.classList.add('colab-df-spinner');\n",
              "          try {\n",
              "            const charts = await google.colab.kernel.invokeFunction(\n",
              "                'suggestCharts', [key], {});\n",
              "          } catch (error) {\n",
              "            console.error('Error during call to suggestCharts:', error);\n",
              "          }\n",
              "          quickchartButtonEl.classList.remove('colab-df-spinner');\n",
              "          quickchartButtonEl.classList.add('colab-df-quickchart-complete');\n",
              "        }\n",
              "        (() => {\n",
              "          let quickchartButtonEl =\n",
              "            document.querySelector('#df-9781050a-ccec-444d-9548-453e2bbf5a34 button');\n",
              "          quickchartButtonEl.style.display =\n",
              "            google.colab.kernel.accessAllowed ? 'block' : 'none';\n",
              "        })();\n",
              "      </script>\n",
              "    </div>\n",
              "\n",
              "  <div id=\"id_89af20f8-0874-498b-b359-c151432392f6\">\n",
              "    <style>\n",
              "      .colab-df-generate {\n",
              "        background-color: #E8F0FE;\n",
              "        border: none;\n",
              "        border-radius: 50%;\n",
              "        cursor: pointer;\n",
              "        display: none;\n",
              "        fill: #1967D2;\n",
              "        height: 32px;\n",
              "        padding: 0 0 0 0;\n",
              "        width: 32px;\n",
              "      }\n",
              "\n",
              "      .colab-df-generate:hover {\n",
              "        background-color: #E2EBFA;\n",
              "        box-shadow: 0px 1px 2px rgba(60, 64, 67, 0.3), 0px 1px 3px 1px rgba(60, 64, 67, 0.15);\n",
              "        fill: #174EA6;\n",
              "      }\n",
              "\n",
              "      [theme=dark] .colab-df-generate {\n",
              "        background-color: #3B4455;\n",
              "        fill: #D2E3FC;\n",
              "      }\n",
              "\n",
              "      [theme=dark] .colab-df-generate:hover {\n",
              "        background-color: #434B5C;\n",
              "        box-shadow: 0px 1px 3px 1px rgba(0, 0, 0, 0.15);\n",
              "        filter: drop-shadow(0px 1px 2px rgba(0, 0, 0, 0.3));\n",
              "        fill: #FFFFFF;\n",
              "      }\n",
              "    </style>\n",
              "    <button class=\"colab-df-generate\" onclick=\"generateWithVariable('datos_desafio')\"\n",
              "            title=\"Generate code using this dataframe.\"\n",
              "            style=\"display:none;\">\n",
              "\n",
              "  <svg xmlns=\"http://www.w3.org/2000/svg\" height=\"24px\"viewBox=\"0 0 24 24\"\n",
              "       width=\"24px\">\n",
              "    <path d=\"M7,19H8.4L18.45,9,17,7.55,7,17.6ZM5,21V16.75L18.45,3.32a2,2,0,0,1,2.83,0l1.4,1.43a1.91,1.91,0,0,1,.58,1.4,1.91,1.91,0,0,1-.58,1.4L9.25,21ZM18.45,9,17,7.55Zm-12,3A5.31,5.31,0,0,0,4.9,8.1,5.31,5.31,0,0,0,1,6.5,5.31,5.31,0,0,0,4.9,4.9,5.31,5.31,0,0,0,6.5,1,5.31,5.31,0,0,0,8.1,4.9,5.31,5.31,0,0,0,12,6.5,5.46,5.46,0,0,0,6.5,12Z\"/>\n",
              "  </svg>\n",
              "    </button>\n",
              "    <script>\n",
              "      (() => {\n",
              "      const buttonEl =\n",
              "        document.querySelector('#id_89af20f8-0874-498b-b359-c151432392f6 button.colab-df-generate');\n",
              "      buttonEl.style.display =\n",
              "        google.colab.kernel.accessAllowed ? 'block' : 'none';\n",
              "\n",
              "      buttonEl.onclick = () => {\n",
              "        google.colab.notebook.generateWithVariable('datos_desafio');\n",
              "      }\n",
              "      })();\n",
              "    </script>\n",
              "  </div>\n",
              "\n",
              "    </div>\n",
              "  </div>\n"
            ],
            "application/vnd.google.colaboratory.intrinsic+json": {
              "type": "dataframe",
              "variable_name": "datos_desafio",
              "summary": "{\n  \"name\": \"datos_desafio\",\n  \"rows\": 394,\n  \"fields\": [\n    {\n      \"column\": \"glicemia\",\n      \"properties\": {\n        \"dtype\": \"number\",\n        \"std\": 12,\n        \"min\": 24,\n        \"max\": 110,\n        \"num_unique_values\": 37,\n        \"samples\": [\n          68,\n          64,\n          60\n        ],\n        \"semantic_type\": \"\",\n        \"description\": \"\"\n      }\n    },\n    {\n      \"column\": \"presion_sanguinea\",\n      \"properties\": {\n        \"dtype\": \"number\",\n        \"std\": 10,\n        \"min\": 7,\n        \"max\": 63,\n        \"num_unique_values\": 48,\n        \"samples\": [\n          51,\n          52,\n          18\n        ],\n        \"semantic_type\": \"\",\n        \"description\": \"\"\n      }\n    },\n    {\n      \"column\": \"grasa_subcutanea_triceps\",\n      \"properties\": {\n        \"dtype\": \"number\",\n        \"std\": 118,\n        \"min\": 14,\n        \"max\": 846,\n        \"num_unique_values\": 185,\n        \"samples\": [\n          240,\n          18,\n          274\n        ],\n        \"semantic_type\": \"\",\n        \"description\": \"\"\n      }\n    },\n    {\n      \"column\": \"insulina\",\n      \"properties\": {\n        \"dtype\": \"number\",\n        \"std\": 7.210160099590896,\n        \"min\": 0.0,\n        \"max\": 67.1,\n        \"num_unique_values\": 195,\n        \"samples\": [\n          42.1,\n          24.0,\n          46.1\n        ],\n        \"semantic_type\": \"\",\n        \"description\": \"\"\n      }\n    },\n    {\n      \"column\": \"imc\",\n      \"properties\": {\n        \"dtype\": \"number\",\n        \"std\": 0.3501269481387728,\n        \"min\": 0.085,\n        \"max\": 2.42,\n        \"num_unique_values\": 332,\n        \"samples\": [\n          0.962,\n          0.251,\n          0.229\n        ],\n        \"semantic_type\": \"\",\n        \"description\": \"\"\n      }\n    },\n    {\n      \"column\": \"diabetes\",\n      \"properties\": {\n        \"dtype\": \"number\",\n        \"std\": 0,\n        \"min\": 0,\n        \"max\": 1,\n        \"num_unique_values\": 2,\n        \"samples\": [\n          1,\n          0\n        ],\n        \"semantic_type\": \"\",\n        \"description\": \"\"\n      }\n    }\n  ]\n}"
            }
          },
          "metadata": {},
          "execution_count": 110
        }
      ]
    },
    {
      "cell_type": "code",
      "source": [
        "X_desafio = datos_desafio.drop(columns='diabetes',axis=1)\n",
        "y_desafio = datos_desafio['diabetes']"
      ],
      "metadata": {
        "id": "rXoJRfUP0qF6"
      },
      "execution_count": 111,
      "outputs": []
    },
    {
      "cell_type": "markdown",
      "source": [
        "#### División de Datos: Entrenamiento, Validación y Prueba"
      ],
      "metadata": {
        "id": "DSRZX-ex1Zyt"
      }
    },
    {
      "cell_type": "code",
      "source": [
        "from sklearn.model_selection import train_test_split"
      ],
      "metadata": {
        "id": "ZoTCUqtZ1Z6h"
      },
      "execution_count": 112,
      "outputs": []
    },
    {
      "cell_type": "code",
      "source": [
        "# División inicial: General vs Prueba\n",
        "X_desafio, X_test_desafio, y_desafio, y_test_desafio = train_test_split(X_desafio, y_desafio, test_size= 0.05, stratify = y_desafio, random_state = 5)\n",
        "\n",
        "# División secundaria: Entrenamiento vs Validación\n",
        "X_train_desafio, X_val_desafio, y_train_desafio, y_val_desafio = train_test_split(X_desafio, y_desafio, stratify = y_desafio, random_state = 5)"
      ],
      "metadata": {
        "id": "hPOLaSuR5hTn"
      },
      "execution_count": 113,
      "outputs": []
    },
    {
      "cell_type": "markdown",
      "source": [
        "#### Modelos: DecisionTreeClassifier y RandomForestClassifier"
      ],
      "metadata": {
        "id": "xq-iZNGg7r2P"
      }
    },
    {
      "cell_type": "code",
      "source": [
        "# Modelo Árbol\n",
        "from sklearn.tree import DecisionTreeClassifier\n",
        "modelo_arbol_desafio = DecisionTreeClassifier(max_depth=3) # Límite de profundidad = 3\n",
        "modelo_arbol_desafio.fit(X_train_desafio,y_train_desafio)                   # Vuelve a entrenar\n",
        "print(f'La exactitud del Modelo de Árbol con el conjunto de entrenamiento es de: {modelo_arbol_desafio.score(X_train_desafio,y_train_desafio)}')\n",
        "print(f'La exactitud del Modelo de Árbol con el conjunto de validación es de: {modelo_arbol_desafio.score(X_val_desafio,y_val_desafio)}')\n",
        "\n",
        "# Respuesta:\n",
        "# La exactitud del Modelo con de Árbol el conjunto de entrenamiento es de: 0.7571428571428571\n",
        "# La exactitud del Modelo con de Árbol el conjunto de validación es de: 0.776595744680851"
      ],
      "metadata": {
        "colab": {
          "base_uri": "https://localhost:8080/"
        },
        "id": "m46ODBRe6iym",
        "outputId": "da8481b7-c79c-46b3-af51-60e45149f058"
      },
      "execution_count": 114,
      "outputs": [
        {
          "output_type": "stream",
          "name": "stdout",
          "text": [
            "La exactitud del Modelo de Árbol con el conjunto de entrenamiento es de: 0.7571428571428571\n",
            "La exactitud del Modelo de Árbol con el conjunto de validación es de: 0.776595744680851\n"
          ]
        }
      ]
    },
    {
      "cell_type": "code",
      "source": [
        "# Modelo Forest\n",
        "from sklearn.ensemble import RandomForestClassifier\n",
        "modelo_forest_desafio = RandomForestClassifier(max_depth=2) # Límite de profundidad = 2\n",
        "modelo_forest_desafio.fit(X_train_desafio,y_train_desafio)                   # Vuelve a entrenar\n",
        "print(f'La exactitud del Modelo Forest con el conjunto de entrenamiento es de: {modelo_forest_desafio.score(X_train_desafio,y_train_desafio)}')\n",
        "print(f'La exactitud del Modelo Forest con el conjunto de validación es de: {modelo_forest_desafio.score(X_val_desafio,y_val_desafio)}')\n",
        "\n",
        "# Respuesta:\n",
        "# La exactitud del Modelo Forest con el conjunto de entrenamiento es de: 0.7285714285714285\n",
        "# La exactitud del Modelo Forest con el conjunto de validación es de: 0.7021276595744681"
      ],
      "metadata": {
        "colab": {
          "base_uri": "https://localhost:8080/"
        },
        "id": "zn-8H_qN9J1P",
        "outputId": "22ed99cb-8c68-4ac3-8294-c25a683c3d53"
      },
      "execution_count": 115,
      "outputs": [
        {
          "output_type": "stream",
          "name": "stdout",
          "text": [
            "La exactitud del Modelo Forest con el conjunto de entrenamiento es de: 0.7357142857142858\n",
            "La exactitud del Modelo Forest con el conjunto de validación es de: 0.7021276595744681\n"
          ]
        }
      ]
    },
    {
      "cell_type": "markdown",
      "source": [
        "#### Matriz de Confusión"
      ],
      "metadata": {
        "id": "rD2SrOYr_UP3"
      }
    },
    {
      "cell_type": "code",
      "source": [
        "from sklearn.metrics import confusion_matrix"
      ],
      "metadata": {
        "id": "7bt7tmBJ_uy2"
      },
      "execution_count": 116,
      "outputs": []
    },
    {
      "cell_type": "code",
      "source": [
        "# Matriz de Confusión tipo Array - Modelo Árbol\n",
        "y_previsto_arbol_desafio = modelo_arbol_desafio.predict(X_val_desafio)\n",
        "matriz_confusion_arbol_desafio = confusion_matrix(y_val_desafio,y_previsto_arbol_desafio)\n",
        "print(matriz_confusion_arbol_desafio)"
      ],
      "metadata": {
        "colab": {
          "base_uri": "https://localhost:8080/"
        },
        "id": "sExO4tt0_vvR",
        "outputId": "1fbe262b-bd1a-4361-e05d-bd26fb5b082d"
      },
      "execution_count": 117,
      "outputs": [
        {
          "output_type": "stream",
          "name": "stdout",
          "text": [
            "[[52 11]\n",
            " [10 21]]\n"
          ]
        }
      ]
    },
    {
      "cell_type": "code",
      "source": [
        "# Matriz de Confusión - Modelo Árbol\n",
        "visualizacion_arbol_desafio = ConfusionMatrixDisplay(\n",
        "    confusion_matrix=matriz_confusion_arbol_desafio,\n",
        "    display_labels=['Sin Diabetes', 'Con Diabetes']  # Etiquetas para las clases 0 y 1\n",
        ")\n",
        "\n",
        "visualizacion_arbol_desafio.plot();"
      ],
      "metadata": {
        "colab": {
          "base_uri": "https://localhost:8080/",
          "height": 449
        },
        "id": "QestKI9__Z61",
        "outputId": "d03b52dc-35f2-4238-fbcf-3baa548348c6"
      },
      "execution_count": 118,
      "outputs": [
        {
          "output_type": "display_data",
          "data": {
            "text/plain": [
              "<Figure size 640x480 with 2 Axes>"
            ],
            "image/png": "[encoded data removed]"
          },
          "metadata": {}
        }
      ]
    },
    {
      "cell_type": "code",
      "source": [
        "# Matriz de Confusión tipo Array - Modelo Forest\n",
        "y_previsto_forest_desafio = modelo_forest_desafio.predict(X_val_desafio)\n",
        "matriz_confusion_forest_desafio = confusion_matrix(y_val_desafio,y_previsto_forest_desafio)\n",
        "print(matriz_confusion_forest_desafio)"
      ],
      "metadata": {
        "colab": {
          "base_uri": "https://localhost:8080/"
        },
        "id": "DIFNHtGZBaYm",
        "outputId": "ed570672-a9c4-4d4e-eb70-5188bbad0599"
      },
      "execution_count": 119,
      "outputs": [
        {
          "output_type": "stream",
          "name": "stdout",
          "text": [
            "[[58  5]\n",
            " [23  8]]\n"
          ]
        }
      ]
    },
    {
      "cell_type": "code",
      "source": [
        "# Matriz de Confusión - Modelo Forest\n",
        "visualizacion_forest_desafio = ConfusionMatrixDisplay(\n",
        "    confusion_matrix=matriz_confusion_forest_desafio,\n",
        "    display_labels=['Sin Diabetes', 'Con Diabetes']  # Etiquetas para las clases 0 y 1\n",
        ")\n",
        "\n",
        "visualizacion_forest_desafio.plot();"
      ],
      "metadata": {
        "colab": {
          "base_uri": "https://localhost:8080/",
          "height": 449
        },
        "id": "0tHCuU5UBaeG",
        "outputId": "65f6ac1f-be3f-4acc-af42-50f8e781b306"
      },
      "execution_count": 120,
      "outputs": [
        {
          "output_type": "display_data",
          "data": {
            "text/plain": [
              "<Figure size 640x480 with 2 Axes>"
            ],
            "image/png": "[encoded data removed]"
          },
          "metadata": {}
        }
      ]
    },
    {
      "cell_type": "markdown",
      "source": [
        "### 2) Métricas de evaluación"
      ],
      "metadata": {
        "id": "-mTyjpwmzg4b"
      }
    },
    {
      "cell_type": "markdown",
      "source": [
        "**Estos desafíos dependen del modelo generado en los desafíos de la clase 1.**\n",
        "\n",
        "**`1 -`** Para una evaluación completa de un modelo de clasificación, podemos explorar métricas que evalúan la tasa de acierto general y también para cada clase de la variable objetivo de forma individual. **`Extrae las métricas de precisión, recall, accuracy y F1-Score de los modelos de clasificación generados en el desafío de la clase 1.`** La biblioteca Scikit-Learn tiene funciones para calcular cada una de las métricas, solo necesitas importar y utilizar como parámetros los valores reales y previstos por el modelo.\n",
        "\n",
        "**`2 -`** Además de métricas numéricas, se pueden explorar gráficos para evaluar el rendimiento de un modelo y comprender si puede diferenciar bien una clase de otra. **`Obtén la curva ROC y la métrica AUC`** de los modelos de clasificación generados en el desafío de la clase 1, comparando las curvas en el mismo gráfico. La curva ROC se puede generar usando el método RocCurveDisplay.from_predictions.\n",
        "\n",
        "**`3 -`** Además de la curva ROC, la curva de precisión x recall se puede usar para evaluar el rendimiento de modelos, siendo más interesante para datos desbalanceados. **`Obtén la curva de precisión x recall y la métrica AP`** de los modelos de clasificación generados en el desafío de la clase 1, comparando las curvas en el mismo gráfico. La curva de precisión x recall se puede generar usando el método PrecisionRecallDisplay.from_predictions.\n",
        "\n",
        "**`4 -`** Un resumen de las principales métricas de clasificación puede ser muy útil para resumir la información y generar insights de forma rápida. **`Genera los informes de métricas de los modelos de clasificación construidos en el desafío de la clase 1`**. El informe de métricas se puede generar a partir de la función classification_report de la biblioteca Scikit-Learn."
      ],
      "metadata": {
        "id": "yaf_TVnazg_m"
      }
    },
    {
      "cell_type": "markdown",
      "source": [
        "#### Extraer Métricas: Precisión, Recall, Accuracy y F1"
      ],
      "metadata": {
        "id": "JJqRZd6s0gNP"
      }
    },
    {
      "cell_type": "code",
      "source": [
        "# Importamos las principales métricas para modelos de clasificación\n",
        "from sklearn.metrics import accuracy_score, precision_score, recall_score, f1_score"
      ],
      "metadata": {
        "id": "Rk_SgPAE1Yc6"
      },
      "execution_count": 121,
      "outputs": []
    },
    {
      "cell_type": "code",
      "source": [
        "# Métricas Modelo Árbol\n",
        "print(f'La precisión del modelo de árbol es: {precision_score(y_val_desafio,y_previsto_arbol_desafio)}')\n",
        "print(f'La sensibilidad (recall) del modelo de árbol es: {recall_score(y_val_desafio,y_previsto_arbol_desafio)}')\n",
        "print(f'La exactitud (accuracy) del modelo de árbol es: {accuracy_score(y_val_desafio,y_previsto_arbol_desafio)}')\n",
        "print(f'El F1-Score del modelo de árbol es: {f1_score(y_val_desafio,y_previsto_arbol_desafio)}')"
      ],
      "metadata": {
        "colab": {
          "base_uri": "https://localhost:8080/"
        },
        "id": "Tys5TiqI11kn",
        "outputId": "09f0ac3c-4bd2-440f-87b8-ac528b87077f"
      },
      "execution_count": 122,
      "outputs": [
        {
          "output_type": "stream",
          "name": "stdout",
          "text": [
            "La precisión del modelo de árbol es: 0.65625\n",
            "La sensibilidad (recall) del modelo de árbol es: 0.6774193548387096\n",
            "La exactitud (accuracy) del modelo de árbol es: 0.776595744680851\n",
            "El F1-Score del modelo de árbol es: 0.6666666666666666\n"
          ]
        }
      ]
    },
    {
      "cell_type": "code",
      "source": [
        "# Métricas Modelo Forest\n",
        "print(f'La precisión del modelo forest es: {precision_score(y_val_desafio,y_previsto_forest_desafio)}')\n",
        "print(f'La sensibilidad (recall) del modelo forest es: {recall_score(y_val_desafio,y_previsto_forest_desafio)}')\n",
        "print(f'La exactitud (accuracy) del modelo forest es: {accuracy_score(y_val_desafio,y_previsto_forest_desafio)}')\n",
        "print(f'El F1-Score del modelo forest es: {f1_score(y_val_desafio,y_previsto_forest_desafio)}')"
      ],
      "metadata": {
        "colab": {
          "base_uri": "https://localhost:8080/"
        },
        "id": "ByvNPFLY2yFF",
        "outputId": "347916d4-848a-4127-f029-1c5396a59bff"
      },
      "execution_count": 123,
      "outputs": [
        {
          "output_type": "stream",
          "name": "stdout",
          "text": [
            "La precisión del modelo forest es: 0.6153846153846154\n",
            "La sensibilidad (recall) del modelo forest es: 0.25806451612903225\n",
            "La exactitud (accuracy) del modelo forest es: 0.7021276595744681\n",
            "El F1-Score del modelo forest es: 0.36363636363636365\n"
          ]
        }
      ]
    },
    {
      "cell_type": "markdown",
      "source": [
        "#### Curva ROC y Métrica AUC"
      ],
      "metadata": {
        "id": "xvjUDGYE0gQn"
      }
    },
    {
      "cell_type": "code",
      "source": [
        "# Importamos la herramienta para graficar la curva ROC\n",
        "from sklearn.metrics import RocCurveDisplay\n",
        "# Importamos la función para calcular el área bajo la curva ROC (AUC)\n",
        "from sklearn.metrics import roc_auc_score"
      ],
      "metadata": {
        "id": "FPlF8Ug41Y4B"
      },
      "execution_count": 124,
      "outputs": []
    },
    {
      "cell_type": "code",
      "source": [
        "# Curva ROC Modelo Árbol\n",
        "RocCurveDisplay.from_predictions(y_val_desafio,y_previsto_arbol_desafio, name='Árbol de Decisión');"
      ],
      "metadata": {
        "colab": {
          "base_uri": "https://localhost:8080/",
          "height": 451
        },
        "id": "lCjwmzR73F4V",
        "outputId": "d90ba8bb-d33f-4f4b-aeec-7036a22ad053"
      },
      "execution_count": 125,
      "outputs": [
        {
          "output_type": "display_data",
          "data": {
            "text/plain": [
              "<Figure size 640x480 with 1 Axes>"
            ],
            "image/png": "[encoded data removed]"
          },
          "metadata": {}
        }
      ]
    },
    {
      "cell_type": "code",
      "source": [
        "# El Área Bajo la Curva (AUC) - Modelo Árbol\n",
        "print(f'El área bajo la curva ROC del modelo de árbol es de: {roc_auc_score(y_val_desafio, y_previsto_arbol_desafio)}')"
      ],
      "metadata": {
        "colab": {
          "base_uri": "https://localhost:8080/"
        },
        "id": "-_7z7vyN34By",
        "outputId": "28645ae6-e673-45cb-b24b-9d366b297f78"
      },
      "execution_count": 126,
      "outputs": [
        {
          "output_type": "stream",
          "name": "stdout",
          "text": [
            "El área bajo la curva ROC del modelo de árbol es de: 0.7514080901177674\n"
          ]
        }
      ]
    },
    {
      "cell_type": "code",
      "source": [
        "# Curva ROC Modelo Forest\n",
        "RocCurveDisplay.from_predictions(y_val_desafio,y_previsto_forest_desafio, name='Random Forest');"
      ],
      "metadata": {
        "colab": {
          "base_uri": "https://localhost:8080/",
          "height": 451
        },
        "id": "REcgvoar3OmU",
        "outputId": "3d835c8d-15aa-4d15-f09f-3b155ceb24d2"
      },
      "execution_count": 127,
      "outputs": [
        {
          "output_type": "display_data",
          "data": {
            "text/plain": [
              "<Figure size 640x480 with 1 Axes>"
            ],
            "image/png": "[encoded data removed]"
          },
          "metadata": {}
        }
      ]
    },
    {
      "cell_type": "code",
      "source": [
        "# El Área Bajo la Curva (AUC) - Modelo Forest\n",
        "print(f'El área bajo la curva ROC del modelo forest es de: {roc_auc_score(y_val_desafio, y_previsto_forest_desafio)}')"
      ],
      "metadata": {
        "colab": {
          "base_uri": "https://localhost:8080/"
        },
        "id": "nawgH-ah34lJ",
        "outputId": "1919ab6c-a242-4b1a-9617-1e8e1c0a51d9"
      },
      "execution_count": 128,
      "outputs": [
        {
          "output_type": "stream",
          "name": "stdout",
          "text": [
            "El área bajo la curva ROC del modelo forest es de: 0.5893497183819765\n"
          ]
        }
      ]
    },
    {
      "cell_type": "markdown",
      "source": [
        "#### Curva de Precisión x Recall y Métrica AP (Average Precision)"
      ],
      "metadata": {
        "id": "3fwUb0EG0gUn"
      }
    },
    {
      "cell_type": "code",
      "source": [
        "# Importamos la clase que permite graficar la curva Precisión vs Recall\n",
        "from sklearn.metrics import PrecisionRecallDisplay"
      ],
      "metadata": {
        "id": "jPVcZ5Er1ZVi"
      },
      "execution_count": 129,
      "outputs": []
    },
    {
      "cell_type": "code",
      "source": [
        "# Curva de Precisión x Recall - Modelo Árbol\n",
        "PrecisionRecallDisplay.from_predictions(y_val_desafio, y_previsto_arbol_desafio, name='Árbol de Decisión');"
      ],
      "metadata": {
        "colab": {
          "base_uri": "https://localhost:8080/",
          "height": 451
        },
        "id": "qhsbacPN4sCb",
        "outputId": "8b5a3e93-65a6-4454-9f2a-68fe4ad8c7c8"
      },
      "execution_count": 130,
      "outputs": [
        {
          "output_type": "display_data",
          "data": {
            "text/plain": [
              "<Figure size 640x480 with 1 Axes>"
            ],
            "image/png": "[encoded data removed]"
          },
          "metadata": {}
        }
      ]
    },
    {
      "cell_type": "code",
      "source": [
        "# Métrica AP - Modelo Árbol\n",
        "print(f'El score promedio de precisión vs recall para el modelo de árbol es de: {average_precision_score(y_val_desafio, y_previsto_arbol_desafio)}')"
      ],
      "metadata": {
        "colab": {
          "base_uri": "https://localhost:8080/"
        },
        "id": "EEaqdo9u5jsQ",
        "outputId": "1e6169b7-5e16-4e65-a87a-7349afd65270"
      },
      "execution_count": 131,
      "outputs": [
        {
          "output_type": "stream",
          "name": "stdout",
          "text": [
            "El score promedio de precisión vs recall para el modelo de árbol es de: 0.5509394303363074\n"
          ]
        }
      ]
    },
    {
      "cell_type": "code",
      "source": [
        "# Curva de Precisión x Recall - Modelo Forest\n",
        "PrecisionRecallDisplay.from_predictions(y_val_desafio, y_previsto_forest_desafio, name='Random Forest');"
      ],
      "metadata": {
        "colab": {
          "base_uri": "https://localhost:8080/",
          "height": 451
        },
        "id": "oYuzrcY55H_5",
        "outputId": "2d0a0e89-ff86-4281-c230-2765c7ebe706"
      },
      "execution_count": 132,
      "outputs": [
        {
          "output_type": "display_data",
          "data": {
            "text/plain": [
              "<Figure size 640x480 with 1 Axes>"
            ],
            "image/png": "[encoded data removed]"
          },
          "metadata": {}
        }
      ]
    },
    {
      "cell_type": "code",
      "source": [
        "# Métrica AP - Modelo Forest\n",
        "print(f'El score promedio de precisión vs recall para el modelo forest es de: {average_precision_score(y_val_desafio, y_previsto_forest_desafio)}')"
      ],
      "metadata": {
        "colab": {
          "base_uri": "https://localhost:8080/"
        },
        "id": "xbbavNho5kwU",
        "outputId": "1aee2d53-1265-4d20-aa35-842028c7bf2e"
      },
      "execution_count": 133,
      "outputs": [
        {
          "output_type": "stream",
          "name": "stdout",
          "text": [
            "El score promedio de precisión vs recall para el modelo forest es de: 0.4034897840663112\n"
          ]
        }
      ]
    },
    {
      "cell_type": "markdown",
      "source": [
        "#### Informe de Métricas"
      ],
      "metadata": {
        "id": "ZrnyWFFL0gYb"
      }
    },
    {
      "cell_type": "code",
      "source": [
        "# Informe de Métricas\n",
        "from sklearn.metrics import classification_report"
      ],
      "metadata": {
        "id": "V0Ez_2Xd1Z55"
      },
      "execution_count": 134,
      "outputs": []
    },
    {
      "cell_type": "code",
      "source": [
        "# Informe de Métricas para Modelo de Árbol\n",
        "print(f'Informe de Métricas para Modelo de Árbol:\\n\\n{classification_report(y_val_desafio, y_previsto_arbol_desafio)}')\n",
        "\n",
        "print('\\n*******************************************************\\n')\n",
        "\n",
        "# Informe de Métricas para Modelo Forest\n",
        "print(f'Informe de Métricas para Modelo Forest:\\n\\n{classification_report(y_val_desafio, y_previsto_forest_desafio)}')"
      ],
      "metadata": {
        "colab": {
          "base_uri": "https://localhost:8080/"
        },
        "id": "zlchN4p46Gd0",
        "outputId": "0d2ea8bd-df52-4c72-c8d6-dbea643257ba"
      },
      "execution_count": 135,
      "outputs": [
        {
          "output_type": "stream",
          "name": "stdout",
          "text": [
            "Informe de Métricas para Modelo de Árbol:\n",
            "\n",
            "              precision    recall  f1-score   support\n",
            "\n",
            "           0       0.84      0.83      0.83        63\n",
            "           1       0.66      0.68      0.67        31\n",
            "\n",
            "    accuracy                           0.78        94\n",
            "   macro avg       0.75      0.75      0.75        94\n",
            "weighted avg       0.78      0.78      0.78        94\n",
            "\n",
            "\n",
            "*******************************************************\n",
            "\n",
            "Informe de Métricas para Modelo Forest:\n",
            "\n",
            "              precision    recall  f1-score   support\n",
            "\n",
            "           0       0.72      0.92      0.81        63\n",
            "           1       0.62      0.26      0.36        31\n",
            "\n",
            "    accuracy                           0.70        94\n",
            "   macro avg       0.67      0.59      0.58        94\n",
            "weighted avg       0.68      0.70      0.66        94\n",
            "\n"
          ]
        }
      ]
    }
  ]
}