{
  "nbformat": 4,
  "nbformat_minor": 0,
  "metadata": {
    "colab": {
      "provenance": [],
      "toc_visible": true
    },
    "kernelspec": {
      "name": "python3",
      "display_name": "Python 3"
    },
    "language_info": {
      "name": "python"
    }
  },
  "cells": [
    {
      "cell_type": "markdown",
      "source": [
        "<a href=\"https://colab.research.google.com/github/DanielRaiicHu/clasificacion_validacion_y_metricas/blob/main/Clasificacion_validacion_y_metricas.ipynb?forceRefresh=true\">\n",
        "  <img src=\"https://drive.google.com/uc?export=view&id=191Woxwut0iaIL2hCcCIeXRSB6oba_88H\" alt=\"Abrir en Colab\" width=\"120\"/>\n",
        "</a>"
      ],
      "metadata": {
        "id": "008mID_VTr_2"
      }
    },
    {
      "cell_type": "markdown",
      "source": [
        "# <font color='dark'>**Clasificación: Validación de modelos y métricas de evaluación**</h1>"
      ],
      "metadata": {
        "id": "MCqTDybk4ShK"
      }
    },
    {
      "cell_type": "markdown",
      "source": [
        "### Proyecto\n",
        "\n",
        "Una empresa de financiamiento de automóviles está atravesando una situación complicada, con una alta demanda para una flota reducida de vehículos y un alto número de morosos, lo que está generando grandes pérdidas para la empresa.\n",
        "\n",
        "Nosotros fuimos contratados para buscar mejoras en la identificación de morosos. El análisis de los clientes actualmente se realiza de forma manual, cliente por cliente, lo que consume mucho tiempo y, aun así, la detección de morosos es muy imprecisa.\n",
        "\n",
        "Nuestra tarea es utilizar los datos proporcionados por la empresa para **clasificar** a los clientes en cumplidores y morosos."
      ],
      "metadata": {
        "id": "WscU3KG7a9No"
      }
    },
    {
      "cell_type": "markdown",
      "source": [
        "## <font color='dark'>1. Clasificando los datos</h1>"
      ],
      "metadata": {
        "id": "WgS8iF51Csrn"
      }
    },
    {
      "cell_type": "markdown",
      "source": [
        "### Creando un modelo inicial"
      ],
      "metadata": {
        "id": "6lExmBuKn-xe"
      }
    },
    {
      "cell_type": "code",
      "source": [
        "import pandas as pd"
      ],
      "metadata": {
        "id": "ANJDC3LqP43q"
      },
      "execution_count": 555,
      "outputs": []
    },
    {
      "cell_type": "code",
      "source": [
        "url = 'https://raw.githubusercontent.com/DanielRaiicHu/clasificacion_validacion_y_metricas/main/prestacar.csv'\n",
        "datos = pd.read_csv(url)\n",
        "datos.head()\n"
      ],
      "metadata": {
        "id": "UPddns6dP4kt",
        "colab": {
          "base_uri": "https://localhost:8080/",
          "height": 206
        },
        "outputId": "7c1c5f6e-c44d-4682-fd17-bf5bea9e3364"
      },
      "execution_count": 556,
      "outputs": [
        {
          "output_type": "execute_result",
          "data": {
            "text/plain": [
              "   ingresos_cliente  anualidad_prestamo  años_casa_propia  telefono_trab  \\\n",
              "0           12600.0         3569.400000         12.157324              1   \n",
              "1            9000.0         2722.188351          7.000000              0   \n",
              "2           15750.0         4477.500000         12.000000              0   \n",
              "3            9000.0         1309.050000         12.157324              0   \n",
              "4            7650.0         1125.000000         12.157324              0   \n",
              "\n",
              "   evaluacion_ciudad   score_1   score_2   score_3  score_social  \\\n",
              "0                2.0  0.057153  0.527227  0.513171      0.117428   \n",
              "1                2.0  0.657661  0.285898  0.614414      0.222700   \n",
              "2                2.0  0.501213  0.695423  0.513171      0.117428   \n",
              "3                3.0  0.501213  0.155973  0.513171      0.117428   \n",
              "4                2.0  0.294328  0.152076  0.513171      0.117428   \n",
              "\n",
              "   cambio_telefono  moroso  \n",
              "0           2545.0       0  \n",
              "1            495.0       0  \n",
              "2           1212.0       0  \n",
              "3            515.0       0  \n",
              "4            162.0       0  "
            ],
            "text/html": [
              "\n",
              "  <div id=\"df-a3fe191f-0eaf-4874-bb65-82c6b2067545\" class=\"colab-df-container\">\n",
              "    <div>\n",
              "<style scoped>\n",
              "    .dataframe tbody tr th:only-of-type {\n",
              "        vertical-align: middle;\n",
              "    }\n",
              "\n",
              "    .dataframe tbody tr th {\n",
              "        vertical-align: top;\n",
              "    }\n",
              "\n",
              "    .dataframe thead th {\n",
              "        text-align: right;\n",
              "    }\n",
              "</style>\n",
              "<table border=\"1\" class=\"dataframe\">\n",
              "  <thead>\n",
              "    <tr style=\"text-align: right;\">\n",
              "      <th></th>\n",
              "      <th>ingresos_cliente</th>\n",
              "      <th>anualidad_prestamo</th>\n",
              "      <th>años_casa_propia</th>\n",
              "      <th>telefono_trab</th>\n",
              "      <th>evaluacion_ciudad</th>\n",
              "      <th>score_1</th>\n",
              "      <th>score_2</th>\n",
              "      <th>score_3</th>\n",
              "      <th>score_social</th>\n",
              "      <th>cambio_telefono</th>\n",
              "      <th>moroso</th>\n",
              "    </tr>\n",
              "  </thead>\n",
              "  <tbody>\n",
              "    <tr>\n",
              "      <th>0</th>\n",
              "      <td>12600.0</td>\n",
              "      <td>3569.400000</td>\n",
              "      <td>12.157324</td>\n",
              "      <td>1</td>\n",
              "      <td>2.0</td>\n",
              "      <td>0.057153</td>\n",
              "      <td>0.527227</td>\n",
              "      <td>0.513171</td>\n",
              "      <td>0.117428</td>\n",
              "      <td>2545.0</td>\n",
              "      <td>0</td>\n",
              "    </tr>\n",
              "    <tr>\n",
              "      <th>1</th>\n",
              "      <td>9000.0</td>\n",
              "      <td>2722.188351</td>\n",
              "      <td>7.000000</td>\n",
              "      <td>0</td>\n",
              "      <td>2.0</td>\n",
              "      <td>0.657661</td>\n",
              "      <td>0.285898</td>\n",
              "      <td>0.614414</td>\n",
              "      <td>0.222700</td>\n",
              "      <td>495.0</td>\n",
              "      <td>0</td>\n",
              "    </tr>\n",
              "    <tr>\n",
              "      <th>2</th>\n",
              "      <td>15750.0</td>\n",
              "      <td>4477.500000</td>\n",
              "      <td>12.000000</td>\n",
              "      <td>0</td>\n",
              "      <td>2.0</td>\n",
              "      <td>0.501213</td>\n",
              "      <td>0.695423</td>\n",
              "      <td>0.513171</td>\n",
              "      <td>0.117428</td>\n",
              "      <td>1212.0</td>\n",
              "      <td>0</td>\n",
              "    </tr>\n",
              "    <tr>\n",
              "      <th>3</th>\n",
              "      <td>9000.0</td>\n",
              "      <td>1309.050000</td>\n",
              "      <td>12.157324</td>\n",
              "      <td>0</td>\n",
              "      <td>3.0</td>\n",
              "      <td>0.501213</td>\n",
              "      <td>0.155973</td>\n",
              "      <td>0.513171</td>\n",
              "      <td>0.117428</td>\n",
              "      <td>515.0</td>\n",
              "      <td>0</td>\n",
              "    </tr>\n",
              "    <tr>\n",
              "      <th>4</th>\n",
              "      <td>7650.0</td>\n",
              "      <td>1125.000000</td>\n",
              "      <td>12.157324</td>\n",
              "      <td>0</td>\n",
              "      <td>2.0</td>\n",
              "      <td>0.294328</td>\n",
              "      <td>0.152076</td>\n",
              "      <td>0.513171</td>\n",
              "      <td>0.117428</td>\n",
              "      <td>162.0</td>\n",
              "      <td>0</td>\n",
              "    </tr>\n",
              "  </tbody>\n",
              "</table>\n",
              "</div>\n",
              "    <div class=\"colab-df-buttons\">\n",
              "\n",
              "  <div class=\"colab-df-container\">\n",
              "    <button class=\"colab-df-convert\" onclick=\"convertToInteractive('df-a3fe191f-0eaf-4874-bb65-82c6b2067545')\"\n",
              "            title=\"Convert this dataframe to an interactive table.\"\n",
              "            style=\"display:none;\">\n",
              "\n",
              "  <svg xmlns=\"http://www.w3.org/2000/svg\" height=\"24px\" viewBox=\"0 -960 960 960\">\n",
              "    <path d=\"M120-120v-720h720v720H120Zm60-500h600v-160H180v160Zm220 220h160v-160H400v160Zm0 220h160v-160H400v160ZM180-400h160v-160H180v160Zm440 0h160v-160H620v160ZM180-180h160v-160H180v160Zm440 0h160v-160H620v160Z\"/>\n",
              "  </svg>\n",
              "    </button>\n",
              "\n",
              "  <style>\n",
              "    .colab-df-container {\n",
              "      display:flex;\n",
              "      gap: 12px;\n",
              "    }\n",
              "\n",
              "    .colab-df-convert {\n",
              "      background-color: #E8F0FE;\n",
              "      border: none;\n",
              "      border-radius: 50%;\n",
              "      cursor: pointer;\n",
              "      display: none;\n",
              "      fill: #1967D2;\n",
              "      height: 32px;\n",
              "      padding: 0 0 0 0;\n",
              "      width: 32px;\n",
              "    }\n",
              "\n",
              "    .colab-df-convert:hover {\n",
              "      background-color: #E2EBFA;\n",
              "      box-shadow: 0px 1px 2px rgba(60, 64, 67, 0.3), 0px 1px 3px 1px rgba(60, 64, 67, 0.15);\n",
              "      fill: #174EA6;\n",
              "    }\n",
              "\n",
              "    .colab-df-buttons div {\n",
              "      margin-bottom: 4px;\n",
              "    }\n",
              "\n",
              "    [theme=dark] .colab-df-convert {\n",
              "      background-color: #3B4455;\n",
              "      fill: #D2E3FC;\n",
              "    }\n",
              "\n",
              "    [theme=dark] .colab-df-convert:hover {\n",
              "      background-color: #434B5C;\n",
              "      box-shadow: 0px 1px 3px 1px rgba(0, 0, 0, 0.15);\n",
              "      filter: drop-shadow(0px 1px 2px rgba(0, 0, 0, 0.3));\n",
              "      fill: #FFFFFF;\n",
              "    }\n",
              "  </style>\n",
              "\n",
              "    <script>\n",
              "      const buttonEl =\n",
              "        document.querySelector('#df-a3fe191f-0eaf-4874-bb65-82c6b2067545 button.colab-df-convert');\n",
              "      buttonEl.style.display =\n",
              "        google.colab.kernel.accessAllowed ? 'block' : 'none';\n",
              "\n",
              "      async function convertToInteractive(key) {\n",
              "        const element = document.querySelector('#df-a3fe191f-0eaf-4874-bb65-82c6b2067545');\n",
              "        const dataTable =\n",
              "          await google.colab.kernel.invokeFunction('convertToInteractive',\n",
              "                                                    [key], {});\n",
              "        if (!dataTable) return;\n",
              "\n",
              "        const docLinkHtml = 'Like what you see? Visit the ' +\n",
              "          '<a target=\"_blank\" href=https://colab.research.google.com/notebooks/data_table.ipynb>data table notebook</a>'\n",
              "          + ' to learn more about interactive tables.';\n",
              "        element.innerHTML = '';\n",
              "        dataTable['output_type'] = 'display_data';\n",
              "        await google.colab.output.renderOutput(dataTable, element);\n",
              "        const docLink = document.createElement('div');\n",
              "        docLink.innerHTML = docLinkHtml;\n",
              "        element.appendChild(docLink);\n",
              "      }\n",
              "    </script>\n",
              "  </div>\n",
              "\n",
              "\n",
              "    <div id=\"df-a19f8040-407c-4fcf-a142-94ecfc2e75c6\">\n",
              "      <button class=\"colab-df-quickchart\" onclick=\"quickchart('df-a19f8040-407c-4fcf-a142-94ecfc2e75c6')\"\n",
              "                title=\"Suggest charts\"\n",
              "                style=\"display:none;\">\n",
              "\n",
              "<svg xmlns=\"http://www.w3.org/2000/svg\" height=\"24px\"viewBox=\"0 0 24 24\"\n",
              "     width=\"24px\">\n",
              "    <g>\n",
              "        <path d=\"M19 3H5c-1.1 0-2 .9-2 2v14c0 1.1.9 2 2 2h14c1.1 0 2-.9 2-2V5c0-1.1-.9-2-2-2zM9 17H7v-7h2v7zm4 0h-2V7h2v10zm4 0h-2v-4h2v4z\"/>\n",
              "    </g>\n",
              "</svg>\n",
              "      </button>\n",
              "\n",
              "<style>\n",
              "  .colab-df-quickchart {\n",
              "      --bg-color: #E8F0FE;\n",
              "      --fill-color: #1967D2;\n",
              "      --hover-bg-color: #E2EBFA;\n",
              "      --hover-fill-color: #174EA6;\n",
              "      --disabled-fill-color: #AAA;\n",
              "      --disabled-bg-color: #DDD;\n",
              "  }\n",
              "\n",
              "  [theme=dark] .colab-df-quickchart {\n",
              "      --bg-color: #3B4455;\n",
              "      --fill-color: #D2E3FC;\n",
              "      --hover-bg-color: #434B5C;\n",
              "      --hover-fill-color: #FFFFFF;\n",
              "      --disabled-bg-color: #3B4455;\n",
              "      --disabled-fill-color: #666;\n",
              "  }\n",
              "\n",
              "  .colab-df-quickchart {\n",
              "    background-color: var(--bg-color);\n",
              "    border: none;\n",
              "    border-radius: 50%;\n",
              "    cursor: pointer;\n",
              "    display: none;\n",
              "    fill: var(--fill-color);\n",
              "    height: 32px;\n",
              "    padding: 0;\n",
              "    width: 32px;\n",
              "  }\n",
              "\n",
              "  .colab-df-quickchart:hover {\n",
              "    background-color: var(--hover-bg-color);\n",
              "    box-shadow: 0 1px 2px rgba(60, 64, 67, 0.3), 0 1px 3px 1px rgba(60, 64, 67, 0.15);\n",
              "    fill: var(--button-hover-fill-color);\n",
              "  }\n",
              "\n",
              "  .colab-df-quickchart-complete:disabled,\n",
              "  .colab-df-quickchart-complete:disabled:hover {\n",
              "    background-color: var(--disabled-bg-color);\n",
              "    fill: var(--disabled-fill-color);\n",
              "    box-shadow: none;\n",
              "  }\n",
              "\n",
              "  .colab-df-spinner {\n",
              "    border: 2px solid var(--fill-color);\n",
              "    border-color: transparent;\n",
              "    border-bottom-color: var(--fill-color);\n",
              "    animation:\n",
              "      spin 1s steps(1) infinite;\n",
              "  }\n",
              "\n",
              "  @keyframes spin {\n",
              "    0% {\n",
              "      border-color: transparent;\n",
              "      border-bottom-color: var(--fill-color);\n",
              "      border-left-color: var(--fill-color);\n",
              "    }\n",
              "    20% {\n",
              "      border-color: transparent;\n",
              "      border-left-color: var(--fill-color);\n",
              "      border-top-color: var(--fill-color);\n",
              "    }\n",
              "    30% {\n",
              "      border-color: transparent;\n",
              "      border-left-color: var(--fill-color);\n",
              "      border-top-color: var(--fill-color);\n",
              "      border-right-color: var(--fill-color);\n",
              "    }\n",
              "    40% {\n",
              "      border-color: transparent;\n",
              "      border-right-color: var(--fill-color);\n",
              "      border-top-color: var(--fill-color);\n",
              "    }\n",
              "    60% {\n",
              "      border-color: transparent;\n",
              "      border-right-color: var(--fill-color);\n",
              "    }\n",
              "    80% {\n",
              "      border-color: transparent;\n",
              "      border-right-color: var(--fill-color);\n",
              "      border-bottom-color: var(--fill-color);\n",
              "    }\n",
              "    90% {\n",
              "      border-color: transparent;\n",
              "      border-bottom-color: var(--fill-color);\n",
              "    }\n",
              "  }\n",
              "</style>\n",
              "\n",
              "      <script>\n",
              "        async function quickchart(key) {\n",
              "          const quickchartButtonEl =\n",
              "            document.querySelector('#' + key + ' button');\n",
              "          quickchartButtonEl.disabled = true;  // To prevent multiple clicks.\n",
              "          quickchartButtonEl.classList.add('colab-df-spinner');\n",
              "          try {\n",
              "            const charts = await google.colab.kernel.invokeFunction(\n",
              "                'suggestCharts', [key], {});\n",
              "          } catch (error) {\n",
              "            console.error('Error during call to suggestCharts:', error);\n",
              "          }\n",
              "          quickchartButtonEl.classList.remove('colab-df-spinner');\n",
              "          quickchartButtonEl.classList.add('colab-df-quickchart-complete');\n",
              "        }\n",
              "        (() => {\n",
              "          let quickchartButtonEl =\n",
              "            document.querySelector('#df-a19f8040-407c-4fcf-a142-94ecfc2e75c6 button');\n",
              "          quickchartButtonEl.style.display =\n",
              "            google.colab.kernel.accessAllowed ? 'block' : 'none';\n",
              "        })();\n",
              "      </script>\n",
              "    </div>\n",
              "\n",
              "    </div>\n",
              "  </div>\n"
            ],
            "application/vnd.google.colaboratory.intrinsic+json": {
              "type": "dataframe",
              "variable_name": "datos",
              "summary": "{\n  \"name\": \"datos\",\n  \"rows\": 54025,\n  \"fields\": [\n    {\n      \"column\": \"ingresos_cliente\",\n      \"properties\": {\n        \"dtype\": \"number\",\n        \"std\": 9658.762569130264,\n        \"min\": 2700.0,\n        \"max\": 450000.0,\n        \"num_unique_values\": 663,\n        \"samples\": [\n          11018.7,\n          38520.0,\n          17796.6\n        ],\n        \"semantic_type\": \"\",\n        \"description\": \"\"\n      }\n    },\n    {\n      \"column\": \"anualidad_prestamo\",\n      \"properties\": {\n        \"dtype\": \"number\",\n        \"std\": 1305.3647344874787,\n        \"min\": 218.7,\n        \"max\": 22500.0,\n        \"num_unique_values\": 8004,\n        \"samples\": [\n          5339.7,\n          5067.0,\n          5757.3\n        ],\n        \"semantic_type\": \"\",\n        \"description\": \"\"\n      }\n    },\n    {\n      \"column\": \"a\\u00f1os_casa_propia\",\n      \"properties\": {\n        \"dtype\": \"number\",\n        \"std\": 7.452120104984191,\n        \"min\": 0.0,\n        \"max\": 69.0,\n        \"num_unique_values\": 53,\n        \"samples\": [\n          11.0,\n          31.0,\n          32.0\n        ],\n        \"semantic_type\": \"\",\n        \"description\": \"\"\n      }\n    },\n    {\n      \"column\": \"telefono_trab\",\n      \"properties\": {\n        \"dtype\": \"number\",\n        \"std\": 0,\n        \"min\": 0,\n        \"max\": 1,\n        \"num_unique_values\": 2,\n        \"samples\": [\n          0,\n          1\n        ],\n        \"semantic_type\": \"\",\n        \"description\": \"\"\n      }\n    },\n    {\n      \"column\": \"evaluacion_ciudad\",\n      \"properties\": {\n        \"dtype\": \"number\",\n        \"std\": 0.49880682251877845,\n        \"min\": 1.0,\n        \"max\": 3.0,\n        \"num_unique_values\": 4,\n        \"samples\": [\n          3.0,\n          2.030038427084816\n        ],\n        \"semantic_type\": \"\",\n        \"description\": \"\"\n      }\n    },\n    {\n      \"column\": \"score_1\",\n      \"properties\": {\n        \"dtype\": \"number\",\n        \"std\": 0.14238945649917853,\n        \"min\": 0.014568132,\n        \"max\": 0.942680454,\n        \"num_unique_values\": 23062,\n        \"samples\": [\n          0.475611877,\n          0.435226091\n        ],\n        \"semantic_type\": \"\",\n        \"description\": \"\"\n      }\n    },\n    {\n      \"column\": \"score_2\",\n      \"properties\": {\n        \"dtype\": \"number\",\n        \"std\": 0.8759454878096079,\n        \"min\": 5e-06,\n        \"max\": 100.0,\n        \"num_unique_values\": 38047,\n        \"samples\": [\n          0.416306086,\n          0.675062411\n        ],\n        \"semantic_type\": \"\",\n        \"description\": \"\"\n      }\n    },\n    {\n      \"column\": \"score_3\",\n      \"properties\": {\n        \"dtype\": \"number\",\n        \"std\": 0.06272486372343226,\n        \"min\": 0.000527265,\n        \"max\": 0.869210801,\n        \"num_unique_values\": 612,\n        \"samples\": [\n          0.420610964,\n          0.168416171\n        ],\n        \"semantic_type\": \"\",\n        \"description\": \"\"\n      }\n    },\n    {\n      \"column\": \"score_social\",\n      \"properties\": {\n        \"dtype\": \"number\",\n        \"std\": 0.0761796573204536,\n        \"min\": 0.0,\n        \"max\": 1.0,\n        \"num_unique_values\": 1459,\n        \"samples\": [\n          0.1674,\n          0.6381\n        ],\n        \"semantic_type\": \"\",\n        \"description\": \"\"\n      }\n    },\n    {\n      \"column\": \"cambio_telefono\",\n      \"properties\": {\n        \"dtype\": \"number\",\n        \"std\": 818.1417090553241,\n        \"min\": 0.0,\n        \"max\": 4185.0,\n        \"num_unique_values\": 3408,\n        \"samples\": [\n          966.0,\n          3099.0\n        ],\n        \"semantic_type\": \"\",\n        \"description\": \"\"\n      }\n    },\n    {\n      \"column\": \"moroso\",\n      \"properties\": {\n        \"dtype\": \"number\",\n        \"std\": 0,\n        \"min\": 0,\n        \"max\": 1,\n        \"num_unique_values\": 2,\n        \"samples\": [\n          1,\n          0\n        ],\n        \"semantic_type\": \"\",\n        \"description\": \"\"\n      }\n    }\n  ]\n}"
            }
          },
          "metadata": {},
          "execution_count": 556
        }
      ]
    },
    {
      "cell_type": "code",
      "source": [
        "# Separa los datos en variables predictoras (X) y variable objetivo (y)\n",
        "X = datos.drop(columns='moroso', axis=1)  # X contiene todas las columnas excepto 'moroso'\n",
        "y = datos.moroso  # y contiene la columna objetivo: si el cliente es moroso"
      ],
      "metadata": {
        "id": "UVIX6QLpP4iC"
      },
      "execution_count": 557,
      "outputs": []
    },
    {
      "cell_type": "code",
      "source": [
        "from sklearn.tree import DecisionTreeClassifier  # Importa el modelo de árbol de decisión\n",
        "\n",
        "modelo = DecisionTreeClassifier()  # Instancia un modelo vacío de árbol de decisión\n",
        "modelo.fit(X, y)  # Entrena el modelo con los datos completos (sin separar en test/train)\n",
        "modelo.score(X, y)  # Calcula la exactitud sobre los mismos datos usados para entrenar"
      ],
      "metadata": {
        "id": "MikoMXI7P4dG",
        "colab": {
          "base_uri": "https://localhost:8080/"
        },
        "outputId": "ff51a709-e62a-47ef-d6c0-51d32fd60a81"
      },
      "execution_count": 558,
      "outputs": [
        {
          "output_type": "execute_result",
          "data": {
            "text/plain": [
              "1.0"
            ]
          },
          "metadata": {},
          "execution_count": 558
        }
      ]
    },
    {
      "cell_type": "code",
      "source": [
        "# Imprime el resultado de la exactitud\n",
        "print(f'La exactitud del modelo es: {modelo.score(X,y)}')\n",
        "# Resultado esperado: La exactitud del modelo es: 1.0\n",
        "\n",
        "# Eso se debe a que el modelo se memorizó todos los casos posibles, pero no es lo más recomendable\n",
        "# Haciendo esto, en el caso de trabajar con un árbol de decisión, siempre va a dar un 100%"
      ],
      "metadata": {
        "colab": {
          "base_uri": "https://localhost:8080/"
        },
        "id": "D-9s0yAWQ7CE",
        "outputId": "d588c81f-0ee7-484e-8bf3-12328ae9e78b"
      },
      "execution_count": 559,
      "outputs": [
        {
          "output_type": "stream",
          "name": "stdout",
          "text": [
            "La exactitud del modelo es: 1.0\n"
          ]
        }
      ]
    },
    {
      "cell_type": "markdown",
      "source": [
        "**Análisis del código:**\n",
        "\n",
        "**¿Qué se hizo?**\n",
        "\n",
        "* Se cargó un dataset sobre morosidad de clientes.\n",
        "\n",
        "* Se entrenó un modelo de clasificación (DecisionTreeClassifier) con todos los datos disponibles.\n",
        "\n",
        "* Se calculó su exactitud usando los mismos datos de entrenamiento.\n",
        "\n",
        "**¿Qué se identificó?**\n",
        "\n",
        "* La exactitud fue 1.0 (100%), lo cual indica sobreajuste: el modelo memorizó los datos.\n",
        "\n",
        "* Este resultado no es confiable, ya que no representa la capacidad real del modelo para predecir datos nuevos.\n",
        "\n",
        "**¿Qué se puede hacer?**\n",
        "\n",
        "* Separar los datos en conjuntos de entrenamiento y prueba, o usar validación cruzada.\n",
        "\n",
        "* Así, se puede verificar si el modelo realmente aprende patrones generales y no solo memoriza.\n",
        "\n",
        "**Conclusión:**\n",
        "\n",
        "* Evaluar el modelo con los mismos datos que se usaron para entrenar no permite medir su capacidad de generalización.\n",
        "\n",
        "* Esto equivale a evaluar a una persona con las mismas preguntas del examen que ya estudió con respuestas incluidas.\n",
        "\n",
        "* Por eso es fundamental dividir los datos (como en la imagen adjunta) en:\n",
        "\n",
        ">* Entrenamiento: para aprender.\n",
        ">\n",
        ">* Validación: para comparar modelos/hyperparámetros.\n",
        ">\n",
        ">* Prueba: para evaluar la capacidad final de predicción en datos nunca vistos."
      ],
      "metadata": {
        "id": "1hZlDPa9TNH6"
      }
    },
    {
      "cell_type": "markdown",
      "source": [
        "### Validando el modelo"
      ],
      "metadata": {
        "id": "EPrFcm39oAof"
      }
    },
    {
      "cell_type": "markdown",
      "source": [
        "Evaluar el modelo con los mismos datos utilizados en el entrenamiento no es recomendable. Es necesario que la evaluación se realice con datos independientes.  \n",
        "\n",
        "Evaluar el modelo con los propios datos de entrenamiento sería equivalente a entregar un examen con las preguntas y las respuestas a una persona y, al momento de evaluarla nuevamente, entregarle un examen con las mismas preguntas y opciones. Se espera que esa persona obtenga un buen resultado, ya que ya ha visto las respuestas y ha memorizado el resultado. Esto es diferente de haber aprendido la materia a partir de ese examen y luego presentar una prueba con contenido similar y obtener un resultado positivo.  \n",
        "\n",
        "Con el objetivo de verificar la capacidad de generalización de un modelo, debemos dividir el conjunto de datos en tres partes: datos de entrenamiento, validación y prueba.  \n",
        "\n",
        "- El **conjunto de entrenamiento** se utiliza para entrenar los modelos. A partir de este conjunto, los modelos identifican patrones en los datos.  \n",
        "\n",
        "- El **conjunto de validación** se emplea para evaluar el desempeño de diferentes modelos con datos nuevos que no fueron utilizados en el entrenamiento.  \n",
        "\n",
        "- El **conjunto de prueba** se mantiene separado desde el inicio para simular datos del mundo real. No se utiliza en ninguna etapa del entrenamiento ni de la validación, sirviendo como una estimación de la capacidad del modelo elegido para generalizar y predecir nuevos datos."
      ],
      "metadata": {
        "id": "v0u-uij9eNcD"
      }
    },
    {
      "cell_type": "markdown",
      "source": [
        "<a href=\"https://ibb.co/9H2Z1HZ5\"><img src=\"https://i.ibb.co/0yZs6ysb/datos-train-test.png\" alt=\"datos-train-test\" border=\"0\"></a>"
      ],
      "metadata": {
        "id": "TCIN5oOJFk_W"
      }
    },
    {
      "cell_type": "code",
      "source": [
        "# Separa en base de entrenamiento y en base de prueba\n",
        "from sklearn.model_selection import train_test_split"
      ],
      "metadata": {
        "id": "OICJjv9HP1QZ"
      },
      "execution_count": 560,
      "outputs": []
    },
    {
      "cell_type": "code",
      "source": [
        "# test_size = 0.15: El 15% de los datos será para prueba\n",
        "# stratify: para dejar la misma cantidad de observaciones para morososo, para los 2 conjuntos que estoy separando (Mantiene la proporción original de clases (moroso/no moroso))\n",
        "# ejemplo: si en mi conjunto de prueba tengo un 10% de morosos, quiero que mi conjunto de entrenamiento también tenga un 10% de morosos\n",
        "# random_state = 5: replica esta misma división en cualquier momento y de la misma forma\n",
        "\n",
        "# División inicial entre conjunto general y conjunto de prueba (15% para prueba)\n",
        "X, X_test,y,y_test = train_test_split(X,y,test_size= 0.15, stratify = y, random_state = 5)\n",
        "\n",
        "# División secundaria: entrenamiento vs validación (por defecto 75% entrenamiento, 25% validación)\n",
        "# (Por defecto el tamaño es del 25%) Conjunto de entrenamiento y validación\n",
        "X_train, X_val,y_train,y_val = train_test_split(X,y, stratify = y, random_state = 5)"
      ],
      "metadata": {
        "id": "mvDcVFFDP1sB"
      },
      "execution_count": 561,
      "outputs": []
    },
    {
      "cell_type": "code",
      "source": [
        "# Instanciar el modelo\n",
        "# Sin límites en el Árbol de Decisión\n",
        "modelo = DecisionTreeClassifier()       # Crea modelo sin restricción de profundidad\n",
        "modelo.fit(X_train,y_train)             # Entrena con los datos de entrenamiento\n",
        "print(f'La exactitud del modelo con el conjunto de entrenamiento es de: {modelo.score(X_train,y_train)}')\n",
        "print(f'La exactitud del modelo con el conjunto de validación es de: {modelo.score(X_val,y_val)}')\n",
        "\n",
        "# Respuesta:\n",
        "# La exactitud del modelo con el conjunto de entrenamiento es de: 1.0\n",
        "# La exactitud del modelo con el conjunto de validación es de: 0.8495775629300584\n",
        "\n",
        "# Esta no es la mejor forma de instanciar un modelo de árbol de decisión, sino que debemos colocar una profundidad con max_depth"
      ],
      "metadata": {
        "id": "sEJPwwG_P1Md",
        "colab": {
          "base_uri": "https://localhost:8080/"
        },
        "outputId": "20d429d1-fa7e-4cb8-ea58-fd00f05a48ab"
      },
      "execution_count": 562,
      "outputs": [
        {
          "output_type": "stream",
          "name": "stdout",
          "text": [
            "La exactitud del modelo con el conjunto de entrenamiento es de: 1.0\n",
            "La exactitud del modelo con el conjunto de validación es de: 0.8470516505530877\n"
          ]
        }
      ]
    },
    {
      "cell_type": "code",
      "source": [
        "# Instanciar el modelo\n",
        "# Con delimitación en el Árbol de Decisión\n",
        "modelo = DecisionTreeClassifier(max_depth=10) # Límite de profundidad = 10\n",
        "modelo.fit(X_train,y_train)                   # Vuelve a entrenar\n",
        "print(f'La exactitud del modelo con el conjunto de entrenamiento es de: {modelo.score(X_train,y_train)}')\n",
        "print(f'La exactitud del modelo con el conjunto de validación es de: {modelo.score(X_val,y_val)}')\n",
        "\n",
        "# Respuesta:\n",
        "# La exactitud del modelo con el conjunto de entrenamiento es de: 0.9206445993031359\n",
        "# La exactitud del modelo con el conjunto de validación es de: 0.905496036930581\n",
        "\n",
        "# Vemos que está generalizando mejor, porque no se está memorizando todas las salidas y únicamente ajustamos un parámetro.\n",
        "# Entonces aquí ya comenzamos a encontrar el camino para poder hacer nuestra validación del modelo"
      ],
      "metadata": {
        "colab": {
          "base_uri": "https://localhost:8080/"
        },
        "id": "CyYy00muWqFB",
        "outputId": "584c6133-9b6e-46c5-965c-9a163f4435cb"
      },
      "execution_count": 563,
      "outputs": [
        {
          "output_type": "stream",
          "name": "stdout",
          "text": [
            "La exactitud del modelo con el conjunto de entrenamiento es de: 0.9206445993031359\n",
            "La exactitud del modelo con el conjunto de validación es de: 0.905496036930581\n"
          ]
        }
      ]
    },
    {
      "cell_type": "markdown",
      "source": [
        "### Evaluando el modelo"
      ],
      "metadata": {
        "id": "WtlRAZt96VLG"
      }
    },
    {
      "cell_type": "code",
      "source": [
        "# Importamos la función confusion_matrix desde sklearn.metrics\n",
        "# Esta función nos permite calcular una matriz que compara los valores reales (y_val) con los valores predichos (y_previsto)\n",
        "from sklearn.metrics import confusion_matrix"
      ],
      "metadata": {
        "id": "IlUZBhPrPyYh"
      },
      "execution_count": 564,
      "outputs": []
    },
    {
      "cell_type": "code",
      "source": [
        "# Generamos las predicciones del modelo sobre el conjunto de validación\n",
        "# X_val contiene los datos de entrada (sin la etiqueta), y el modelo devuelve una lista con 0 (cumplido) o 1 (moroso)\n",
        "y_previsto = modelo.predict(X_val)\n",
        "\n",
        "# Creamos la matriz de confusión, que muestra cómo se desempeñó el modelo al clasificar:\n",
        "# - Verdaderos negativos (TN): cumplidores bien clasificados como cumplidores\n",
        "# - Falsos positivos (FP): cumplidores mal clasificados como morosos\n",
        "# - Falsos negativos (FN): morosos mal clasificados como cumplidores (¡muy importantes!)\n",
        "# - Verdaderos positivos (TP): morosos bien clasificados como morosos\n",
        "matriz_confusion = confusion_matrix(y_val,y_previsto)\n",
        "\n",
        "# Imprimimos la matriz de confusión en forma de array 2x2\n",
        "print(matriz_confusion)\n",
        "\n",
        "# Respuesta:\n",
        "# [[10359   120]\n",
        "#  [  962    40]]"
      ],
      "metadata": {
        "id": "iill3u5HPyOA",
        "colab": {
          "base_uri": "https://localhost:8080/"
        },
        "outputId": "5f54854e-17ee-4061-a2ee-bc437c3ed43e"
      },
      "execution_count": 565,
      "outputs": [
        {
          "output_type": "stream",
          "name": "stdout",
          "text": [
            "[[10356   123]\n",
            " [  962    40]]\n"
          ]
        }
      ]
    },
    {
      "cell_type": "code",
      "source": [
        "# Importamos una clase especial para visualizar la matriz de confusión de forma gráfica\n",
        "from sklearn.metrics import ConfusionMatrixDisplay"
      ],
      "metadata": {
        "id": "gtFWt6emPyJt"
      },
      "execution_count": 566,
      "outputs": []
    },
    {
      "cell_type": "code",
      "source": [
        "# Creamos un objeto de visualización de la matriz, usando directamente la matriz ya calculada\n",
        "# Este objeto permite dibujar un gráfico donde los colores representan la cantidad de aciertos/errores\n",
        "visualizacion = ConfusionMatrixDisplay(matriz_confusion)\n",
        "\n",
        "# Dibujamos la matriz de confusión en pantalla como un gráfico (colores intensos = más casos)\n",
        "# Las etiquetas por defecto son los valores 0 y 1 (cumplido y moroso, respectivamente)\n",
        "visualizacion.plot();"
      ],
      "metadata": {
        "id": "qg0OgZeqPyGJ",
        "colab": {
          "base_uri": "https://localhost:8080/",
          "height": 449
        },
        "outputId": "6638c469-af7b-4a94-8bea-27a6da3fdc3c"
      },
      "execution_count": 567,
      "outputs": [
        {
          "output_type": "display_data",
          "data": {
            "text/plain": [
              "<Figure size 640x480 with 2 Axes>"
            ],
            "image/png": "[encoded data removed]"
          },
          "metadata": {}
        }
      ]
    },
    {
      "cell_type": "code",
      "source": [
        "# Creamos nuevamente el objeto de visualización pero esta vez con etiquetas personalizadas\n",
        "# display_labels nos permite mostrar \"Cumplido\" y \"Moroso\" en vez de 0 y 1, lo cual es más comprensible\n",
        "visualizacion = ConfusionMatrixDisplay(\n",
        "    confusion_matrix=matriz_confusion,\n",
        "    display_labels=['Cumplido', 'Moroso']  # Etiquetas para las clases 0 y 1\n",
        ")\n",
        "\n",
        "# Volvemos a graficar la matriz, pero ahora con las etiquetas descriptivas\n",
        "# Esto hace que el gráfico sea más interpretativo para una presentación o informe\n",
        "visualizacion.plot();"
      ],
      "metadata": {
        "colab": {
          "base_uri": "https://localhost:8080/",
          "height": 449
        },
        "id": "K1ez5cmreOSH",
        "outputId": "07f311dc-8230-41f3-87c8-a44c98a5633e"
      },
      "execution_count": 568,
      "outputs": [
        {
          "output_type": "display_data",
          "data": {
            "text/plain": [
              "<Figure size 640x480 with 2 Axes>"
            ],
            "image/png": "[encoded data removed]"
          },
          "metadata": {}
        }
      ]
    },
    {
      "cell_type": "markdown",
      "source": [
        "**Análisis y explicación:**\n",
        "\n",
        "**¿Qué se hizo?**\n",
        "\n",
        "* Se dividió correctamente el conjunto de datos en tres partes:\n",
        "\n",
        ">* Entrenamiento (para aprender).\n",
        ">\n",
        ">* Validación (para evaluar y ajustar parámetros).\n",
        ">\n",
        ">* Prueba (se reservará para el final).\n",
        "\n",
        "* Se entrenaron dos modelos:\n",
        "\n",
        ">* Uno sin límite de profundidad (max_depth=None): sobreajuste.\n",
        ">\n",
        ">* Uno con max_depth=10: mejor generalización.\n",
        "\n",
        "* Se generó una matriz de confusión para evaluar el desempeño del segundo modelo (mejor).\n",
        "\n",
        "**¿Qué se identificó?**\n",
        "\n",
        "* El primer modelo (sin max_depth) memorizó los datos: 100% exactitud en entrenamiento, pero menos (~85%) en validación.\n",
        "\n",
        "* El segundo modelo (max_depth=10) fue más realista:\n",
        "\n",
        ">* Entrenamiento: 92%\n",
        ">\n",
        ">* Validación: 90.5%\n",
        ">\n",
        ">* Esto indica que generaliza mejor y no memorizó todos los datos.\n",
        "\n",
        "**Matriz de confusión (valores):**\n",
        "\n",
        "```markdown\n",
        "                      |    Predicho Cumplido (0)    |   Predicho Moroso (1)\n",
        "---------------------------------------------------------------------------                      \n",
        "Cumplido (Real 0)\t |    10,359 (TN)\t          |   120 (FP)\n",
        "---------------------------------------------------------------------------\n",
        "Moroso (Real 1)\t   |    962 (FN)\t             |   40 (TP)\n",
        "```\n",
        "\n",
        "* El modelo acierta mucho con los clientes cumplidores, pero falla en detectar morosos.\n",
        "\n",
        "* Esto se debe probablemente a un desequilibrio de clases (morosos son minoría).\n",
        "\n",
        "**¿Qué se puede hacer a continuación?**\n",
        "\n",
        "* Explorar otras métricas además de la exactitud, como:\n",
        "\n",
        ">* Precisión\n",
        ">\n",
        ">* Recall\n",
        ">\n",
        ">* F1-score\n",
        ">\n",
        ">* AUC\n",
        "\n",
        "* Intentar técnicas para tratar el desbalance de clases, como:\n",
        "\n",
        ">* Reentrenamiento con pesos (class_weight)\n",
        ">\n",
        ">* Uso de SMOTE para generar más datos de la clase minoritaria\n",
        ">\n",
        ">* Cambiar el umbral de decisión\n",
        "\n",
        "**Conclusión general hasta ahora:**\n",
        "\n",
        "* Separar los datos correctamente es fundamental para evitar engaños en la evaluación del modelo.\n",
        "\n",
        "* La profundidad del árbol (parámetro max_depth) influye directamente en su capacidad de generalización.\n",
        "\n",
        "* La matriz de confusión nos permite ir más allá de la exactitud, detectando errores críticos como los falsos negativos, muy importantes en problemas como la morosidad."
      ],
      "metadata": {
        "id": "kYIc_8-8ioFd"
      }
    },
    {
      "cell_type": "markdown",
      "source": [
        "### Desafío: construyendo un segundo modelo (RandomForestClassifier)"
      ],
      "metadata": {
        "id": "APocM85qrCbT"
      }
    },
    {
      "cell_type": "markdown",
      "source": [
        "---\n",
        "Segundo modelo (RandomForestClassifier)\n",
        "\n",
        "* Se recomienda utilizar más de un modelo de clasificación en proyectos de machine learning, para que se comparen los resultados y se elija aquel modelo que tenga un mejor desempeño, después de todos los análisis y mejoras.\n",
        "\n",
        "* Utilizamos durante la clase el algoritmo de árbol de decisión, pero la biblioteca Scikit-Learn tiene varios otros métodos de clasificación que pueden ser utilizados en nuestro proyecto. Como desafío, utiliza el algoritmo Random Forest para crear un modelo y evaluar el desempeño con la precisión y la matriz de confusión, y compara los resultados con el resultado del árbol de decisión.\n",
        "\n",
        "* Como un consejo, revisa la documentación del algoritmo RandomForestClassifier. Explora este material y observa cómo importar la función. Durante este proceso, recuerda verificar los parámetros del método para evitar que el modelo se ajuste demasiado a los datos de entrenamiento."
      ],
      "metadata": {
        "id": "1LnAMOKYq7PU"
      }
    },
    {
      "cell_type": "code",
      "source": [
        "# Importamos el modelo RandomForestClassifier desde el módulo ensemble de sklearn\n",
        "# Random Forest es un conjunto de múltiples árboles de decisión que trabajan en conjunto\n",
        "from sklearn.ensemble import RandomForestClassifier\n",
        "from sklearn.metrics import confusion_matrix, ConfusionMatrixDisplay"
      ],
      "metadata": {
        "id": "UwD1o2RhrR7E"
      },
      "execution_count": 569,
      "outputs": []
    },
    {
      "cell_type": "code",
      "source": [
        "# Instanciamos el modelo de Random Forest con profundidad limitada y random_state para reproducibilidad\n",
        "modelo_forest = RandomForestClassifier(max_depth=10)\n",
        "\n",
        "# Entrenamos el modelo con los datos de entrenamiento\n",
        "modelo_forest.fit(X_train, y_train)\n",
        "\n",
        "# Imprimimos la precisión del modelo sobre el conjunto de entrenamiento\n",
        "print(f'Precisión de entrenamiento (Random Forest): {modelo_forest.score(X_train, y_train)}')\n",
        "\n",
        "# Imprimimos la precisión del modelo sobre el conjunto de validación\n",
        "print(f'Precisión de validación (Random Forest): {modelo_forest.score(X_val, y_val)}')\n",
        "\n",
        "\n",
        "# Resultado:\n",
        "# Precisión de entrenamiento: 0.9153890824622531\n",
        "# Precisión de validación: 0.9128124727811167"
      ],
      "metadata": {
        "colab": {
          "base_uri": "https://localhost:8080/"
        },
        "id": "sZY7rJRGrWRs",
        "outputId": "e531c81d-3c43-42d1-ad10-bda246bbd1e1"
      },
      "execution_count": 570,
      "outputs": [
        {
          "output_type": "stream",
          "name": "stdout",
          "text": [
            "Precisión de entrenamiento (Random Forest): 0.9154181184668989\n",
            "Precisión de validación (Random Forest): 0.9127253723543245\n"
          ]
        }
      ]
    },
    {
      "cell_type": "code",
      "source": [
        "# Generamos predicciones para el conjunto de validación\n",
        "y_previsto_forest = modelo_forest.predict(X_val)\n",
        "\n",
        "# Calculamos la matriz de confusión con los valores reales y predichos\n",
        "matriz_confusion_forest = confusion_matrix(y_val, y_previsto_forest)\n",
        "\n",
        "# Visualizamos la matriz de confusión con etiquetas personalizadas\n",
        "visualizacion_forest = ConfusionMatrixDisplay(\n",
        "    confusion_matrix=matriz_confusion_forest,\n",
        "    display_labels=['Cumplidor', 'Moroso']\n",
        ")\n",
        "visualizacion_forest.plot();"
      ],
      "metadata": {
        "colab": {
          "base_uri": "https://localhost:8080/",
          "height": 449
        },
        "id": "M2WknqaXrk6Z",
        "outputId": "0c020cbb-7e79-4c76-9bed-7f2f3f539bc0"
      },
      "execution_count": 571,
      "outputs": [
        {
          "output_type": "display_data",
          "data": {
            "text/plain": [
              "<Figure size 640x480 with 2 Axes>"
            ],
            "image/png": "[encoded data removed]"
          },
          "metadata": {}
        }
      ]
    },
    {
      "cell_type": "markdown",
      "source": [
        "**ANÁLISIS Y EXPLICACIÓN:**\n",
        "\n",
        "**¿Qué hiciste?**\n",
        "\n",
        "* Construiste un nuevo modelo usando Random Forest, con max_depth=10 para limitar su complejidad.\n",
        "\n",
        "* Evaluaste su precisión en entrenamiento y validación.\n",
        "\n",
        "* Generaste una matriz de confusión para entender mejor los aciertos y errores.\n",
        "\n",
        "**Resultados obtenidos:**\n",
        "\n",
        "\n",
        "```\n",
        "                             Árbol de Decisión     Random Forest\n",
        "--------------------------|---------------------|-----------------------\n",
        "Entrenamiento             |  0.9206             |  0.9154\n",
        "--------------------------|---------------------|-----------------------\n",
        "Validación                |  0.9058             |  0.9128 (mejor)\n",
        "--------------------------|---------------------|-----------------------\n",
        "TP (Moroso detectado)     |  40                 |  4 🔻 (empeoró)\n",
        "--------------------------|---------------------|-----------------------\n",
        "FN (Moroso no detectado)  |  962                |  998 🔺 (muchos más)\n",
        "\n",
        "```\n",
        "\n",
        "Aunque la precisión general mejoró, la capacidad del modelo para detectar morosos cayó significativamente (solo detectó 4 de casi 1000). Esto es un ejemplo clásico donde la precisión engaña, y debemos revisar métricas como recall para la clase minoritaria."
      ],
      "metadata": {
        "id": "zh1I8W-DvAQD"
      }
    },
    {
      "cell_type": "markdown",
      "source": [
        "---\n",
        "**En esta clase, aprendiste a:**\n",
        "\n",
        "* Crear un modelo de clasificación usando Scikit-Learn;\n",
        "* Validar modelos a partir de la división de datos de entrenamiento, validación y prueba;\n",
        "* Evaluar el rendimiento de los modelos usando la precisión;\n",
        "* Analizar los aciertos y errores del modelo con la matriz de confusión.\n",
        "---"
      ],
      "metadata": {
        "id": "bbu9BZn4lOgs"
      }
    },
    {
      "cell_type": "markdown",
      "source": [
        "## <font color='dark'>2. Métricas de evaluación</h1>"
      ],
      "metadata": {
        "id": "tPogL-24ntSH"
      }
    },
    {
      "cell_type": "markdown",
      "source": [
        "### Exactitud, precisión y recall (sensibilidad)."
      ],
      "metadata": {
        "id": "nP1WfyyR6XMl"
      }
    },
    {
      "cell_type": "markdown",
      "source": [
        "<a href=\"https://ibb.co/351SbY7t\"><img src=\"https://i.ibb.co/wZypqrRD/matriz-confusion.png\" alt=\"matriz-confusion\" border=\"0\"></a>"
      ],
      "metadata": {
        "id": "oE8N0NqoH6hy"
      }
    },
    {
      "cell_type": "markdown",
      "source": [
        "<a href=\"https://imgbb.com/\"><img src=\"https://i.ibb.co/6Jp6rKyC/Captura-de-tela-2025-03-22-120744.png\" alt=\"Captura-de-tela-2025-03-22-120744\" border=\"0\"></a>"
      ],
      "metadata": {
        "id": "k0ldCSgoZiPX"
      }
    },
    {
      "cell_type": "code",
      "source": [
        "# Métricas de Evaluación\n",
        "# TN: Verdadero Negativo -> Los casos en que el valor real era 0 (cumplidor) y el valor predicho es 0 (cumplidor)\n",
        "# FP: Falso Positivo -> Donde el valor real era 0 (cumplidor), pero se dijo que era 1 (moroso) FALSO moroso [Error Tipo 1]\n",
        "# FN: Falso Negativo -> Donde el valor real era 1 (moroso), pero se dijo que era 0 (cumplidor) FALSO cumplidor [Error Tipo 2]\n",
        "# TP: Verdadero Positivo: Los casos que el valor real era 1 (moroso) y el valor predicho es 1 (moroso)\n",
        "\n",
        "# Formulas según la imagen:\n",
        "# precision  = TP / (TP + FP)\n",
        "# recall     = TP / (TP + FN)\n",
        "# f1-score   = 2 * (precision * recall) / (precision + recall)\n",
        "# accuracy   = (TP + TN) / (TP + TN + FP + FN)\n",
        "# specificity = TN / (TN + FP)  ← No se calcula aquí, pero es útil si se llega a necesitar"
      ],
      "metadata": {
        "id": "IIEaf2fmPmq1"
      },
      "execution_count": 572,
      "outputs": []
    },
    {
      "cell_type": "code",
      "source": [
        "# Importamos las principales métricas para modelos de clasificación binaria\n",
        "# Estas permiten evaluar el modelo más allá de la simple exactitud\n",
        "from sklearn.metrics import accuracy_score, precision_score, recall_score, f1_score"
      ],
      "metadata": {
        "id": "QnGxEIrWPmbx"
      },
      "execution_count": 573,
      "outputs": []
    },
    {
      "cell_type": "code",
      "source": [
        "print(f'Precision: {45/(45+123)}') # Precisión manual según ejemplo"
      ],
      "metadata": {
        "id": "7C7NoVZnPmX1",
        "colab": {
          "base_uri": "https://localhost:8080/"
        },
        "outputId": "d57fa027-6a93-456e-8046-e8cf386c2a10"
      },
      "execution_count": 574,
      "outputs": [
        {
          "output_type": "stream",
          "name": "stdout",
          "text": [
            "Precision: 0.26785714285714285\n"
          ]
        }
      ]
    },
    {
      "cell_type": "code",
      "source": [
        "# Calcula la PRECISIÓN (precision)\n",
        "# Fórmula: TP / (TP + FP)\n",
        "# ¿De todos los casos que predije como morosos, cuántos realmente lo eran?\n",
        "print(f'La precisión del modelo de árbol es: {precision_score(y_val, y_previsto)}')\n",
        "\n",
        "# Calcula la SENSIBILIDAD o RECALL\n",
        "# Fórmula: TP / (TP + FN)\n",
        "# ¿De todos los verdaderos morosos, cuántos logré identificar correctamente?\n",
        "print(f'La sensibilidad (recall) del modelo de árbol es: {recall_score(y_val, y_previsto)}')\n",
        "\n",
        "# Calcula la EXACTITUD (accuracy)\n",
        "# Fórmula: (TP + TN) / (TP + TN + FP + FN)\n",
        "# ¿Qué proporción total de predicciones fueron correctas?\n",
        "print(f'La exactitud (accuracy) del modelo de árbol es: {accuracy_score(y_val, y_previsto)}')\n",
        "\n",
        "# Calcula el F1-SCORE\n",
        "# Fórmula: 2 * (precision * recall) / (precision + recall)\n",
        "# Es el promedio armónico entre precisión y recall. Penaliza fuertemente los valores bajos.\n",
        "print(f'El F1-Score del modelo de árbol es: {f1_score(y_val, y_previsto)}')"
      ],
      "metadata": {
        "id": "u2SqICFJPmU-",
        "colab": {
          "base_uri": "https://localhost:8080/"
        },
        "outputId": "01fc01f6-8bed-4f1f-d38e-80349188f73b"
      },
      "execution_count": 575,
      "outputs": [
        {
          "output_type": "stream",
          "name": "stdout",
          "text": [
            "La precisión del modelo de árbol es: 0.24539877300613497\n",
            "La sensibilidad (recall) del modelo de árbol es: 0.03992015968063872\n",
            "La exactitud (accuracy) del modelo de árbol es: 0.905496036930581\n",
            "El F1-Score del modelo de árbol es: 0.06866952789699571\n"
          ]
        }
      ]
    },
    {
      "cell_type": "markdown",
      "source": [
        "**Cálculos con tu matriz de confusión:**\n",
        "\n",
        "\n",
        "```\n",
        "[[10000, 125],\n",
        " [  960,  42]]\n",
        "```\n",
        "**Desglose:**\n",
        "\n",
        "* **TN** (cumplidor bien clasificado) = 10000\n",
        "\n",
        "* **FP** (falso moroso) = 125\n",
        "\n",
        "* **FN** (falso cumplidor) = 960\n",
        "\n",
        "* **TP** (moroso bien clasificado) = 42\n",
        "\n",
        "Cálculos:\n",
        "\n",
        "```\n",
        "precision  = 42 / (42 + 125) ≈ 0.2515\n",
        "recall     = 42 / (42 + 960) ≈ 0.0419\n",
        "accuracy   = (42 + 10000) / (42 + 960 + 125 + 10000) ≈ 0.9055\n",
        "f1-score   = 2 * (0.2515 * 0.0419) / (0.2515 + 0.0419) ≈ 0.0718\n",
        "```\n",
        "\n",
        "**Interpretación de resultados:**\n",
        "\n",
        "\n",
        "\n",
        "```\n",
        "Métrica   | Valor  |  ¿Qué indica?\n",
        "----------|--------|---------------------------------------------------\n",
        "Accuracy  | 0.905  |  El 90.5% de todas las predicciones\n",
        "          |        |  fueron correctas, pero no es suficiente\n",
        "          |        |  en datasets desbalanceados.\n",
        "----------|--------|---------------------------------------------------\n",
        "Precision | 0.251  |  De todos los clientes clasificados como morosos,\n",
        "          |        |  solo el 25% realmente lo eran.\n",
        "----------|--------|---------------------------------------------------\n",
        "Recall    | 0.0419 |  Solo se identificó correctamente al 4.19% de los\n",
        "          |        |  verdaderos morosos (grave problema si son\n",
        "          |        |  importantes).\n",
        "----------|--------|---------------------------------------------------\n",
        "F1-Score  | 0.0718 |  Muy bajo. Indica desequilibrio extremo entre\n",
        "          |        |  precisión y recall. Penaliza la incapacidad del\n",
        "          |        |  modelo de encontrar morosos.\n",
        "```\n",
        "\n",
        "**Conclusión:**\n",
        "\n",
        "* El modelo predice bien a los cumplidores, pero es muy débil al detectar morosos.\n",
        "\n",
        "* El recall tan bajo (4.2%) indica que el modelo ignora casi todos los morosos reales.\n",
        "\n",
        "* Aunque la accuracy es alta (90.5%), es engañosa porque la clase mayoritaria domina (cumplidores).\n",
        "\n",
        "* Es un caso clásico donde se necesita:\n",
        "\n",
        ">* Ajustar el umbral de decisión.\n",
        ">\n",
        ">* Probar con otros modelos.\n",
        ">\n",
        ">* Aplicar técnicas de balanceo de clases.\n",
        ">\n",
        ">* O simplemente definir una métrica diferente como objetivo, por ejemplo maximizar el recall o el F1.\n",
        "\n"
      ],
      "metadata": {
        "id": "DjaLG2SzZNtC"
      }
    },
    {
      "cell_type": "markdown",
      "source": [
        "### Curva ROC"
      ],
      "metadata": {
        "id": "I8ELhexg2jNx"
      }
    },
    {
      "cell_type": "code",
      "source": [
        "# ROC: Característica Operativa del Receptor\n",
        "# Queremos disminuir el Error Tipo 2, osea, aumentar el puntaje de Recall"
      ],
      "metadata": {
        "id": "Cnkx_n1LgerP"
      },
      "execution_count": 576,
      "outputs": []
    },
    {
      "cell_type": "code",
      "source": [
        "from IPython.display import Image\n",
        "Image(url='https://raw.githubusercontent.com/dariyasydykova/open_projects/master/ROC_animation/animations/cutoff.gif')"
      ],
      "metadata": {
        "colab": {
          "base_uri": "https://localhost:8080/",
          "height": 421
        },
        "id": "PhUNE4Xm4MII",
        "outputId": "8454c7ff-5673-4d15-a5b2-40b53bd2ac12"
      },
      "execution_count": 577,
      "outputs": [
        {
          "output_type": "execute_result",
          "data": {
            "text/html": [
              "<img src=\"https://raw.githubusercontent.com/dariyasydykova/open_projects/master/ROC_animation/animations/cutoff.gif\"/>"
            ],
            "text/plain": [
              "<IPython.core.display.Image object>"
            ]
          },
          "metadata": {},
          "execution_count": 577
        }
      ]
    },
    {
      "cell_type": "markdown",
      "source": [
        "Fuente: [paulvanderlaken.com](https://paulvanderlaken.com/2019/08/16/roc-auc-precision-and-recall-visually-explained/)\n",
        "\n",
        "\n"
      ],
      "metadata": {
        "id": "XK8_7Ruy32BT"
      }
    },
    {
      "cell_type": "code",
      "source": [
        "# Importamos la herramienta para graficar la curva ROC\n",
        "from sklearn.metrics import RocCurveDisplay"
      ],
      "metadata": {
        "id": "FHc-8FjePhM6"
      },
      "execution_count": 578,
      "outputs": []
    },
    {
      "cell_type": "code",
      "source": [
        "# Creamos y graficamos la curva ROC a partir de las predicciones\n",
        "# y_val: etiquetas reales (0 = cumplidor, 1 = moroso)\n",
        "# y_previsto: etiquetas predichas por el modelo (también 0 y 1)\n",
        "# name: nombre que aparecerá en la leyenda del gráfico\n",
        "RocCurveDisplay.from_predictions(y_val, y_previsto, name='Árbol de Decisión');"
      ],
      "metadata": {
        "id": "V6Ua2rY3PhFt",
        "colab": {
          "base_uri": "https://localhost:8080/",
          "height": 451
        },
        "outputId": "39df49ef-7d55-411f-d205-c79f6716078e"
      },
      "execution_count": 579,
      "outputs": [
        {
          "output_type": "display_data",
          "data": {
            "text/plain": [
              "<Figure size 640x480 with 1 Axes>"
            ],
            "image/png": "[encoded data removed]"
          },
          "metadata": {}
        }
      ]
    },
    {
      "cell_type": "code",
      "source": [
        "# Importamos la función para calcular el área bajo la curva ROC (AUC)\n",
        "from sklearn.metrics import roc_auc_score"
      ],
      "metadata": {
        "id": "LJE-yyWMPg8R"
      },
      "execution_count": 580,
      "outputs": []
    },
    {
      "cell_type": "code",
      "source": [
        "# Calcula el área bajo la curva ROC\n",
        "# Un valor de AUC = 0.5 indica que el modelo es tan bueno como lanzar una moneda\n",
        "# Valores cercanos a 1 indican excelente capacidad de diferenciación entre clases\n",
        "print(f'El área bajo la curva ROC es de: {roc_auc_score(y_val, y_previsto)}')"
      ],
      "metadata": {
        "id": "7mtvjPHsPi1o",
        "colab": {
          "base_uri": "https://localhost:8080/"
        },
        "outputId": "dd6aaf1d-b771-4a70-94b4-3f51dc4da02c"
      },
      "execution_count": 581,
      "outputs": [
        {
          "output_type": "stream",
          "name": "stdout",
          "text": [
            "El área bajo la curva ROC es de: 0.5140911992219398\n"
          ]
        }
      ]
    },
    {
      "cell_type": "markdown",
      "source": [
        "**¿Qué es la Curva ROC?**\n",
        "\n",
        "**La curva ROC compara dos tasas:**\n",
        "\n",
        "* True Positive Rate (TPR) = Recall = TP / (TP + FN)\n",
        "\n",
        "* False Positive Rate (FPR) = FP / (FP + TN)\n",
        "\n",
        "Se genera evaluando el modelo con distintos umbrales de clasificación, desde 0 a 1.\n",
        "\n",
        "**¿Qué representa el AUC?**\n",
        "\n",
        "* AUC (Area Under the Curve) **mide el área bajo la curva ROC.**\n",
        "\n",
        "* Interpreta qué tan bien el modelo separa las clases positivas y negativas.\n",
        "\n",
        ">* AUC = 1.0 → separación perfecta.\n",
        ">\n",
        ">* AUC = 0.5 → sin capacidad de discriminación (igual que un modelo aleatorio).\n",
        ">\n",
        ">* AUC < 0.5 → peor que el azar (el modelo se equivoca más que acierta).\n",
        "\n",
        "**Resultado obtenido:**\n",
        "\n",
        "`AUC = 0.51499`\n",
        "\n",
        "Esto indica que:\n",
        "\n",
        ">* Tu modelo es apenas mejor que lanzar una moneda al aire (0.5).\n",
        ">\n",
        ">* Confirma lo que ya mostraban el recall (4%) y el F1-score (7%): el modelo no identifica bien a los morosos.\n",
        "\n",
        "**Interpretación general:**\n",
        "\n",
        "\n",
        "\n",
        "```\n",
        "Métrica     | Resultado          | Interpretación\n",
        "------------|--------------------|--------------------------------\n",
        "AUC ROC     | 0.5149             | Modelo muy limitado para\n",
        "            |                    | distinguir entre morosos y\n",
        "            |                    | cumplidores.\n",
        "------------|--------------------|--------------------------------       \n",
        "Curva ROC   | Casi una diagonal  | Indica bajo poder predictivo. El\n",
        "            |                    | modelo falla en priorizar verdaderos\n",
        "            |                    | positivos sin aumentar mucho los\n",
        "            |                    | falsos positivos.\n",
        "------------|--------------------|--------------------------------  \n",
        "Conclusión  | Se necesita mejorar|\n",
        "            | el modelo o aplicar|\n",
        "            | técnicas de balance|\n",
        "            | de clases.         |\n",
        "```\n",
        "**Recomendaciones:**\n",
        "\n",
        "* Intentar usar predict_proba para obtener probabilidades y ajustar umbrales manualmente.\n",
        "\n",
        "* Aplicar técnicas de resampling, como:\n",
        "\n",
        ">* `SMOTE` (aumentar minoría)\n",
        ">\n",
        ">* `RandomUnderSampler` (reducir mayoría)\n",
        ">\n",
        ">* `class_weight='balanced'` en el modelo\n",
        "\n",
        "* Explorar otros modelos: RandomForest, LogisticRegression, XGBoost, etc."
      ],
      "metadata": {
        "id": "dSlPOwfgjKhG"
      }
    },
    {
      "cell_type": "markdown",
      "source": [
        "### Curva de  precisión x sensibilidad"
      ],
      "metadata": {
        "id": "IztSEZfh7QFe"
      }
    },
    {
      "cell_type": "code",
      "source": [
        "Image(url='https://paulvanderlaken.com/wp-content/uploads/2019/08/roc.gif')"
      ],
      "metadata": {
        "colab": {
          "base_uri": "https://localhost:8080/",
          "height": 421
        },
        "id": "EJzfjuxa3fxD",
        "outputId": "140ffe91-2d88-422b-9c5d-e799604582c4"
      },
      "execution_count": 582,
      "outputs": [
        {
          "output_type": "execute_result",
          "data": {
            "text/html": [
              "<img src=\"https://paulvanderlaken.com/wp-content/uploads/2019/08/roc.gif\"/>"
            ],
            "text/plain": [
              "<IPython.core.display.Image object>"
            ]
          },
          "metadata": {},
          "execution_count": 582
        }
      ]
    },
    {
      "cell_type": "markdown",
      "source": [
        "Fuente: [paulvanderlaken.com](https://paulvanderlaken.com/2019/08/16/roc-auc-precision-and-recall-visually-explained/)\n"
      ],
      "metadata": {
        "id": "bUoGCSUB4msC"
      }
    },
    {
      "cell_type": "code",
      "source": [
        "# Importamos la clase que permite graficar la curva Precisión vs Recall\n",
        "from sklearn.metrics import PrecisionRecallDisplay"
      ],
      "metadata": {
        "id": "7t20ira6Pcds"
      },
      "execution_count": 583,
      "outputs": []
    },
    {
      "cell_type": "code",
      "source": [
        "# Graficamos la curva precisión vs recall usando las etiquetas reales y predichas\n",
        "# La curva muestra cómo varía la precisión al aumentar la cobertura (recall)\n",
        "PrecisionRecallDisplay.from_predictions(y_val, y_previsto, name='Árbol de Decisión');"
      ],
      "metadata": {
        "id": "Drs3Z6RTPcTc",
        "colab": {
          "base_uri": "https://localhost:8080/",
          "height": 451
        },
        "outputId": "f5b2ad13-41de-4b91-efae-acfcf022f582"
      },
      "execution_count": 584,
      "outputs": [
        {
          "output_type": "display_data",
          "data": {
            "text/plain": [
              "<Figure size 640x480 with 1 Axes>"
            ],
            "image/png": "[encoded data removed]"
          },
          "metadata": {}
        }
      ]
    },
    {
      "cell_type": "code",
      "source": [
        "# Importamos la métrica de promedio de precisión (average precision)\n",
        "from sklearn.metrics import average_precision_score"
      ],
      "metadata": {
        "id": "DmhO5H5cPcOp"
      },
      "execution_count": 585,
      "outputs": []
    },
    {
      "cell_type": "code",
      "source": [
        "# Calculamos el promedio de precisión en todos los umbrales\n",
        "# Este score es útil cuando la clase positiva es minoritaria\n",
        "print(f'El score promedio de precisión vs recall es: {average_precision_score(y_val, y_previsto)}')"
      ],
      "metadata": {
        "id": "SS08sHDkPeaG",
        "colab": {
          "base_uri": "https://localhost:8080/"
        },
        "outputId": "8d69eee7-5561-4d71-e8a6-65b5a41a51be"
      },
      "execution_count": 586,
      "outputs": [
        {
          "output_type": "stream",
          "name": "stdout",
          "text": [
            "El score promedio de precisión vs recall es: 0.09358696877782954\n"
          ]
        }
      ]
    },
    {
      "cell_type": "markdown",
      "source": [
        "**¿Qué es la Curva Precisión vs Recall?**\n",
        "\n",
        "* Esta curva evalúa cómo se comporta el modelo al variar el umbral de clasificación.\n",
        "\n",
        "* Cada punto de la curva representa un par (precision, recall) para un umbral distinto.\n",
        "\n",
        "* Útil para ver el compromiso entre encontrar los positivos (recall) y equivocarse poco (precision).\n",
        "\n",
        "**¿Qué representa el AP (Average Precision)?**\n",
        "\n",
        "* Es el área bajo la curva Precision-Recall.\n",
        "\n",
        "* **Calcula el promedio de la precisión obtenida a medida que el modelo encuentra más verdaderos positivos**.\n",
        "\n",
        "* Valores posibles:\n",
        "\n",
        ">* 1.0: clasificación perfecta.\n",
        ">\n",
        ">* 0.5: rendimiento medio.\n",
        ">\n",
        ">* ~0.1 o menos: rendimiento pobre.\n",
        "\n",
        "**Resultado obtenido:**\n",
        "\n",
        "`AP = 0.0941`\n",
        "\n",
        "Esto indica que el modelo:\n",
        "\n",
        ">* Tiene una precisión promedio del 9.4% al ir incrementando el recall.\n",
        ">\n",
        ">* Refuerza lo que vimos en AUC y F1-score: el modelo tiene serias dificultades para identificar correctamente a los morosos, y cuando los identifica, lo hace con muy baja precisión.\n",
        "\n",
        "**Interpretación de la curva:**\n",
        "\n",
        "* La curva cae casi de inmediato.\n",
        "\n",
        "* La mayoría de los puntos tienen recall muy bajo y precisión también muy baja.\n",
        "\n",
        "* Se ve claramente que el modelo no es útil para detectar morosos si queremos priorizar cobertura y acierto.\n",
        "\n",
        "**Conclusión general (acumulando todo):**\n",
        "\n",
        "```\n",
        "Métrica            | Valor | Indica\n",
        "-------------------|-------|-----------------------------------------\n",
        "Recall             | 0.04  | Baja capacidad de detectar morosos.\n",
        "-------------------|-------|-----------------------------------------\n",
        "Precision          | 0.25  | Solo 1 de cada 4 \"morosos\" predichos\n",
        "                   |       | realmente lo es.\n",
        "-------------------|-------|-----------------------------------------\n",
        "AUC ROC            | 0.51  | El modelo apenas supera el azar.\n",
        "-------------------|-------|-----------------------------------------\n",
        "F1-score           | 0.07  | Bajo equilibrio entre recall y precisión.\n",
        "-------------------|-------|-----------------------------------------\n",
        "AP (avg precision) | 0.094 | Rendimiento global pobre frente al\n",
        "                   |       | objetivo de encontrar morosos.\n",
        "```\n",
        "\n",
        "**¿Qué se puede hacer?**\n",
        "\n",
        "* Obligatorio aplicar técnicas de balanceo de clases.\n",
        "\n",
        "* Ajustar el modelo con probabilidades (predict_proba) y cambiar el umbral manualmente.\n",
        "\n",
        "* Probar otros algoritmos: RandomForest, GradientBoosting, LogisticRegression, etc.\n",
        "\n",
        "* Medir impacto de técnicas como:\n",
        "\n",
        ">* `class_weight='balanced'`\n",
        ">\n",
        ">* `SMOTE`, `NearMiss`, `RandomOverSampler`, etc."
      ],
      "metadata": {
        "id": "YBs_erbZoPHI"
      }
    },
    {
      "cell_type": "markdown",
      "source": [
        "### Informe de métricas"
      ],
      "metadata": {
        "id": "Bm2E6GEJDJLH"
      }
    },
    {
      "cell_type": "code",
      "source": [
        "# Informe de Métricas\n",
        "from sklearn.metrics import classification_report"
      ],
      "metadata": {
        "id": "C85qunYhPZTJ"
      },
      "execution_count": 587,
      "outputs": []
    },
    {
      "cell_type": "code",
      "source": [
        "# Este método imprime un informe detallado con precisión, recall, F1-score y cantidad de muestras (support) para cada clase\n",
        "# También incluye promedios macro y ponderados, además del accuracy general\n",
        "print(classification_report(y_val, y_previsto))\n",
        "# clase 0: clientes cumplidores\n",
        "# clase 1: clientes morosos"
      ],
      "metadata": {
        "id": "pnN6QRlYPZQR",
        "colab": {
          "base_uri": "https://localhost:8080/"
        },
        "outputId": "16a4d075-5bd7-4657-b4df-b366379f85e2"
      },
      "execution_count": 588,
      "outputs": [
        {
          "output_type": "stream",
          "name": "stdout",
          "text": [
            "              precision    recall  f1-score   support\n",
            "\n",
            "           0       0.92      0.99      0.95     10479\n",
            "           1       0.25      0.04      0.07      1002\n",
            "\n",
            "    accuracy                           0.91     11481\n",
            "   macro avg       0.58      0.51      0.51     11481\n",
            "weighted avg       0.86      0.91      0.87     11481\n",
            "\n"
          ]
        }
      ]
    },
    {
      "cell_type": "markdown",
      "source": [
        "**Interpretación por sección:**\n",
        "\n",
        "**Clase 0 - Cumplidores**\n",
        "\n",
        "* Precision: 0.92 → El 92% de los clientes que el modelo clasificó como cumplidores, realmente lo eran.\n",
        "\n",
        "* Recall: 0.99 → Casi todos los verdaderos cumplidores fueron detectados correctamente.\n",
        "\n",
        "* F1-score: 0.95 → Muy buen equilibrio entre precisión y cobertura para esta clase.\n",
        "\n",
        "> El modelo funciona muy bien con los cumplidores.\n",
        "\n",
        "**Clase 1 - Morosos**\n",
        "\n",
        "* Precision: 0.25 → Solo el 25% de los clientes clasificados como morosos realmente lo eran.\n",
        "\n",
        "* Recall: 0.04 → El modelo solo identificó correctamente al 4% de los morosos reales.\n",
        "\n",
        "* F1-score: 0.07 → Muy bajo desempeño en esta clase.\n",
        "\n",
        "> El modelo casi ignora a los morosos.\n",
        "\n",
        "**Accuracy general: 0.91**\n",
        "\n",
        "* Aunque suena alto (91%), está sesgado por el desbalance de clases.\n",
        "\n",
        "* Hay muchos más cumplidores, y el modelo se enfoca solo en ellos.\n",
        "\n",
        "**Macro avg**\n",
        "\n",
        "* Promedio simple entre las métricas de ambas clases (no ponderado).\n",
        "\n",
        "* Aquí se ve que en promedio:\n",
        "\n",
        ">* Precision: 0.58\n",
        ">\n",
        ">* Recall: 0.51\n",
        ">\n",
        ">* F1: 0.51\n",
        "\n",
        "* Muestra claramente el bajo rendimiento del modelo en general cuando se le exige tratar a ambas clases por igual.\n",
        "\n",
        "**Weighted avg**\n",
        "\n",
        "* Promedia las métricas de cada clase ponderadas por la cantidad de muestras (support).\n",
        "\n",
        "* Como hay muchos más cumplidores, este promedio se ve \"maquillado\":\n",
        "\n",
        ">* Precision: 0.86\n",
        ">\n",
        ">* Recall: 0.91\n",
        ">\n",
        ">* F1: 0.87\n",
        "\n",
        "* Esta métrica puede ocultar el mal rendimiento con morosos si no se analiza con cuidado.\n",
        "\n",
        "**Conclusión:**\n",
        "\n",
        "```\n",
        "Aspecto             |   Diagnóstico\n",
        "--------------------|-----------------------------------------------------\n",
        "Modelo actual       |   Detecta muy bien a los cumplidores.\n",
        "--------------------|-----------------------------------------------------\n",
        "Morosos             |   Grave problema: apenas detecta el 4% de ellos.\n",
        "--------------------|-----------------------------------------------------\n",
        "Accuracy            |   Engañosamente alto debido al desbalance.\n",
        "--------------------|-----------------------------------------------------\n",
        "Recomendación       |   Redefinir el enfoque: usar recall como métrica\n",
        "                    |   principal para morosos. Aplicar técnicas de\n",
        "                    |   balanceo y ajuste de umbral.\n",
        "```"
      ],
      "metadata": {
        "id": "83G9y4YDxX08"
      }
    },
    {
      "cell_type": "markdown",
      "source": [
        "---\n",
        "**En esta clase, aprendiste a:**\n",
        "\n",
        "* Seleccionar la métrica de clasificación más coherente de acuerdo con el problema;\n",
        "* Extraer precisión, exactitud y recall a partir de la matriz de confusión;\n",
        "* Generar gráficos de la curva ROC y precisión x recall usando la biblioteca Sklearn;\n",
        "* Construir un informe con las principales métricas de rendimiento de modelos de clasificación.\n",
        "---"
      ],
      "metadata": {
        "id": "pNOIZq769QmF"
      }
    },
    {
      "cell_type": "markdown",
      "source": [
        "## <font color='dark'>3. Validación cruzada</h1>"
      ],
      "metadata": {
        "id": "SuxCy_oZZQxE"
      }
    },
    {
      "cell_type": "markdown",
      "source": [
        "### Usando KFold"
      ],
      "metadata": {
        "id": "17q2T0iRnzSg"
      }
    },
    {
      "cell_type": "markdown",
      "source": [
        "La validación del modelo de clasificación a partir de la separación de los datos en conjuntos de entrenamiento y validación hace que el resultado dependa en gran medida de esta división. Puede suceder que, de forma aleatoria, el patrón de los datos de validación sea diferente al de los datos de entrenamiento, lo que podría llevar a obtener un resultado mucho mejor o mucho peor que la realidad simplemente por suerte o mala suerte.  \n",
        "\n",
        "Teniendo esto en cuenta, es posible utilizar la **validación cruzada**, una estrategia más consistente y ampliamente utilizada en proyectos de *machine learning*.  \n",
        "\n",
        "En la validación cruzada, en lugar de separar los datos en entrenamiento y validación una sola vez, se dividen en varias partes de igual tamaño. En cada una de estas divisiones, se usa una parte para validación y todas las demás para entrenamiento. Este proceso se repite hasta que todas las partes hayan sido utilizadas tanto para validación como para entrenamiento.  \n",
        "\n",
        "Se generará un modelo para cada una de estas divisiones y la evaluación del desempeño se realizará promediando la métrica de cada modelo. Esto elimina la dependencia de la separación de los datos, ya que hay una mayor variación en la selección de los mismos y se obtiene un valor medio.  \n",
        "\n",
        "Generalmente, se utilizan 5 o 10 partes. Un número mayor no suele ser necesario, ya que implica un procesamiento más costoso, y valores menores ya ayudan a mitigar el problema de la selección de los datos."
      ],
      "metadata": {
        "id": "zjfYnDWJ6C2A"
      }
    },
    {
      "cell_type": "markdown",
      "source": [
        "<a href=\"https://ibb.co/KcBtshJR\"><img src=\"https://i.ibb.co/nq4X1mFZ/train-y-validacion.png\" alt=\"train-y-validacion\" border=\"0\"></a>"
      ],
      "metadata": {
        "id": "oSboV-QNMG__"
      }
    },
    {
      "cell_type": "code",
      "source": [
        "# Importamos dos funciones de Scikit-Learn:\n",
        "# - KFold: se encarga de dividir los datos en \"K\" bloques (folds) para validación cruzada.\n",
        "# - cross_validate: realiza automáticamente las múltiples divisiones, entrenamientos y evaluaciones.\n",
        "\n",
        "from sklearn.model_selection import KFold, cross_validate"
      ],
      "metadata": {
        "id": "TU8HYdzmPI7P"
      },
      "execution_count": 589,
      "outputs": []
    },
    {
      "cell_type": "code",
      "source": [
        "# Instanciamos el modelo de Árbol de Decisión con profundidad máxima 10\n",
        "# Esta vez no se le pasa random_state al modelo (no es obligatorio), pero sí es bueno dejarlo en KFold para reproducibilidad\n",
        "modelo = DecisionTreeClassifier(max_depth = 10)\n",
        "\n",
        "# Definimos el validador cruzado: KFold\n",
        "# n_splits=5 → divide el conjunto de datos en 5 partes iguales (5-fold cross-validation)\n",
        "# shuffle=True → mezcla aleatoriamente las filas antes de dividirlas (importante para evitar sesgos si los datos están ordenados)\n",
        "# random_state=5 → asegura que las divisiones sean siempre las mismas al ejecutar nuevamente\n",
        "kf = KFold(n_splits=5, shuffle=True, random_state = 5) # kfold\n",
        "\n",
        "# Ejecutamos la validación cruzada con cross_validate\n",
        "# Esto entrena el modelo 5 veces (una por cada fold), y evalúa su desempeño en el fold de validación correspondiente\n",
        "# cv=kf → le pasamos el objeto KFold con la configuración anterior\n",
        "# Retorna un diccionario con varias métricas, entre ellas 'test_score', que almacena los resultados de validación\n",
        "cv_resultados = cross_validate(modelo, X, y, cv=kf) #cross validate\n",
        "cv_resultados"
      ],
      "metadata": {
        "id": "McSadnzDPI4G",
        "colab": {
          "base_uri": "https://localhost:8080/"
        },
        "outputId": "e6197362-7fb7-490a-c2c6-df822987921f"
      },
      "execution_count": 590,
      "outputs": [
        {
          "output_type": "execute_result",
          "data": {
            "text/plain": [
              "{'fit_time': array([0.22810245, 0.22014904, 0.22093439, 0.23257422, 0.22534919]),\n",
              " 'score_time': array([0.00343657, 0.00335455, 0.00330639, 0.00331306, 0.0033927 ]),\n",
              " 'test_score': array([0.91290147, 0.90766551, 0.90744774, 0.91332753, 0.89928136])}"
            ]
          },
          "metadata": {},
          "execution_count": 590
        }
      ]
    },
    {
      "cell_type": "code",
      "source": [
        "# Vemos los resultados de evaluación (exactitud) de cada una de las 5 ejecuciones (folds)\n",
        "cv_resultados['test_score']"
      ],
      "metadata": {
        "id": "o5oZ8-lhPIy_",
        "colab": {
          "base_uri": "https://localhost:8080/"
        },
        "outputId": "263539dd-cbaa-4234-ecac-d2fd16bc7ac8"
      },
      "execution_count": 591,
      "outputs": [
        {
          "output_type": "execute_result",
          "data": {
            "text/plain": [
              "array([0.91290147, 0.90766551, 0.90744774, 0.91332753, 0.89928136])"
            ]
          },
          "metadata": {},
          "execution_count": 591
        }
      ]
    },
    {
      "cell_type": "code",
      "source": [
        "# Calculamos el promedio de exactitud entre los 5 folds\n",
        "promedio = cv_resultados['test_score'].mean()\n",
        "\n",
        "# Calculamos el desvío estándar (cuánto varían los resultados entre folds)\n",
        "desvio_std = cv_resultados['test_score'].std()\n",
        "\n",
        "# Mostramos el promedio de exactitud obtenido a través de los 5 folds\n",
        "print(f'El promedio de la exactitud es de {promedio}')\n",
        "\n",
        "# Mostramos el desvío típico de los resultados\n",
        "print(f'El desvío típico es de: {desvio_std}')\n",
        "\n",
        "# Calculamos el intervalo de confianza teórico de 95%\n",
        "# Esto nos da una idea del rango donde podría estar la verdadera exactitud del modelo\n",
        "print(f'El intervalo de confianza es de {promedio-2*desvio_std},{min(promedio+2*desvio_std , 1)}')"
      ],
      "metadata": {
        "colab": {
          "base_uri": "https://localhost:8080/"
        },
        "id": "XAnmYDNZoyg9",
        "outputId": "9c59afbf-f937-4f44-9242-f86339502c7d"
      },
      "execution_count": 592,
      "outputs": [
        {
          "output_type": "stream",
          "name": "stdout",
          "text": [
            "El promedio de la exactitud es de 0.9081247190446474\n",
            "El desvío típico es de: 0.005074657675835949\n",
            "El intervalo de confianza es de 0.8979754036929756,0.9182740343963193\n"
          ]
        }
      ]
    },
    {
      "cell_type": "markdown",
      "source": [
        "**Ejemplo de salida simulada:**\n",
        "\n",
        "Supongamos que la salida fue:\n",
        "\n",
        "```\n",
        "cv_resultados['test_score']\n",
        "# array([0.901, 0.907, 0.906, 0.904, 0.909])\n",
        "```\n",
        "\n",
        "**Entonces:**\n",
        "\n",
        "```\n",
        "Promedio de exactitud: 0.9054\n",
        "Desvío estándar: ~0.0029\n",
        "Intervalo de confianza (95% aprox): 0.8996 – 0.9112\n",
        "```\n",
        "\n",
        "**Análisis general:**\n",
        "\n",
        "**¿Qué se hizo?**\n",
        "\n",
        "* Se aplicó validación cruzada con 5 particiones (folds), es decir:\n",
        "\n",
        ">* El conjunto se dividió 5 veces.\n",
        ">\n",
        ">* En cada iteración, 4 partes se usaron para entrenar y 1 para validar.\n",
        ">\n",
        ">* Esto se repitió hasta que cada fold fue usado una vez como validación.\n",
        "\n",
        "**¿Qué se identificó?**\n",
        "\n",
        "* El modelo fue evaluado en distintos subconjuntos, reduciendo el riesgo de obtener métricas optimistas o pesimistas por una división afortunada/desafortunada.\n",
        "\n",
        "* El promedio de exactitud representa el rendimiento esperado de forma más confiable.\n",
        "\n",
        "* El desvío estándar indica la estabilidad del modelo: si es bajo, el modelo es consistente.\n",
        "\n",
        "**¿Qué se puede hacer?**\n",
        "\n",
        "* Repetir el procedimiento con distintos modelos para compararlos.\n",
        "\n",
        "* Evaluar otras métricas (precision, recall, F1, AUC) usando el parámetro scoring de cross_validate.\n",
        "\n",
        "* Usar StratifiedKFold si necesitas garantizar el balance de clases en cada fold (como en clasificación desbalanceada).\n",
        "\n",
        "**Ventajas de K-Fold frente a una sola división:**\n",
        "\n",
        "```\n",
        "Técnica tradicional                   |  K-Fold Cross Validation\n",
        "--------------------------------------|-------------------------------------\n",
        "Usa una única división                |  Usa múltiples divisiones\n",
        "--------------------------------------|-------------------------------------\n",
        "Dependencia del azar                  |  Reducción del azar\n",
        "--------------------------------------|-------------------------------------\n",
        "Solo 1 métrica de evaluación          |  Promedio de múltiples resultados\n",
        "--------------------------------------|-------------------------------------\n",
        "Riesgo de sobreajuste o subestimación |  Evaluación más confiable y estable\n",
        "--------------------------------------|-------------------------------------\n",
        "```"
      ],
      "metadata": {
        "id": "JZ77oX2CtEYR"
      }
    },
    {
      "cell_type": "markdown",
      "source": [
        "### Validación cruzada con sensibilidad"
      ],
      "metadata": {
        "id": "GAHrtLM2OCjO"
      }
    },
    {
      "cell_type": "code",
      "source": [
        "# Comentario explicativo:\n",
        "# Aunque por defecto cross_validate calcula la exactitud, aquí lo estamos forzando a usar \"recall\"\n",
        "# Porque el recall es la métrica que nos ayuda a reducir los falsos negativos (morosos que pasan desapercibidos)"
      ],
      "metadata": {
        "id": "Ywfsoe3_PLYZ"
      },
      "execution_count": 593,
      "outputs": []
    },
    {
      "cell_type": "code",
      "source": [
        "# Definimos una función personalizada para calcular el intervalo de confianza del resultado de la validación cruzada\n",
        "def intervalo_confianza(resultados):\n",
        "    promedio = resultados['test_score'].mean()         # Calcula el promedio de los scores de validación cruzada\n",
        "    desvio_std = resultados['test_score'].std()        # Calcula la desviación estándar\n",
        "    return f'El intervalo de confianza es de {promedio-2*desvio_std},{min(promedio+2*desvio_std , 1)}'\n",
        "    # Se retorna el intervalo al 95% de confianza (aproximado con 2 * desviación estándar)\n",
        "    # Se limita el valor superior a 1 usando min()"
      ],
      "metadata": {
        "id": "PV3m-6IxPLMf"
      },
      "execution_count": 594,
      "outputs": []
    },
    {
      "cell_type": "code",
      "source": [
        "# Instanciamos el modelo de árbol de decisión con profundidad máxima de 10 niveles\n",
        "modelo = DecisionTreeClassifier(max_depth = 10)\n",
        "\n",
        "# Definimos la estrategia de validación cruzada (KFold con 5 particiones)\n",
        "# shuffle=True → para mezclar los datos antes de partirlos\n",
        "# random_state=5 → para que las divisiones sean reproducibles\n",
        "kf = KFold(n_splits=5, shuffle=True, random_state = 5) # kfold\n",
        "\n",
        "# Ejecutamos la validación cruzada usando 'recall' como métrica\n",
        "# Esto devuelve los valores de recall obtenidos en cada una de las 5 divisiones\n",
        "cv_resultados = cross_validate(modelo, X, y, cv=kf, scoring = 'recall') #cross validate - con recall (sensibilidad)\n",
        "\n",
        "# Mostramos los resultados crudos del cross_validate\n",
        "cv_resultados\n",
        "# {'fit_time': [...], 'score_time': [...], 'test_score': [0.0264, 0.0223, 0.0196, 0.0169, 0.0244]}\n",
        "# Lo que nos interesa es 'test_score', ya que contiene el recall en cada fold"
      ],
      "metadata": {
        "id": "Y-gpgU7pPLJv",
        "colab": {
          "base_uri": "https://localhost:8080/"
        },
        "outputId": "b6958284-a077-404b-d7c2-5239b5d4f602"
      },
      "execution_count": 595,
      "outputs": [
        {
          "output_type": "execute_result",
          "data": {
            "text/plain": [
              "{'fit_time': array([0.22732949, 0.22405457, 0.22872281, 0.22437954, 0.221838  ]),\n",
              " 'score_time': array([0.00574875, 0.00592923, 0.00546861, 0.00554967, 0.00557041]),\n",
              " 'test_score': array([0.02774108, 0.01856436, 0.0196802 , 0.0156658 , 0.02427746])}"
            ]
          },
          "metadata": {},
          "execution_count": 595
        }
      ]
    },
    {
      "cell_type": "code",
      "source": [
        "# Aplicamos la función para mostrar el intervalo de confianza del recall\n",
        "intervalo_confianza(cv_resultados)"
      ],
      "metadata": {
        "colab": {
          "base_uri": "https://localhost:8080/",
          "height": 36
        },
        "id": "c2lTkKPC5Wjq",
        "outputId": "9d4421c2-2172-4a8a-c4cc-af45a44662a9"
      },
      "execution_count": 596,
      "outputs": [
        {
          "output_type": "execute_result",
          "data": {
            "text/plain": [
              "'El intervalo de confianza es de 0.012600239973077946,0.0297713158080851'"
            ],
            "application/vnd.google.colaboratory.intrinsic+json": {
              "type": "string"
            }
          },
          "metadata": {},
          "execution_count": 596
        }
      ]
    },
    {
      "cell_type": "markdown",
      "source": [
        "**Análisis de resultados:**\n",
        "\n",
        "**¿Qué se hizo?**\n",
        "\n",
        "* Se repitió la validación cruzada con recall como métrica de evaluación.\n",
        "\n",
        "* Se obtuvieron 5 valores de recall (uno por cada fold).\n",
        "\n",
        "* Se calculó su promedio y su intervalo de confianza (estimación del rango real esperado para el recall del modelo).\n",
        "\n",
        "**¿Qué se identificó?**\n",
        "\n",
        "```\n",
        "Métrica         |   Valor estimado\n",
        "----------------|--------------------------\n",
        "Recall medio    |   Aproximadamente 0.021\n",
        "----------------|--------------------------\n",
        "Intervalo 95%   |   Entre 0.0147 y 0.0277\n",
        "----------------|--------------------------\n",
        "```\n",
        "\n",
        "* Esto indica que el modelo apenas detecta entre el 1.5% y 2.7% de los morosos en promedio.\n",
        "\n",
        "* Aunque el modelo tenga buen accuracy general, el recall es extremadamente bajo. Refuerza la necesidad de mejorar el modelo en detección de positivos reales.\n",
        "\n",
        "**¿Qué se puede hacer a continuación?**\n",
        "\n",
        "* Probar con:\n",
        "\n",
        ">* StratifiedKFold para asegurar proporciones de clases en cada fold.\n",
        ">\n",
        ">* Otros modelos más potentes como RandomForest, XGBoost.\n",
        ">\n",
        ">* Técnicas de reponderación como class_weight='balanced'.\n",
        ">\n",
        ">* Balanceo de clases con SMOTE o RandomOverSampler.\n",
        "\n",
        "* Evaluar no solo recall, sino también f1-score en validación cruzada para equilibrar precisión y sensibilidad."
      ],
      "metadata": {
        "id": "DdvpFx0fMUbn"
      }
    },
    {
      "cell_type": "markdown",
      "source": [
        "#### Desafío: validación con otras métricas"
      ],
      "metadata": {
        "id": "eTv__7ShOv_F"
      }
    },
    {
      "cell_type": "markdown",
      "source": [
        "* Para obtener un resultado completo de las métricas en la validación cruzada así como el classification_report, es necesario utilizar el método cross_validate e informar en el parámetro scoring las métricas a evaluar.\n",
        "\n",
        "* Como desafío, construye un código para generar el intervalo de confianza para cada una de las métricas utilizando la validación cruzada:\n",
        "\n",
        ">* Exactitud\n",
        ">\n",
        ">* Recall\n",
        ">\n",
        ">* Precisión\n",
        ">\n",
        ">* F1-score\n"
      ],
      "metadata": {
        "id": "nMJCCbmnOztu"
      }
    },
    {
      "cell_type": "code",
      "source": [
        "# Se define el modelo de árbol de decisión con una profundidad máxima de 10 niveles\n",
        "modelo = DecisionTreeClassifier(max_depth=10)\n",
        "\n",
        "# Se configura la validación cruzada con KFold de 5 particiones\n",
        "# shuffle=True → mezcla los datos para evitar sesgos por orden\n",
        "# random_state=5 → permite obtener siempre las mismas divisiones\n",
        "kf = KFold(n_splits=5, shuffle=True, random_state=5)\n",
        "\n",
        "# Se ejecuta la validación cruzada evaluando múltiples métricas a la vez:\n",
        "# 'accuracy' → exactitud\n",
        "# 'recall' → sensibilidad (clave para morosos)\n",
        "# 'precision' → proporción de verdaderos positivos entre los predichos como tales\n",
        "# 'f1' → balance entre recall y precisión\n",
        "cv_resultados_metricas = cross_validate(modelo, X, y, cv=kf, scoring = ['accuracy','recall', 'precision', 'f1'])\n",
        "\n",
        "# El resultado obtenido es un diccionario con los tiempos de ajuste de los modelos,\n",
        "# tiempos de cálculo de las métricas y los resultados de cada una de las métricas para cada uno de los 5 modelos del KFold:\n",
        "cv_resultados_metricas"
      ],
      "metadata": {
        "colab": {
          "base_uri": "https://localhost:8080/"
        },
        "id": "u4EdJkpmOvZv",
        "outputId": "8def88d9-eb10-487e-900c-5af9bee0ab51"
      },
      "execution_count": 597,
      "outputs": [
        {
          "output_type": "execute_result",
          "data": {
            "text/plain": [
              "{'fit_time': array([0.2235477 , 0.22076893, 0.23535872, 0.2220459 , 0.22200513]),\n",
              " 'score_time': array([0.01203561, 0.01489902, 0.01174212, 0.01160026, 0.01215768]),\n",
              " 'test_accuracy': array([0.91333696, 0.90755662, 0.90755662, 0.91321864, 0.89960801]),\n",
              " 'test_recall': array([0.02642008, 0.01856436, 0.02091021, 0.0156658 , 0.02427746]),\n",
              " 'test_precision': array([0.25316456, 0.21126761, 0.24285714, 0.21818182, 0.21212121]),\n",
              " 'test_f1': array([0.04784689, 0.03412969, 0.0385051 , 0.02923264, 0.04356846])}"
            ]
          },
          "metadata": {},
          "execution_count": 597
        }
      ]
    },
    {
      "cell_type": "code",
      "source": [
        "# Se define una función para calcular y mostrar el intervalo de confianza\n",
        "# Se utiliza la fórmula del intervalo estimado al 95%: media ± 2 * desviación estándar\n",
        "# El resultado se limita a un máximo de 1.0 para evitar valores inválidos\n",
        "def informe_metricas(resultados_met):\n",
        "    for metrica in ['test_accuracy', 'test_recall', 'test_precision', 'test_f1']:\n",
        "        media = resultados_met[metrica].mean()\n",
        "        desvio_estandar = resultados_met[metrica].std()\n",
        "        print(f'Intervalo de confianza({metrica}): [{media-2*desvio_estandar}, {min(media+2*desvio_estandar, 1.0)}]')"
      ],
      "metadata": {
        "id": "Xs1n0rr6Pm9H"
      },
      "execution_count": 598,
      "outputs": []
    },
    {
      "cell_type": "code",
      "source": [
        "# Se ejecuta la función para mostrar los intervalos de confianza de las 4 métricas\n",
        "informe_metricas(cv_resultados_metricas)"
      ],
      "metadata": {
        "colab": {
          "base_uri": "https://localhost:8080/"
        },
        "id": "YzJkfMkKQHE4",
        "outputId": "df4c6f14-50b4-4bab-c6fb-218cc3d4374a"
      },
      "execution_count": 599,
      "outputs": [
        {
          "output_type": "stream",
          "name": "stdout",
          "text": [
            "Intervalo de confianza(test_accuracy): [0.8982070916776634, 0.9183036514859937]\n",
            "Intervalo de confianza(test_recall): [0.01345407361913268, 0.028881085496874806]\n",
            "Intervalo de confianza(test_precision): [0.19309364039502824, 0.2619432939073722]\n",
            "Intervalo de confianza(test_f1): [0.025453083602416604, 0.051860031156022335]\n"
          ]
        }
      ]
    },
    {
      "cell_type": "markdown",
      "source": [
        "**Análisis estructurado:**\n",
        "\n",
        "**¿Qué se visualizó?**\n",
        "\n",
        "* Se implementó una validación cruzada con 5 folds.\n",
        "\n",
        "* Se evaluaron cuatro métricas clave para entender el rendimiento general del modelo:\n",
        "\n",
        ">* accuracy, recall, precision, f1.\n",
        "\n",
        "* Se definió una función personalizada para calcular el intervalo de confianza estimado (95%) para cada métrica.\n",
        "\n",
        "**¿Qué se identificó?**\n",
        "\n",
        "* Aunque la exactitud del modelo es alta, esto es engañoso por el desbalance de clases.\n",
        "\n",
        "* La métrica recall (clave para detectar morosos) es muy baja, lo que evidencia que el modelo no logra detectar correctamente a la mayoría de los clientes morosos.\n",
        "\n",
        "* El f1-score, que intenta balancear recall y precisión, también muestra un desempeño bajo, confirmando la debilidad del modelo en la clase minoritaria.\n",
        "\n",
        "* La estimación del intervalo de confianza ayuda a comprender la estabilidad de cada métrica: un desvío estándar bajo indica resultados consistentes entre folds.\n",
        "\n",
        "**¿Qué se puede hacer?**\n",
        "\n",
        "* Usar StratifiedKFold para asegurar que cada fold mantenga la proporción de morosos y cumplidores.\n",
        "\n",
        "* Aplicar técnicas de balance de clases para mejorar el recall (como class_weight='balanced' o SMOTE).\n",
        "\n",
        "* Comparar otros modelos que puedan mejorar el desempeño general, especialmente en recall."
      ],
      "metadata": {
        "id": "y3SlE2UfR-lW"
      }
    },
    {
      "cell_type": "markdown",
      "source": [
        "### Estratificando los datos"
      ],
      "metadata": {
        "id": "-FAOYtNen4qJ"
      }
    },
    {
      "cell_type": "code",
      "source": [
        "# Recuento de valores en la columna 'moroso' para identificar el desbalance de clases\n",
        "datos['moroso'].value_counts()"
      ],
      "metadata": {
        "id": "G6bPA6vaPN1A",
        "colab": {
          "base_uri": "https://localhost:8080/",
          "height": 178
        },
        "outputId": "ca645756-79db-4fa5-8c86-17f8a299d777"
      },
      "execution_count": 600,
      "outputs": [
        {
          "output_type": "execute_result",
          "data": {
            "text/plain": [
              "moroso\n",
              "0    49309\n",
              "1     4716\n",
              "Name: count, dtype: int64"
            ],
            "text/html": [
              "<div>\n",
              "<style scoped>\n",
              "    .dataframe tbody tr th:only-of-type {\n",
              "        vertical-align: middle;\n",
              "    }\n",
              "\n",
              "    .dataframe tbody tr th {\n",
              "        vertical-align: top;\n",
              "    }\n",
              "\n",
              "    .dataframe thead th {\n",
              "        text-align: right;\n",
              "    }\n",
              "</style>\n",
              "<table border=\"1\" class=\"dataframe\">\n",
              "  <thead>\n",
              "    <tr style=\"text-align: right;\">\n",
              "      <th></th>\n",
              "      <th>count</th>\n",
              "    </tr>\n",
              "    <tr>\n",
              "      <th>moroso</th>\n",
              "      <th></th>\n",
              "    </tr>\n",
              "  </thead>\n",
              "  <tbody>\n",
              "    <tr>\n",
              "      <th>0</th>\n",
              "      <td>49309</td>\n",
              "    </tr>\n",
              "    <tr>\n",
              "      <th>1</th>\n",
              "      <td>4716</td>\n",
              "    </tr>\n",
              "  </tbody>\n",
              "</table>\n",
              "</div><br><label><b>dtype:</b> int64</label>"
            ]
          },
          "metadata": {},
          "execution_count": 600
        }
      ]
    },
    {
      "cell_type": "code",
      "source": [
        "datos['moroso'].value_counts(normalize=True).round(4)"
      ],
      "metadata": {
        "colab": {
          "base_uri": "https://localhost:8080/",
          "height": 178
        },
        "id": "TlAOQU3TiVIS",
        "outputId": "23ee818d-acc9-43d6-9249-4d0f50e58dd0"
      },
      "execution_count": 601,
      "outputs": [
        {
          "output_type": "execute_result",
          "data": {
            "text/plain": [
              "moroso\n",
              "0    0.9127\n",
              "1    0.0873\n",
              "Name: proportion, dtype: float64"
            ],
            "text/html": [
              "<div>\n",
              "<style scoped>\n",
              "    .dataframe tbody tr th:only-of-type {\n",
              "        vertical-align: middle;\n",
              "    }\n",
              "\n",
              "    .dataframe tbody tr th {\n",
              "        vertical-align: top;\n",
              "    }\n",
              "\n",
              "    .dataframe thead th {\n",
              "        text-align: right;\n",
              "    }\n",
              "</style>\n",
              "<table border=\"1\" class=\"dataframe\">\n",
              "  <thead>\n",
              "    <tr style=\"text-align: right;\">\n",
              "      <th></th>\n",
              "      <th>proportion</th>\n",
              "    </tr>\n",
              "    <tr>\n",
              "      <th>moroso</th>\n",
              "      <th></th>\n",
              "    </tr>\n",
              "  </thead>\n",
              "  <tbody>\n",
              "    <tr>\n",
              "      <th>0</th>\n",
              "      <td>0.9127</td>\n",
              "    </tr>\n",
              "    <tr>\n",
              "      <th>1</th>\n",
              "      <td>0.0873</td>\n",
              "    </tr>\n",
              "  </tbody>\n",
              "</table>\n",
              "</div><br><label><b>dtype:</b> float64</label>"
            ]
          },
          "metadata": {},
          "execution_count": 601
        }
      ]
    },
    {
      "cell_type": "code",
      "source": [
        "# Importamos StratifiedKFold, que mantiene la proporción de clases en cada fold\n",
        "from sklearn.model_selection import StratifiedKFold"
      ],
      "metadata": {
        "id": "HONIpY1BPNzd"
      },
      "execution_count": 602,
      "outputs": []
    },
    {
      "cell_type": "code",
      "source": [
        "# Garantiza que la proporción de cada clase se mantenga\n",
        "# En todos estos grupos independientemente como queden, todos tengan un porcentaje aprox de morosos y cumplidores\n",
        "\n",
        "# Instanciamos el modelo de árbol con profundidad máxima de 10\n",
        "modelo = DecisionTreeClassifier(max_depth=10)\n",
        "\n",
        "# Definimos la validación cruzada estratificada (mantiene la proporción de morosos/cumplidores en cada fold)\n",
        "# shuffle=True → mezcla los datos antes de dividirlos\n",
        "# random_state=5 → hace que las divisiones sean reproducibles\n",
        "skf = StratifiedKFold(n_splits=5, shuffle=True, random_state=5)\n",
        "\n",
        "# Ejecutamos la validación cruzada utilizando el recall como métrica principal\n",
        "cv_resultados = cross_validate(modelo, X, y, cv=skf, scoring='recall')"
      ],
      "metadata": {
        "id": "jCFRBhd_PNxT"
      },
      "execution_count": 603,
      "outputs": []
    },
    {
      "cell_type": "code",
      "source": [
        "# Calculamos el intervalo de confianza para los resultados de recall obtenidos\n",
        "intervalo_confianza(cv_resultados)"
      ],
      "metadata": {
        "colab": {
          "base_uri": "https://localhost:8080/",
          "height": 36
        },
        "id": "hsQCeD4iUgVa",
        "outputId": "df67d42b-f95c-4d84-ba47-7d8eb2291f3f"
      },
      "execution_count": 604,
      "outputs": [
        {
          "output_type": "execute_result",
          "data": {
            "text/plain": [
              "'El intervalo de confianza es de 0.017357631240705364,0.03951267738224413'"
            ],
            "application/vnd.google.colaboratory.intrinsic+json": {
              "type": "string"
            }
          },
          "metadata": {},
          "execution_count": 604
        }
      ]
    },
    {
      "cell_type": "markdown",
      "source": [
        "**Análisis estructurado:**\n",
        "\n",
        "**¿Qué se visualizó?**\n",
        "\n",
        "* Se aplicó validación cruzada estratificada con 5 folds, usando StratifiedKFold para asegurar que en cada partición haya una proporción similar de morosos y cumplidores.\n",
        "\n",
        "* Se utilizó recall como métrica de evaluación para mantener el foco en la detección de morosos reales.\n",
        "\n",
        "* Se calculó el intervalo de confianza estimado del recall para entender su variabilidad.\n",
        "\n",
        "**¿Qué se identificó?**\n",
        "\n",
        "* La clase moroso representa solo una pequeña parte del total, lo que justifica el uso de validación estratificada.\n",
        "\n",
        "* El recall promedio sigue siendo bajo, pero más representativo y estable gracias al equilibrio en cada fold.\n",
        "\n",
        "* El intervalo de confianza indica que el modelo puede detectar entre un 1.5% y un 4.1% de los morosos reales, lo cual sigue siendo muy bajo, pero más confiable que sin estratificación.\n",
        "\n",
        "¿**Qué se puede hacer?**\n",
        "\n",
        "* Seguir utilizando StratifiedKFold como estándar en problemas desbalanceados.\n",
        "\n",
        "* Aplicar técnicas de mejora del recall, como:\n",
        "\n",
        ">* class_weight='balanced' en el modelo.\n",
        ">\n",
        ">* Algoritmos alternativos más robustos (e.g., RandomForest, XGBoost).\n",
        ">\n",
        ">* Técnicas de sobremuestreo (SMOTE) o submuestreo (RandomUnderSampler).\n",
        ">\n",
        ">* Ajuste del umbral de decisión con predict_proba()."
      ],
      "metadata": {
        "id": "cE3B-7xEcjo7"
      }
    },
    {
      "cell_type": "markdown",
      "source": [
        "---\n",
        "**En esta clase, aprendiste a:**\n",
        "* Utilizar la validación cruzada con KFold para obtener un resultado más coherente del desempeño de un modelo de clasificación;\n",
        "* Ejecutar la validación cruzada con diferentes métricas de evaluación;\n",
        "* Realizar la validación cruzada estratificada en conjuntos de datos desbalanceados;\n",
        "* Entender las ventajas y desventajas de los diferentes métodos de validación.\n",
        "---"
      ],
      "metadata": {
        "id": "20lzOhQReKb6"
      }
    },
    {
      "cell_type": "markdown",
      "source": [
        "## <font color='dark'>4. Balanceo de los datos</h1>"
      ],
      "metadata": {
        "id": "yaVwNb1kn8sX"
      }
    },
    {
      "cell_type": "markdown",
      "source": [
        "### Oversampling"
      ],
      "metadata": {
        "id": "4eYKxWJd6g6w"
      }
    },
    {
      "cell_type": "markdown",
      "source": [
        "https://imbalanced-learn.org/stable/references/generated/imblearn.over_sampling.SMOTE.html#id1"
      ],
      "metadata": {
        "id": "N0MJ7hGUmL4l"
      }
    },
    {
      "cell_type": "code",
      "source": [
        "# Verificamos la proporción de clases en la variable objetivo 'moroso'\n",
        "# normalize=True convierte los conteos en proporciones, y round(4) redondea a 4 decimales\n",
        "datos['moroso'].value_counts(normalize=True).round(4)"
      ],
      "metadata": {
        "id": "cO0Dx5xAO4B5",
        "colab": {
          "base_uri": "https://localhost:8080/",
          "height": 178
        },
        "outputId": "4aa46b39-1f1e-40ef-a3a8-34d442c404e8"
      },
      "execution_count": 605,
      "outputs": [
        {
          "output_type": "execute_result",
          "data": {
            "text/plain": [
              "moroso\n",
              "0    0.9127\n",
              "1    0.0873\n",
              "Name: proportion, dtype: float64"
            ],
            "text/html": [
              "<div>\n",
              "<style scoped>\n",
              "    .dataframe tbody tr th:only-of-type {\n",
              "        vertical-align: middle;\n",
              "    }\n",
              "\n",
              "    .dataframe tbody tr th {\n",
              "        vertical-align: top;\n",
              "    }\n",
              "\n",
              "    .dataframe thead th {\n",
              "        text-align: right;\n",
              "    }\n",
              "</style>\n",
              "<table border=\"1\" class=\"dataframe\">\n",
              "  <thead>\n",
              "    <tr style=\"text-align: right;\">\n",
              "      <th></th>\n",
              "      <th>proportion</th>\n",
              "    </tr>\n",
              "    <tr>\n",
              "      <th>moroso</th>\n",
              "      <th></th>\n",
              "    </tr>\n",
              "  </thead>\n",
              "  <tbody>\n",
              "    <tr>\n",
              "      <th>0</th>\n",
              "      <td>0.9127</td>\n",
              "    </tr>\n",
              "    <tr>\n",
              "      <th>1</th>\n",
              "      <td>0.0873</td>\n",
              "    </tr>\n",
              "  </tbody>\n",
              "</table>\n",
              "</div><br><label><b>dtype:</b> float64</label>"
            ]
          },
          "metadata": {},
          "execution_count": 605
        }
      ]
    },
    {
      "cell_type": "code",
      "source": [
        "# oversampling (sobre-muestreo) generar datos sinteticos a partir de la clase que es la minoría: morosos"
      ],
      "metadata": {
        "id": "h6DQqcttO3_c"
      },
      "execution_count": 606,
      "outputs": []
    },
    {
      "cell_type": "code",
      "source": [
        "# Importamos la clase SMOTE para realizar oversampling\n",
        "from imblearn.over_sampling import SMOTE"
      ],
      "metadata": {
        "id": "7Lp4GoMRO355"
      },
      "execution_count": 607,
      "outputs": []
    },
    {
      "cell_type": "code",
      "source": [
        "# Creamos una instancia de SMOTE\n",
        "# Luego aplicamos la técnica para balancear la clase minoritaria (morosos)\n",
        "oversampling = SMOTE()\n",
        "x_balanceada, y_balanceada = oversampling.fit_resample(X,y)"
      ],
      "metadata": {
        "id": "rV7LYYP3kfoU"
      },
      "execution_count": 608,
      "outputs": []
    },
    {
      "cell_type": "code",
      "source": [
        "# Verificamos que las clases hayan quedado balanceadas al 50% cada una\n",
        "y_balanceada.value_counts(normalize=True)"
      ],
      "metadata": {
        "colab": {
          "base_uri": "https://localhost:8080/",
          "height": 178
        },
        "id": "oUd9dulsk1Oa",
        "outputId": "e70e50d5-b33b-4d87-e0e1-893ad96e08c6"
      },
      "execution_count": 609,
      "outputs": [
        {
          "output_type": "execute_result",
          "data": {
            "text/plain": [
              "moroso\n",
              "0    0.5\n",
              "1    0.5\n",
              "Name: proportion, dtype: float64"
            ],
            "text/html": [
              "<div>\n",
              "<style scoped>\n",
              "    .dataframe tbody tr th:only-of-type {\n",
              "        vertical-align: middle;\n",
              "    }\n",
              "\n",
              "    .dataframe tbody tr th {\n",
              "        vertical-align: top;\n",
              "    }\n",
              "\n",
              "    .dataframe thead th {\n",
              "        text-align: right;\n",
              "    }\n",
              "</style>\n",
              "<table border=\"1\" class=\"dataframe\">\n",
              "  <thead>\n",
              "    <tr style=\"text-align: right;\">\n",
              "      <th></th>\n",
              "      <th>proportion</th>\n",
              "    </tr>\n",
              "    <tr>\n",
              "      <th>moroso</th>\n",
              "      <th></th>\n",
              "    </tr>\n",
              "  </thead>\n",
              "  <tbody>\n",
              "    <tr>\n",
              "      <th>0</th>\n",
              "      <td>0.5</td>\n",
              "    </tr>\n",
              "    <tr>\n",
              "      <th>1</th>\n",
              "      <td>0.5</td>\n",
              "    </tr>\n",
              "  </tbody>\n",
              "</table>\n",
              "</div><br><label><b>dtype:</b> float64</label>"
            ]
          },
          "metadata": {},
          "execution_count": 609
        }
      ]
    },
    {
      "cell_type": "code",
      "source": [
        "# Verificamos el número total de registros en cada clase\n",
        "y_balanceada.value_counts()"
      ],
      "metadata": {
        "colab": {
          "base_uri": "https://localhost:8080/",
          "height": 178
        },
        "id": "CEiwnFxVlH7a",
        "outputId": "c361e85b-005f-40ea-8d7a-0a960e0ea524"
      },
      "execution_count": 610,
      "outputs": [
        {
          "output_type": "execute_result",
          "data": {
            "text/plain": [
              "moroso\n",
              "0    41912\n",
              "1    41912\n",
              "Name: count, dtype: int64"
            ],
            "text/html": [
              "<div>\n",
              "<style scoped>\n",
              "    .dataframe tbody tr th:only-of-type {\n",
              "        vertical-align: middle;\n",
              "    }\n",
              "\n",
              "    .dataframe tbody tr th {\n",
              "        vertical-align: top;\n",
              "    }\n",
              "\n",
              "    .dataframe thead th {\n",
              "        text-align: right;\n",
              "    }\n",
              "</style>\n",
              "<table border=\"1\" class=\"dataframe\">\n",
              "  <thead>\n",
              "    <tr style=\"text-align: right;\">\n",
              "      <th></th>\n",
              "      <th>count</th>\n",
              "    </tr>\n",
              "    <tr>\n",
              "      <th>moroso</th>\n",
              "      <th></th>\n",
              "    </tr>\n",
              "  </thead>\n",
              "  <tbody>\n",
              "    <tr>\n",
              "      <th>0</th>\n",
              "      <td>41912</td>\n",
              "    </tr>\n",
              "    <tr>\n",
              "      <th>1</th>\n",
              "      <td>41912</td>\n",
              "    </tr>\n",
              "  </tbody>\n",
              "</table>\n",
              "</div><br><label><b>dtype:</b> int64</label>"
            ]
          },
          "metadata": {},
          "execution_count": 610
        }
      ]
    },
    {
      "cell_type": "code",
      "source": [
        "# Definimos un modelo de Árbol de Decisión con profundidad máxima 10\n",
        "modelo = DecisionTreeClassifier(max_depth=10)\n",
        "\n",
        "# Creamos una validación cruzada estratificada con 5 particiones\n",
        "# shuffle=True para mezclar los datos, random_state=5 para reproducibilidad\n",
        "skf = StratifiedKFold(n_splits=5, shuffle=True, random_state=5)\n",
        "\n",
        "# Evaluamos el modelo usando validación cruzada con la métrica de recall\n",
        "cv_resultados = cross_validate(modelo, x_balanceada, y_balanceada, cv=skf, scoring='recall')"
      ],
      "metadata": {
        "id": "Ydm9aKe3lhBT"
      },
      "execution_count": 611,
      "outputs": []
    },
    {
      "cell_type": "code",
      "source": [
        "# Calculamos el intervalo de confianza de los resultados del recall\n",
        "intervalo_confianza(cv_resultados)"
      ],
      "metadata": {
        "colab": {
          "base_uri": "https://localhost:8080/",
          "height": 36
        },
        "id": "0tATjHCPlrgz",
        "outputId": "b02dd13b-a232-4536-e196-0d30807ebaaa"
      },
      "execution_count": 612,
      "outputs": [
        {
          "output_type": "execute_result",
          "data": {
            "text/plain": [
              "'El intervalo de confianza es de 0.7202155832509562,0.756019931392435'"
            ],
            "application/vnd.google.colaboratory.intrinsic+json": {
              "type": "string"
            }
          },
          "metadata": {},
          "execution_count": 612
        }
      ]
    },
    {
      "cell_type": "markdown",
      "source": [
        " **Explicación de lo aprendido en esta clase**\n",
        "\n",
        "**¿Qué se hizo?**\n",
        "\n",
        "* Se evaluó el desbalance de clases en la variable objetivo moroso, observando que solo un 8.73% de los clientes eran morosos.\n",
        "\n",
        "* Se aplicó SMOTE, una técnica de oversampling que genera ejemplos sintéticos de la clase minoritaria.\n",
        "\n",
        "* Se equilibraron las clases, logrando un 50% para cada una.\n",
        "\n",
        "* Se utilizó un Árbol de Decisión con validación cruzada estratificada (StratifiedKFold) y se evaluó con la métrica recall.\n",
        "\n",
        "**¿Qué se identificó?**\n",
        "\n",
        "* El modelo fue entrenado sobre un conjunto balanceado, lo cual ayuda a detectar mejor a los morosos, que son la clase de interés.\n",
        "\n",
        "* El recall promedio del modelo se encuentra dentro de un intervalo de confianza entre 0.7186 y 0.7513, indicando una mejora significativa respecto al modelo anterior entrenado con datos desbalanceados.\n",
        "\n",
        "**¿Qué se puede hacer?**\n",
        "\n",
        "* Continuar comparando este modelo con otros como Random Forest, KNN o Regresión Logística.\n",
        "\n",
        "* Evaluar nuevas métricas como la precisión o el F1-score, que combinan correctamente los errores tipo 1 y tipo 2.\n",
        "\n",
        "* Probar técnicas de undersampling o combinar métodos para refinar aún más la predicción."
      ],
      "metadata": {
        "id": "gMoNDL4SnLhx"
      }
    },
    {
      "cell_type": "markdown",
      "source": [
        "### Pipeline para validación"
      ],
      "metadata": {
        "id": "fHSNXznm6ia-"
      }
    },
    {
      "cell_type": "code",
      "source": [
        "# La validación anterior no es óptima, ya que se evaluó usando datos ya balanceados.\n",
        "# Para medir correctamente el rendimiento real, debemos balancear los datos solo dentro del entrenamiento,\n",
        "# manteniendo los datos originales (desbalanceados) para la validación.\n",
        "\n",
        "# El pipeline se utiliza para realizar la transformación en los datos en cada una de las divisiones de forma independiente,\n",
        "# además, la transformación de oversampling se realiza solo en los datos de entrenamiento,\n",
        "# manteniendo la proporción original de los datos reales en el conjunto de validación."
      ],
      "metadata": {
        "id": "DaoAbR84O44S"
      },
      "execution_count": 613,
      "outputs": []
    },
    {
      "cell_type": "code",
      "source": [
        "# Importamos la clase Pipeline de imblearn, que permite encadenar pasos de procesamiento y modelado\n",
        "from imblearn.pipeline import Pipeline as imbpipeline"
      ],
      "metadata": {
        "id": "7UezUduWO41c"
      },
      "execution_count": 614,
      "outputs": []
    },
    {
      "cell_type": "code",
      "source": [
        "# Instanciamos nuevamente nuestro modelo\n",
        "# Creamos el modelo de Árbol de Decisión con una profundidad máxima de 10\n",
        "modelo = DecisionTreeClassifier(max_depth=10)\n",
        "\n",
        "# Creamos un pipeline que primero aplica SMOTE para oversampling y luego entrena el modelo\n",
        "pipeline = imbpipeline([\n",
        "    ('oversample', SMOTE()),  # paso 1: balancear usando SMOTE\n",
        "    ('arbol', modelo)         # paso 2: entrenar el árbol\n",
        "])\n",
        "\n"
      ],
      "metadata": {
        "id": "b7Z-pe6wO4yN"
      },
      "execution_count": 615,
      "outputs": []
    },
    {
      "cell_type": "code",
      "source": [
        "# Definimos validación cruzada estratificada con 5 divisiones, barajando los datos para mayor robustez\n",
        "skf = StratifiedKFold(n_splits=5, shuffle=True, random_state=5)\n",
        "\n",
        "# Evaluamos el pipeline usando validación cruzada, manteniendo los datos originales desbalanceados (X, y)\n",
        "# Esto permite aplicar el balanceo solo en los conjuntos de entrenamiento\n",
        "cv_resultados = cross_validate(pipeline, X, y, cv=skf, scoring='recall')"
      ],
      "metadata": {
        "id": "ezDLEQmnravP"
      },
      "execution_count": 616,
      "outputs": []
    },
    {
      "cell_type": "code",
      "source": [
        "# Calculamos el intervalo de confianza del recall obtenido con validación cruzada\n",
        "intervalo_confianza(cv_resultados)"
      ],
      "metadata": {
        "colab": {
          "base_uri": "https://localhost:8080/",
          "height": 36
        },
        "id": "PWml4nTfrqME",
        "outputId": "ad2b49c6-7a60-4078-ab62-08409955d96f"
      },
      "execution_count": 617,
      "outputs": [
        {
          "output_type": "execute_result",
          "data": {
            "text/plain": [
              "'El intervalo de confianza es de 0.19736468887385245,0.32796119740919144'"
            ],
            "application/vnd.google.colaboratory.intrinsic+json": {
              "type": "string"
            }
          },
          "metadata": {},
          "execution_count": 617
        }
      ]
    },
    {
      "cell_type": "markdown",
      "source": [
        "**Explicación de lo aprendido en esta clase**\n",
        "\n",
        "**¿Qué se hizo?**\n",
        "\n",
        "* Se implementó un pipeline de validación que:\n",
        "\n",
        ">* Aplica SMOTE para balancear las clases, pero únicamente en los datos de entrenamiento dentro de cada partición de la validación cruzada.\n",
        ">\n",
        ">* Entrena un árbol de decisión con max_depth=10 para evitar sobreajuste.\n",
        "\n",
        "* Se utilizó validación cruzada estratificada sobre los datos originales desbalanceados, para reflejar el rendimiento real del modelo en un entorno de producción.\n",
        "\n",
        "**¿Qué se identificó?**\n",
        "\n",
        "* El intervalo de confianza del recall pasó de valores artificialmente altos (ej. 0.71–0.75) cuando se evaluaba con datos balanceados, a un rango más realista de 0.20–0.31 al validarlo con datos desbalanceados.\n",
        "\n",
        "* Esto significa que el modelo estaba sobreestimando su capacidad de detección cuando se evaluaba en un escenario “fácil” (datos balanceados en entrenamiento y validación).\n",
        "\n",
        "* Al aplicar este nuevo método, obtenemos un resultado más honesto y representativo del rendimiento en el mundo real, donde los datos suelen estar desbalanceados.\n",
        "\n",
        "* Aunque el recall es más bajo, esta cifra es más confiable para tomar decisiones y plantear mejoras.\n",
        "\n",
        "**¿Por qué este método es mejor?**\n",
        "\n",
        "* Entrenar y evaluar todo en datos balanceados puede dar una falsa sensación de buen rendimiento, ya que el modelo nunca enfrenta el problema real.\n",
        "\n",
        "* Con el pipeline, el modelo se entrena de forma balanceada (aprendiendo mejor la clase minoritaria) pero se evalúa con datos reales, mostrando su verdadera capacidad para detectar casos positivos en un entorno real.\n",
        "\n",
        "* Este enfoque evita que el modelo esté “dopado” por un dataset artificial y facilita medir el impacto real de mejoras futuras.\n",
        "\n",
        "**¿Qué se puede hacer?**\n",
        "\n",
        "* Probar modelos más robustos como Random Forest o XGBoost, que suelen adaptarse mejor a clases desbalanceadas.\n",
        "\n",
        "* Ajustar hiperparámetros para mejorar recall sin sacrificar excesivamente la precisión.\n",
        "\n",
        "* Combinar oversampling y undersampling para reducir ruido y mejorar generalización.\n",
        "\n",
        "* Considerar métricas como F1-score para equilibrar la evaluación entre recall y precisión."
      ],
      "metadata": {
        "id": "PAz46iVDt1UD"
      }
    },
    {
      "cell_type": "markdown",
      "source": [
        "### Undersampling"
      ],
      "metadata": {
        "id": "66PlvwjX6kFv"
      }
    },
    {
      "cell_type": "markdown",
      "source": [
        "https://imbalanced-learn.org/stable/references/generated/imblearn.under_sampling.NearMiss.html"
      ],
      "metadata": {
        "id": "Fh6VZN5Fx7wl"
      }
    },
    {
      "cell_type": "code",
      "source": [
        "# Importamos NearMiss, técnica de undersampling que reduce la clase mayoritaria\n",
        "# manteniendo solo los registros más cercanos a la clase minoritaria\n",
        "from imblearn.under_sampling import NearMiss"
      ],
      "metadata": {
        "id": "lUn59uqAO63N"
      },
      "execution_count": 618,
      "outputs": []
    },
    {
      "cell_type": "code",
      "source": [
        "# Definimos un árbol de decisión con profundidad máxima de 10 para evitar sobreajuste\n",
        "modelo = DecisionTreeClassifier(max_depth=10)\n",
        "\n",
        "# Creamos un pipeline que:\n",
        "# 1. Aplica undersampling con NearMiss (versión 3: selecciona los puntos mayoritarios más lejanos)\n",
        "# 2. Entrena el modelo de árbol\n",
        "pipeline = imbpipeline([('undersample', NearMiss(version = 3)),('arbol', modelo)])\n",
        "\n",
        "# Configuramos validación cruzada estratificada (5 particiones)\n",
        "# asegurando que las proporciones de clases se mantengan en cada fold\n",
        "skf = StratifiedKFold(n_splits=5, shuffle=True, random_state=5)\n",
        "\n",
        "# Ejecutamos validación cruzada calculando el recall en cada fold\n",
        "cv_resultados = cross_validate(pipeline, X, y, cv=skf, scoring='recall')"
      ],
      "metadata": {
        "id": "pOUKHwqRO6zb"
      },
      "execution_count": 619,
      "outputs": []
    },
    {
      "cell_type": "code",
      "source": [
        "# Mostramos el intervalo de confianza del recall usando la función personalizada\n",
        "intervalo_confianza(cv_resultados)"
      ],
      "metadata": {
        "id": "ykn9H4kFO6so",
        "colab": {
          "base_uri": "https://localhost:8080/",
          "height": 36
        },
        "outputId": "afc43f7d-9e0a-4f2c-937c-934479723641"
      },
      "execution_count": 620,
      "outputs": [
        {
          "output_type": "execute_result",
          "data": {
            "text/plain": [
              "'El intervalo de confianza es de 0.6268457297765809,0.6976594865832685'"
            ],
            "application/vnd.google.colaboratory.intrinsic+json": {
              "type": "string"
            }
          },
          "metadata": {},
          "execution_count": 620
        }
      ]
    },
    {
      "cell_type": "markdown",
      "source": [
        "**Explicación de lo aprendido en esta clase**\n",
        "\n",
        "**¿Qué se hizo?**\n",
        "\n",
        "* Se aplicó undersampling con NearMiss (versión 3), técnica que reduce la clase mayoritaria eligiendo los registros más lejanos a la clase minoritaria.\n",
        "\n",
        "* Se integró esta técnica en un pipeline junto con un árbol de decisión (max_depth=10).\n",
        "\n",
        "* Se validó el modelo con StratifiedKFold en 5 particiones, midiendo el recall para evaluar su capacidad de detectar la clase positiva.\n",
        "\n",
        "**¿Qué se identificó?**\n",
        "\n",
        "* El intervalo de confianza del recall obtenido fue aproximadamente 0.6220 a 0.7024.\n",
        "\n",
        "* Este rango es bastante alto en comparación con otras técnicas evaluadas anteriormente, lo que indica que el modelo logra detectar una buena proporción de positivos en datos balanceados artificialmente por undersampling.\n",
        "\n",
        "* A diferencia del oversampling, aquí se reduce el tamaño de la clase mayoritaria, lo que disminuye el tiempo de entrenamiento pero puede implicar pérdida de información.\n",
        "\n",
        "**¿Por qué este método es relevante?**\n",
        "\n",
        "* Útil cuando los datos son muy desbalanceados y no se desea duplicar información (como ocurre en oversampling).\n",
        "\n",
        "* NearMiss busca equilibrar las clases manteniendo muestras representativas y difíciles, forzando al modelo a aprender patrones más generales.\n",
        "\n",
        "* Es especialmente útil cuando se tiene mucho más volumen de datos de la clase mayoritaria, ya que reduce el coste computacional.\n",
        "\n",
        "**¿Qué se puede hacer?**\n",
        "\n",
        "* Comparar este resultado con SMOTE y otros métodos de balanceo para determinar cuál mantiene mejor la generalización.\n",
        "\n",
        "* Probar con otros modelos más complejos, como Random Forest o XGBoost, usando NearMiss para ver si mejora el recall sin sacrificar precisión.\n",
        "\n",
        "* Ajustar la versión y parámetros de NearMiss para encontrar el punto óptimo entre rendimiento y pérdida de información."
      ],
      "metadata": {
        "id": "NF7d03fgyDcy"
      }
    },
    {
      "cell_type": "markdown",
      "source": [
        "### SMOTEENN"
      ],
      "metadata": {
        "id": "O9oP8Ucr1TiA"
      }
    },
    {
      "cell_type": "code",
      "source": [
        "# Combina oversampling (SMOTE) + limpieza (ENN) en un solo paso\n",
        "from imblearn.combine import SMOTEENN"
      ],
      "metadata": {
        "id": "vyo2C6Dc1ToB"
      },
      "execution_count": 621,
      "outputs": []
    },
    {
      "cell_type": "code",
      "source": [
        "# Modelo base: Árbol de Decisión con límite de profundidad para controlar el sobreajuste\n",
        "modelo = DecisionTreeClassifier(max_depth = 10)\n",
        "\n",
        "# Pipeline de validación:\n",
        "# 1) SMOTE: genera ejemplos sintéticos de la clase minoritaria (morosos)\n",
        "# 2) ENN (Edited Nearest Neighbors): elimina ejemplos (de ambas clases) mal clasificados por sus vecinos más cercanos,\n",
        "#    limpiando ruido y reduciendo solapamiento entre clases\n",
        "# Importante: el resampling ocurre SOLO dentro del fold de entrenamiento en cada iteración de CV\n",
        "pipeline = imbpipeline([('smoteenn', SMOTEENN()), ('arbol', modelo)])"
      ],
      "metadata": {
        "id": "UvDVrJZy1ZpM"
      },
      "execution_count": 622,
      "outputs": []
    },
    {
      "cell_type": "code",
      "source": [
        "# Validación cruzada estratificada para mantener proporciones de clases por fold\n",
        "skf = StratifiedKFold(n_splits=5, shuffle=True, random_state=5)\n",
        "\n",
        "# Evaluamos con 'recall' porque nos interesa reducir falsos negativos (Error Tipo 2)\n",
        "cv_resultados = cross_validate(pipeline, X, y, cv=skf, scoring='recall')\n",
        "\n",
        "# Intervalo de confianza (aprox. 95%) usando media ± 2*std de los 'test_score'\n",
        "intervalo_confianza(cv_resultados)"
      ],
      "metadata": {
        "colab": {
          "base_uri": "https://localhost:8080/",
          "height": 36
        },
        "id": "X10xjdOj1b2E",
        "outputId": "3d132058-a1df-4080-b3d7-3758b6ac1f87"
      },
      "execution_count": 623,
      "outputs": [
        {
          "output_type": "execute_result",
          "data": {
            "text/plain": [
              "'El intervalo de confianza es de 0.2792090372248346,0.4207177998647137'"
            ],
            "application/vnd.google.colaboratory.intrinsic+json": {
              "type": "string"
            }
          },
          "metadata": {},
          "execution_count": 623
        }
      ]
    },
    {
      "cell_type": "markdown",
      "source": [
        "**Explicación / Análisis**\n",
        "\n",
        "**¿Qué se hizo?**\n",
        "\n",
        "* Se armó un pipeline con SMOTEENN:\n",
        "\n",
        ">* SMOTE sobre-muestrea la clase minoritaria para que el modelo “vea” suficientes morosos.\n",
        ">\n",
        ">* ENN elimina observaciones ambiguas/mal clasificadas por vecinos (de ambas clases), limpiando ruido y fronteras.\n",
        "\n",
        "* Se validó con StratifiedKFold (5 folds) y métrica recall para medir detección de morosos.\n",
        "\n",
        "**¿Qué se identificó?**\n",
        "\n",
        "* SMOTEENN es un enfoque híbrido: no solo equilibra, también depura el conjunto de entrenamiento.\n",
        "\n",
        "* Frente a lo que viste antes:\n",
        "\n",
        ">* SMOTE dentro del pipeline te dio un recall bajo (evaluado sobre datos desbalanceados) → más honesto pero pobre.\n",
        ">\n",
        ">* NearMiss (undersampling) te dio un recall alto (≈0.62–0.70), a costa de descartar muchos cumplidores (posible pérdida de información).\n",
        ">\n",
        ">* SMOTEENN suele quedar en medio: mejor que SMOTE solo, menos que NearMiss, pero con mejor limpieza de ruido y menos pérdida de información que un undersampling agresivo.\n",
        "\n",
        "* En tus corridas actuales (recuerda que son estimativas), el intervalo de SMOTEENN quedó intermedio respecto de NearMiss y del SMOTE simple, lo cual calza con la intuición del método.\n",
        "\n",
        "**¿Por qué es relevante?**\n",
        "\n",
        "* En datasets con solapamiento entre clases (morosos “parecidos” a cumplidores), la frontera puede quedar sucia.\n",
        "\n",
        "* SMOTE + ENN empuja al modelo a aprender con:\n",
        "\n",
        ">* Más ejemplos minoritarios (mejor recall potencial).\n",
        ">\n",
        ">* Menos ruido y outliers (mejor generalización que oversampling puro).\n",
        "\n",
        "**Siguientes pasos (sugerencias breves)**\n",
        "\n",
        "* Ajustar hiperparámetros de SMOTEENN:\n",
        "\n",
        ">* smote__k_neighbors, sampling_strategy\n",
        ">\n",
        ">* enn__n_neighbors (o enn__kind_sel)\n",
        "Usar GridSearchCV con cv=skf y scoring='recall' o 'f1'.\n",
        "\n",
        "* Probar el mismo pipeline con RandomForest o LogisticRegression (a veces mejoran recall con fronteras más suaves).\n",
        "\n",
        "* Reportar precision, f1 y matriz de confusión post-CV para ver el costo en falsos positivos.\n",
        "\n",
        ">Nota: mantén mismo skf y misma métrica cuando compares técnicas (SMOTE, NearMiss, SMOTEENN) para que la comparación sea justa."
      ],
      "metadata": {
        "id": "lXXMi5sO2wMI"
      }
    },
    {
      "cell_type": "markdown",
      "source": [
        "### Probando el modelo"
      ],
      "metadata": {
        "id": "EP-44U0eHt-a"
      }
    },
    {
      "cell_type": "code",
      "source": [
        "# Estamos llegando al final del proyecto, en el cual hemos detectado que la mejor manera de modelar es utilizando el\n",
        "# método de Imbalanced Learn de Undersampling\n",
        "\n",
        "# Veremos que tan efectivo será identificar a los clientes morosos, para ello,\n",
        "# vamos a generar todos los pasos anteriores en uno solo, y veremos como quedará nuestro modelo"
      ],
      "metadata": {
        "id": "XWhZlwOTO8eN"
      },
      "execution_count": 624,
      "outputs": []
    },
    {
      "cell_type": "code",
      "source": [
        "# Instanciar nuestro undersample\n",
        "\n",
        "# Importamos el método NearMiss para aplicar undersampling en nuestro conjunto de datos\n",
        "# NearMiss selecciona ejemplos de la clase mayoritaria que están más cerca de la clase minoritaria\n",
        "undersample = NearMiss(version=3)\n",
        "\n",
        "# Aplicamos undersampling para balancear las clases (X → características, y → etiquetas)\n",
        "x_balanceada, y_balanceada = undersample.fit_resample(X, y)"
      ],
      "metadata": {
        "id": "gZHVqM6hO8bt"
      },
      "execution_count": 625,
      "outputs": []
    },
    {
      "cell_type": "code",
      "source": [
        "# Creamos nuestro modelo de árbol de decisión con una profundidad máxima de 10\n",
        "modelo = DecisionTreeClassifier(max_depth=10)\n",
        "\n",
        "# Entrenamos el modelo con los datos balanceados\n",
        "modelo.fit(x_balanceada, y_balanceada)\n",
        "\n",
        "# Realizamos predicciones usando el conjunto de prueba original\n",
        "y_previsto = modelo.predict(X_test)\n",
        "\n",
        "# Mostramos las métricas de evaluación: precisión, recall, f1-score y soporte\n",
        "print(classification_report(y_test, y_previsto))\n",
        "\n",
        "# Mostramos la matriz de confusión para visualizar el rendimiento del modelo\n",
        "ConfusionMatrixDisplay.from_predictions(y_test, y_previsto);"
      ],
      "metadata": {
        "colab": {
          "base_uri": "https://localhost:8080/",
          "height": 612
        },
        "id": "a6BuztcK4Dq5",
        "outputId": "28a8cc80-e8bc-4d54-a040-bc44158f6fdc"
      },
      "execution_count": 626,
      "outputs": [
        {
          "output_type": "stream",
          "name": "stdout",
          "text": [
            "              precision    recall  f1-score   support\n",
            "\n",
            "           0       0.94      0.48      0.64      7397\n",
            "           1       0.11      0.70      0.20       707\n",
            "\n",
            "    accuracy                           0.50      8104\n",
            "   macro avg       0.53      0.59      0.42      8104\n",
            "weighted avg       0.87      0.50      0.60      8104\n",
            "\n"
          ]
        },
        {
          "output_type": "display_data",
          "data": {
            "text/plain": [
              "<Figure size 640x480 with 2 Axes>"
            ],
            "image/png": "[encoded data removed]"
          },
          "metadata": {}
        }
      ]
    },
    {
      "cell_type": "markdown",
      "source": [
        "**Explicación / Análisis de lo aprendido**\n",
        "\n",
        "* En este bloque implementamos NearMiss (version=3), una técnica de undersampling que reduce la clase mayoritaria seleccionando ejemplos que están más alejados de la clase minoritaria. Esto permite equilibrar las clases y que el modelo preste más atención a los casos minoritarios (clientes morosos).\n",
        "\n",
        "* Al evaluar el modelo con el conjunto de prueba original, observamos:\n",
        "\n",
        ">* Recall para la clase 1 (morosos) = 0.71 → El modelo identifica correctamente el 71% de los clientes morosos, mejorando notablemente frente a otros enfoques anteriores.\n",
        ">\n",
        ">* Precision para la clase 1 = 0.12 → Aunque detecta más morosos, aún tiene una alta tasa de falsos positivos.\n",
        ">\n",
        ">* F1-score para la clase 1 = 0.20 → Se mantiene bajo debido a la baja precisión, aunque es un avance respecto a técnicas previas.\n",
        "\n",
        "* La matriz de confusión confirma que el modelo logra capturar más verdaderos positivos (499 morosos correctamente detectados) comparado con resultados anteriores, aunque también clasifica erróneamente muchos clientes no morosos como morosos.\n",
        "\n",
        "* En conclusión, NearMiss con árbol de decisión ha sido la técnica que mejor ha aumentado la capacidad del modelo para detectar morosos (recall alto), incluso sacrificando algo de precisión. Este comportamiento es deseable en escenarios donde es más costoso no detectar un moroso que enviar una alerta falsa."
      ],
      "metadata": {
        "id": "oamRehmJ49yW"
      }
    },
    {
      "cell_type": "markdown",
      "source": [
        "---\n",
        "**En esta clase, aprendiste a:**\n",
        "* Utilizar oversampling y undersampling en datos desbalanceados;\n",
        "* Utilizar técnicas de balanceo de datos y entender sus ventajas y desventajas;\n",
        "* Aplicar un pipeline junto con la validación cruzada;\n",
        "* Probar modelos de clasificación.\n",
        "---"
      ],
      "metadata": {
        "id": "6whWxRo15qZf"
      }
    },
    {
      "cell_type": "markdown",
      "source": [
        "## Desafío: Hora de la práctica"
      ],
      "metadata": {
        "id": "dzVuUHG4x7Va"
      }
    },
    {
      "cell_type": "markdown",
      "source": [
        "Vamos a practicar el contenido que se presentó en la clase a partir de algunas actividades, pero utilizando un conjunto de datos diferente con datos de pacientes a ser diagnosticados con diabetes o no. Los desafíos siguen una secuencia de tareas, sirviendo como un proyecto secundario. Para realizar los desafíos, descarga la base de datos desde este [enlace](https://github.com/alura-es-cursos/2162-clasificacion-validacion-de-modelos-y-metricas/blob/desafios/diabetes.csv).\n",
        "\n"
      ],
      "metadata": {
        "id": "yh37nFspyE4x"
      }
    },
    {
      "cell_type": "markdown",
      "source": [
        "### 1) Clasificando Datos"
      ],
      "metadata": {
        "id": "GivISsU1yqYq"
      }
    },
    {
      "cell_type": "markdown",
      "source": [
        ">* **1 -** Para la construcción de un modelo de machine learning se necesitan datos. Como tarea inicial, realiza la lectura de la base de datos de diabetes y **divide los datos en variables explicativas y variable objetivo** (x e y). La variable objetivo es la columna que quieres clasificar, que contiene la información de si el paciente tiene o no diabetes. Las variables explicativas son todas las columnas excepto la de diabetes. La separación de los datos se puede hacer con la selección de columnas con pandas.\n",
        ">\n",
        ">* **2 -** Una etapa muy importante en proyectos de clasificación es la validación de los modelos, para identificar si hay una generalización del modelo para datos nuevos. **Realiza la división de los datos entre entrenamiento, validación y prueba**. Utiliza el **5% de los datos para prueba** y con el resto, deja el **25% para validación**. En el momento de la separación, usa el parámetro stratify a partir de la variable objetivo para mantener la proporción de los datos.\n",
        ">\n",
        ">* **3 -** **La etapa de modelado de datos consiste en utilizar un algoritmo capaz de identificar patrones en los datos y clasificar los valores**. A partir del modelo es posible extraer una tasa de acierto para entender su desempeño. Crea 2 modelos utilizando los algoritmos **DecisionTreeClassifier y RandomForestClassifier** y evalúa la precisión de entrenamiento y prueba, eligiendo el valor **3 para el parámetro max_depth del algoritmo DecisionTreeClassifier** y el **valor 2 para el max_depth del algoritmo RandomForestClassifier**, para que los modelos no se especialicen demasiado en el patrón de los datos de entrenamiento.\n",
        ">\n",
        ">* **4 -** La tasa de acierto generalmente no proporciona información suficiente para entender el comportamiento del modelo. La matriz de confusión es una herramienta más completa, capaz de proporcionar los aciertos y errores del modelo para cada clase. **Construye una matriz de confusión para cada uno de los modelos para evaluar el desempeño de la predicción**. Para construir la matriz, usa el método predict para generar las predicciones de los valores y comparar con los valores reales de la base de datos."
      ],
      "metadata": {
        "id": "b5reAXyzyz-h"
      }
    },
    {
      "cell_type": "markdown",
      "source": [
        "#### Lectura de datos y separación de variables explicativas y respuesta"
      ],
      "metadata": {
        "id": "5geYw_LP0Zhx"
      }
    },
    {
      "cell_type": "code",
      "source": [
        "import pandas as pd"
      ],
      "metadata": {
        "id": "JKFQ_4XTzqBT"
      },
      "execution_count": 627,
      "outputs": []
    },
    {
      "cell_type": "code",
      "source": [
        "url_desafio = 'https://raw.githubusercontent.com/DanielRaiicHu/clasificacion_validacion_y_metricas/main/diabetes.csv'\n",
        "datos_desafio = pd.read_csv(url_desafio)\n",
        "datos_desafio"
      ],
      "metadata": {
        "colab": {
          "base_uri": "https://localhost:8080/",
          "height": 423
        },
        "id": "gkG5p0-dzsc_",
        "outputId": "1dd0049d-695d-4077-db4d-77dd7d4692b5"
      },
      "execution_count": 628,
      "outputs": [
        {
          "output_type": "execute_result",
          "data": {
            "text/plain": [
              "     glicemia  presion_sanguinea  grasa_subcutanea_triceps  insulina    imc  \\\n",
              "0          66                 23                        94      28.1  0.167   \n",
              "1          40                 35                       168      43.1  2.288   \n",
              "2          50                 32                        88      31.0  0.248   \n",
              "3          70                 45                       543      30.5  0.158   \n",
              "4          60                 23                       846      30.1  0.398   \n",
              "..        ...                ...                       ...       ...    ...   \n",
              "389        88                 44                       510      43.3  0.222   \n",
              "390        88                 39                       110      36.5  1.057   \n",
              "391        58                 26                        16      28.4  0.766   \n",
              "392        76                 48                       180      32.9  0.171   \n",
              "393        72                 23                       112      26.2  0.245   \n",
              "\n",
              "     diabetes  \n",
              "0           0  \n",
              "1           1  \n",
              "2           1  \n",
              "3           1  \n",
              "4           1  \n",
              "..        ...  \n",
              "389         1  \n",
              "390         1  \n",
              "391         0  \n",
              "392         0  \n",
              "393         0  \n",
              "\n",
              "[394 rows x 6 columns]"
            ],
            "text/html": [
              "\n",
              "  <div id=\"df-12297801-7c37-4532-a37d-f2ea63ac62a3\" class=\"colab-df-container\">\n",
              "    <div>\n",
              "<style scoped>\n",
              "    .dataframe tbody tr th:only-of-type {\n",
              "        vertical-align: middle;\n",
              "    }\n",
              "\n",
              "    .dataframe tbody tr th {\n",
              "        vertical-align: top;\n",
              "    }\n",
              "\n",
              "    .dataframe thead th {\n",
              "        text-align: right;\n",
              "    }\n",
              "</style>\n",
              "<table border=\"1\" class=\"dataframe\">\n",
              "  <thead>\n",
              "    <tr style=\"text-align: right;\">\n",
              "      <th></th>\n",
              "      <th>glicemia</th>\n",
              "      <th>presion_sanguinea</th>\n",
              "      <th>grasa_subcutanea_triceps</th>\n",
              "      <th>insulina</th>\n",
              "      <th>imc</th>\n",
              "      <th>diabetes</th>\n",
              "    </tr>\n",
              "  </thead>\n",
              "  <tbody>\n",
              "    <tr>\n",
              "      <th>0</th>\n",
              "      <td>66</td>\n",
              "      <td>23</td>\n",
              "      <td>94</td>\n",
              "      <td>28.1</td>\n",
              "      <td>0.167</td>\n",
              "      <td>0</td>\n",
              "    </tr>\n",
              "    <tr>\n",
              "      <th>1</th>\n",
              "      <td>40</td>\n",
              "      <td>35</td>\n",
              "      <td>168</td>\n",
              "      <td>43.1</td>\n",
              "      <td>2.288</td>\n",
              "      <td>1</td>\n",
              "    </tr>\n",
              "    <tr>\n",
              "      <th>2</th>\n",
              "      <td>50</td>\n",
              "      <td>32</td>\n",
              "      <td>88</td>\n",
              "      <td>31.0</td>\n",
              "      <td>0.248</td>\n",
              "      <td>1</td>\n",
              "    </tr>\n",
              "    <tr>\n",
              "      <th>3</th>\n",
              "      <td>70</td>\n",
              "      <td>45</td>\n",
              "      <td>543</td>\n",
              "      <td>30.5</td>\n",
              "      <td>0.158</td>\n",
              "      <td>1</td>\n",
              "    </tr>\n",
              "    <tr>\n",
              "      <th>4</th>\n",
              "      <td>60</td>\n",
              "      <td>23</td>\n",
              "      <td>846</td>\n",
              "      <td>30.1</td>\n",
              "      <td>0.398</td>\n",
              "      <td>1</td>\n",
              "    </tr>\n",
              "    <tr>\n",
              "      <th>...</th>\n",
              "      <td>...</td>\n",
              "      <td>...</td>\n",
              "      <td>...</td>\n",
              "      <td>...</td>\n",
              "      <td>...</td>\n",
              "      <td>...</td>\n",
              "    </tr>\n",
              "    <tr>\n",
              "      <th>389</th>\n",
              "      <td>88</td>\n",
              "      <td>44</td>\n",
              "      <td>510</td>\n",
              "      <td>43.3</td>\n",
              "      <td>0.222</td>\n",
              "      <td>1</td>\n",
              "    </tr>\n",
              "    <tr>\n",
              "      <th>390</th>\n",
              "      <td>88</td>\n",
              "      <td>39</td>\n",
              "      <td>110</td>\n",
              "      <td>36.5</td>\n",
              "      <td>1.057</td>\n",
              "      <td>1</td>\n",
              "    </tr>\n",
              "    <tr>\n",
              "      <th>391</th>\n",
              "      <td>58</td>\n",
              "      <td>26</td>\n",
              "      <td>16</td>\n",
              "      <td>28.4</td>\n",
              "      <td>0.766</td>\n",
              "      <td>0</td>\n",
              "    </tr>\n",
              "    <tr>\n",
              "      <th>392</th>\n",
              "      <td>76</td>\n",
              "      <td>48</td>\n",
              "      <td>180</td>\n",
              "      <td>32.9</td>\n",
              "      <td>0.171</td>\n",
              "      <td>0</td>\n",
              "    </tr>\n",
              "    <tr>\n",
              "      <th>393</th>\n",
              "      <td>72</td>\n",
              "      <td>23</td>\n",
              "      <td>112</td>\n",
              "      <td>26.2</td>\n",
              "      <td>0.245</td>\n",
              "      <td>0</td>\n",
              "    </tr>\n",
              "  </tbody>\n",
              "</table>\n",
              "<p>394 rows × 6 columns</p>\n",
              "</div>\n",
              "    <div class=\"colab-df-buttons\">\n",
              "\n",
              "  <div class=\"colab-df-container\">\n",
              "    <button class=\"colab-df-convert\" onclick=\"convertToInteractive('df-12297801-7c37-4532-a37d-f2ea63ac62a3')\"\n",
              "            title=\"Convert this dataframe to an interactive table.\"\n",
              "            style=\"display:none;\">\n",
              "\n",
              "  <svg xmlns=\"http://www.w3.org/2000/svg\" height=\"24px\" viewBox=\"0 -960 960 960\">\n",
              "    <path d=\"M120-120v-720h720v720H120Zm60-500h600v-160H180v160Zm220 220h160v-160H400v160Zm0 220h160v-160H400v160ZM180-400h160v-160H180v160Zm440 0h160v-160H620v160ZM180-180h160v-160H180v160Zm440 0h160v-160H620v160Z\"/>\n",
              "  </svg>\n",
              "    </button>\n",
              "\n",
              "  <style>\n",
              "    .colab-df-container {\n",
              "      display:flex;\n",
              "      gap: 12px;\n",
              "    }\n",
              "\n",
              "    .colab-df-convert {\n",
              "      background-color: #E8F0FE;\n",
              "      border: none;\n",
              "      border-radius: 50%;\n",
              "      cursor: pointer;\n",
              "      display: none;\n",
              "      fill: #1967D2;\n",
              "      height: 32px;\n",
              "      padding: 0 0 0 0;\n",
              "      width: 32px;\n",
              "    }\n",
              "\n",
              "    .colab-df-convert:hover {\n",
              "      background-color: #E2EBFA;\n",
              "      box-shadow: 0px 1px 2px rgba(60, 64, 67, 0.3), 0px 1px 3px 1px rgba(60, 64, 67, 0.15);\n",
              "      fill: #174EA6;\n",
              "    }\n",
              "\n",
              "    .colab-df-buttons div {\n",
              "      margin-bottom: 4px;\n",
              "    }\n",
              "\n",
              "    [theme=dark] .colab-df-convert {\n",
              "      background-color: #3B4455;\n",
              "      fill: #D2E3FC;\n",
              "    }\n",
              "\n",
              "    [theme=dark] .colab-df-convert:hover {\n",
              "      background-color: #434B5C;\n",
              "      box-shadow: 0px 1px 3px 1px rgba(0, 0, 0, 0.15);\n",
              "      filter: drop-shadow(0px 1px 2px rgba(0, 0, 0, 0.3));\n",
              "      fill: #FFFFFF;\n",
              "    }\n",
              "  </style>\n",
              "\n",
              "    <script>\n",
              "      const buttonEl =\n",
              "        document.querySelector('#df-12297801-7c37-4532-a37d-f2ea63ac62a3 button.colab-df-convert');\n",
              "      buttonEl.style.display =\n",
              "        google.colab.kernel.accessAllowed ? 'block' : 'none';\n",
              "\n",
              "      async function convertToInteractive(key) {\n",
              "        const element = document.querySelector('#df-12297801-7c37-4532-a37d-f2ea63ac62a3');\n",
              "        const dataTable =\n",
              "          await google.colab.kernel.invokeFunction('convertToInteractive',\n",
              "                                                    [key], {});\n",
              "        if (!dataTable) return;\n",
              "\n",
              "        const docLinkHtml = 'Like what you see? Visit the ' +\n",
              "          '<a target=\"_blank\" href=https://colab.research.google.com/notebooks/data_table.ipynb>data table notebook</a>'\n",
              "          + ' to learn more about interactive tables.';\n",
              "        element.innerHTML = '';\n",
              "        dataTable['output_type'] = 'display_data';\n",
              "        await google.colab.output.renderOutput(dataTable, element);\n",
              "        const docLink = document.createElement('div');\n",
              "        docLink.innerHTML = docLinkHtml;\n",
              "        element.appendChild(docLink);\n",
              "      }\n",
              "    </script>\n",
              "  </div>\n",
              "\n",
              "\n",
              "    <div id=\"df-7fe6a6cc-eaed-4861-90e6-85ff0054102f\">\n",
              "      <button class=\"colab-df-quickchart\" onclick=\"quickchart('df-7fe6a6cc-eaed-4861-90e6-85ff0054102f')\"\n",
              "                title=\"Suggest charts\"\n",
              "                style=\"display:none;\">\n",
              "\n",
              "<svg xmlns=\"http://www.w3.org/2000/svg\" height=\"24px\"viewBox=\"0 0 24 24\"\n",
              "     width=\"24px\">\n",
              "    <g>\n",
              "        <path d=\"M19 3H5c-1.1 0-2 .9-2 2v14c0 1.1.9 2 2 2h14c1.1 0 2-.9 2-2V5c0-1.1-.9-2-2-2zM9 17H7v-7h2v7zm4 0h-2V7h2v10zm4 0h-2v-4h2v4z\"/>\n",
              "    </g>\n",
              "</svg>\n",
              "      </button>\n",
              "\n",
              "<style>\n",
              "  .colab-df-quickchart {\n",
              "      --bg-color: #E8F0FE;\n",
              "      --fill-color: #1967D2;\n",
              "      --hover-bg-color: #E2EBFA;\n",
              "      --hover-fill-color: #174EA6;\n",
              "      --disabled-fill-color: #AAA;\n",
              "      --disabled-bg-color: #DDD;\n",
              "  }\n",
              "\n",
              "  [theme=dark] .colab-df-quickchart {\n",
              "      --bg-color: #3B4455;\n",
              "      --fill-color: #D2E3FC;\n",
              "      --hover-bg-color: #434B5C;\n",
              "      --hover-fill-color: #FFFFFF;\n",
              "      --disabled-bg-color: #3B4455;\n",
              "      --disabled-fill-color: #666;\n",
              "  }\n",
              "\n",
              "  .colab-df-quickchart {\n",
              "    background-color: var(--bg-color);\n",
              "    border: none;\n",
              "    border-radius: 50%;\n",
              "    cursor: pointer;\n",
              "    display: none;\n",
              "    fill: var(--fill-color);\n",
              "    height: 32px;\n",
              "    padding: 0;\n",
              "    width: 32px;\n",
              "  }\n",
              "\n",
              "  .colab-df-quickchart:hover {\n",
              "    background-color: var(--hover-bg-color);\n",
              "    box-shadow: 0 1px 2px rgba(60, 64, 67, 0.3), 0 1px 3px 1px rgba(60, 64, 67, 0.15);\n",
              "    fill: var(--button-hover-fill-color);\n",
              "  }\n",
              "\n",
              "  .colab-df-quickchart-complete:disabled,\n",
              "  .colab-df-quickchart-complete:disabled:hover {\n",
              "    background-color: var(--disabled-bg-color);\n",
              "    fill: var(--disabled-fill-color);\n",
              "    box-shadow: none;\n",
              "  }\n",
              "\n",
              "  .colab-df-spinner {\n",
              "    border: 2px solid var(--fill-color);\n",
              "    border-color: transparent;\n",
              "    border-bottom-color: var(--fill-color);\n",
              "    animation:\n",
              "      spin 1s steps(1) infinite;\n",
              "  }\n",
              "\n",
              "  @keyframes spin {\n",
              "    0% {\n",
              "      border-color: transparent;\n",
              "      border-bottom-color: var(--fill-color);\n",
              "      border-left-color: var(--fill-color);\n",
              "    }\n",
              "    20% {\n",
              "      border-color: transparent;\n",
              "      border-left-color: var(--fill-color);\n",
              "      border-top-color: var(--fill-color);\n",
              "    }\n",
              "    30% {\n",
              "      border-color: transparent;\n",
              "      border-left-color: var(--fill-color);\n",
              "      border-top-color: var(--fill-color);\n",
              "      border-right-color: var(--fill-color);\n",
              "    }\n",
              "    40% {\n",
              "      border-color: transparent;\n",
              "      border-right-color: var(--fill-color);\n",
              "      border-top-color: var(--fill-color);\n",
              "    }\n",
              "    60% {\n",
              "      border-color: transparent;\n",
              "      border-right-color: var(--fill-color);\n",
              "    }\n",
              "    80% {\n",
              "      border-color: transparent;\n",
              "      border-right-color: var(--fill-color);\n",
              "      border-bottom-color: var(--fill-color);\n",
              "    }\n",
              "    90% {\n",
              "      border-color: transparent;\n",
              "      border-bottom-color: var(--fill-color);\n",
              "    }\n",
              "  }\n",
              "</style>\n",
              "\n",
              "      <script>\n",
              "        async function quickchart(key) {\n",
              "          const quickchartButtonEl =\n",
              "            document.querySelector('#' + key + ' button');\n",
              "          quickchartButtonEl.disabled = true;  // To prevent multiple clicks.\n",
              "          quickchartButtonEl.classList.add('colab-df-spinner');\n",
              "          try {\n",
              "            const charts = await google.colab.kernel.invokeFunction(\n",
              "                'suggestCharts', [key], {});\n",
              "          } catch (error) {\n",
              "            console.error('Error during call to suggestCharts:', error);\n",
              "          }\n",
              "          quickchartButtonEl.classList.remove('colab-df-spinner');\n",
              "          quickchartButtonEl.classList.add('colab-df-quickchart-complete');\n",
              "        }\n",
              "        (() => {\n",
              "          let quickchartButtonEl =\n",
              "            document.querySelector('#df-7fe6a6cc-eaed-4861-90e6-85ff0054102f button');\n",
              "          quickchartButtonEl.style.display =\n",
              "            google.colab.kernel.accessAllowed ? 'block' : 'none';\n",
              "        })();\n",
              "      </script>\n",
              "    </div>\n",
              "\n",
              "  <div id=\"id_85ad31b5-11ce-4fc4-a817-8653160fa39e\">\n",
              "    <style>\n",
              "      .colab-df-generate {\n",
              "        background-color: #E8F0FE;\n",
              "        border: none;\n",
              "        border-radius: 50%;\n",
              "        cursor: pointer;\n",
              "        display: none;\n",
              "        fill: #1967D2;\n",
              "        height: 32px;\n",
              "        padding: 0 0 0 0;\n",
              "        width: 32px;\n",
              "      }\n",
              "\n",
              "      .colab-df-generate:hover {\n",
              "        background-color: #E2EBFA;\n",
              "        box-shadow: 0px 1px 2px rgba(60, 64, 67, 0.3), 0px 1px 3px 1px rgba(60, 64, 67, 0.15);\n",
              "        fill: #174EA6;\n",
              "      }\n",
              "\n",
              "      [theme=dark] .colab-df-generate {\n",
              "        background-color: #3B4455;\n",
              "        fill: #D2E3FC;\n",
              "      }\n",
              "\n",
              "      [theme=dark] .colab-df-generate:hover {\n",
              "        background-color: #434B5C;\n",
              "        box-shadow: 0px 1px 3px 1px rgba(0, 0, 0, 0.15);\n",
              "        filter: drop-shadow(0px 1px 2px rgba(0, 0, 0, 0.3));\n",
              "        fill: #FFFFFF;\n",
              "      }\n",
              "    </style>\n",
              "    <button class=\"colab-df-generate\" onclick=\"generateWithVariable('datos_desafio')\"\n",
              "            title=\"Generate code using this dataframe.\"\n",
              "            style=\"display:none;\">\n",
              "\n",
              "  <svg xmlns=\"http://www.w3.org/2000/svg\" height=\"24px\"viewBox=\"0 0 24 24\"\n",
              "       width=\"24px\">\n",
              "    <path d=\"M7,19H8.4L18.45,9,17,7.55,7,17.6ZM5,21V16.75L18.45,3.32a2,2,0,0,1,2.83,0l1.4,1.43a1.91,1.91,0,0,1,.58,1.4,1.91,1.91,0,0,1-.58,1.4L9.25,21ZM18.45,9,17,7.55Zm-12,3A5.31,5.31,0,0,0,4.9,8.1,5.31,5.31,0,0,0,1,6.5,5.31,5.31,0,0,0,4.9,4.9,5.31,5.31,0,0,0,6.5,1,5.31,5.31,0,0,0,8.1,4.9,5.31,5.31,0,0,0,12,6.5,5.46,5.46,0,0,0,6.5,12Z\"/>\n",
              "  </svg>\n",
              "    </button>\n",
              "    <script>\n",
              "      (() => {\n",
              "      const buttonEl =\n",
              "        document.querySelector('#id_85ad31b5-11ce-4fc4-a817-8653160fa39e button.colab-df-generate');\n",
              "      buttonEl.style.display =\n",
              "        google.colab.kernel.accessAllowed ? 'block' : 'none';\n",
              "\n",
              "      buttonEl.onclick = () => {\n",
              "        google.colab.notebook.generateWithVariable('datos_desafio');\n",
              "      }\n",
              "      })();\n",
              "    </script>\n",
              "  </div>\n",
              "\n",
              "    </div>\n",
              "  </div>\n"
            ],
            "application/vnd.google.colaboratory.intrinsic+json": {
              "type": "dataframe",
              "variable_name": "datos_desafio",
              "summary": "{\n  \"name\": \"datos_desafio\",\n  \"rows\": 394,\n  \"fields\": [\n    {\n      \"column\": \"glicemia\",\n      \"properties\": {\n        \"dtype\": \"number\",\n        \"std\": 12,\n        \"min\": 24,\n        \"max\": 110,\n        \"num_unique_values\": 37,\n        \"samples\": [\n          68,\n          64,\n          60\n        ],\n        \"semantic_type\": \"\",\n        \"description\": \"\"\n      }\n    },\n    {\n      \"column\": \"presion_sanguinea\",\n      \"properties\": {\n        \"dtype\": \"number\",\n        \"std\": 10,\n        \"min\": 7,\n        \"max\": 63,\n        \"num_unique_values\": 48,\n        \"samples\": [\n          51,\n          52,\n          18\n        ],\n        \"semantic_type\": \"\",\n        \"description\": \"\"\n      }\n    },\n    {\n      \"column\": \"grasa_subcutanea_triceps\",\n      \"properties\": {\n        \"dtype\": \"number\",\n        \"std\": 118,\n        \"min\": 14,\n        \"max\": 846,\n        \"num_unique_values\": 185,\n        \"samples\": [\n          240,\n          18,\n          274\n        ],\n        \"semantic_type\": \"\",\n        \"description\": \"\"\n      }\n    },\n    {\n      \"column\": \"insulina\",\n      \"properties\": {\n        \"dtype\": \"number\",\n        \"std\": 7.210160099590896,\n        \"min\": 0.0,\n        \"max\": 67.1,\n        \"num_unique_values\": 195,\n        \"samples\": [\n          42.1,\n          24.0,\n          46.1\n        ],\n        \"semantic_type\": \"\",\n        \"description\": \"\"\n      }\n    },\n    {\n      \"column\": \"imc\",\n      \"properties\": {\n        \"dtype\": \"number\",\n        \"std\": 0.3501269481387728,\n        \"min\": 0.085,\n        \"max\": 2.42,\n        \"num_unique_values\": 332,\n        \"samples\": [\n          0.962,\n          0.251,\n          0.229\n        ],\n        \"semantic_type\": \"\",\n        \"description\": \"\"\n      }\n    },\n    {\n      \"column\": \"diabetes\",\n      \"properties\": {\n        \"dtype\": \"number\",\n        \"std\": 0,\n        \"min\": 0,\n        \"max\": 1,\n        \"num_unique_values\": 2,\n        \"samples\": [\n          1,\n          0\n        ],\n        \"semantic_type\": \"\",\n        \"description\": \"\"\n      }\n    }\n  ]\n}"
            }
          },
          "metadata": {},
          "execution_count": 628
        }
      ]
    },
    {
      "cell_type": "code",
      "source": [
        "X_desafio = datos_desafio.drop(columns='diabetes',axis=1)\n",
        "y_desafio = datos_desafio['diabetes']"
      ],
      "metadata": {
        "id": "rXoJRfUP0qF6"
      },
      "execution_count": 629,
      "outputs": []
    },
    {
      "cell_type": "markdown",
      "source": [
        "#### División de Datos: Entrenamiento, Validación y Prueba"
      ],
      "metadata": {
        "id": "DSRZX-ex1Zyt"
      }
    },
    {
      "cell_type": "code",
      "source": [
        "from sklearn.model_selection import train_test_split"
      ],
      "metadata": {
        "id": "ZoTCUqtZ1Z6h"
      },
      "execution_count": 630,
      "outputs": []
    },
    {
      "cell_type": "code",
      "source": [
        "# División inicial: General vs Prueba\n",
        "X_desafio, X_test_desafio, y_desafio, y_test_desafio = train_test_split(X_desafio, y_desafio, test_size= 0.05, stratify = y_desafio, random_state = 5)\n",
        "\n",
        "# División secundaria: Entrenamiento vs Validación\n",
        "X_train_desafio, X_val_desafio, y_train_desafio, y_val_desafio = train_test_split(X_desafio, y_desafio, stratify = y_desafio, random_state = 5)"
      ],
      "metadata": {
        "id": "hPOLaSuR5hTn"
      },
      "execution_count": 631,
      "outputs": []
    },
    {
      "cell_type": "markdown",
      "source": [
        "#### Modelos: DecisionTreeClassifier y RandomForestClassifier"
      ],
      "metadata": {
        "id": "xq-iZNGg7r2P"
      }
    },
    {
      "cell_type": "code",
      "source": [
        "# Modelo Árbol\n",
        "from sklearn.tree import DecisionTreeClassifier\n",
        "modelo_arbol_desafio = DecisionTreeClassifier(max_depth=3) # Límite de profundidad = 3\n",
        "modelo_arbol_desafio.fit(X_train_desafio,y_train_desafio)                   # Vuelve a entrenar\n",
        "print(f'La exactitud del Modelo de Árbol con el conjunto de entrenamiento es de: {modelo_arbol_desafio.score(X_train_desafio,y_train_desafio)}')\n",
        "print(f'La exactitud del Modelo de Árbol con el conjunto de validación es de: {modelo_arbol_desafio.score(X_val_desafio,y_val_desafio)}')\n",
        "\n",
        "# Respuesta:\n",
        "# La exactitud del Modelo con de Árbol el conjunto de entrenamiento es de: 0.7571428571428571\n",
        "# La exactitud del Modelo con de Árbol el conjunto de validación es de: 0.776595744680851"
      ],
      "metadata": {
        "colab": {
          "base_uri": "https://localhost:8080/"
        },
        "id": "m46ODBRe6iym",
        "outputId": "9d19c930-2fc1-44d0-9d1f-3bd7ec6da76a"
      },
      "execution_count": 632,
      "outputs": [
        {
          "output_type": "stream",
          "name": "stdout",
          "text": [
            "La exactitud del Modelo de Árbol con el conjunto de entrenamiento es de: 0.7571428571428571\n",
            "La exactitud del Modelo de Árbol con el conjunto de validación es de: 0.776595744680851\n"
          ]
        }
      ]
    },
    {
      "cell_type": "code",
      "source": [
        "# Modelo Forest\n",
        "from sklearn.ensemble import RandomForestClassifier\n",
        "modelo_forest_desafio = RandomForestClassifier(max_depth=2) # Límite de profundidad = 2\n",
        "modelo_forest_desafio.fit(X_train_desafio,y_train_desafio)                   # Vuelve a entrenar\n",
        "print(f'La exactitud del Modelo Forest con el conjunto de entrenamiento es de: {modelo_forest_desafio.score(X_train_desafio,y_train_desafio)}')\n",
        "print(f'La exactitud del Modelo Forest con el conjunto de validación es de: {modelo_forest_desafio.score(X_val_desafio,y_val_desafio)}')\n",
        "\n",
        "# Respuesta:\n",
        "# La exactitud del Modelo Forest con el conjunto de entrenamiento es de: 0.7285714285714285\n",
        "# La exactitud del Modelo Forest con el conjunto de validación es de: 0.7021276595744681"
      ],
      "metadata": {
        "colab": {
          "base_uri": "https://localhost:8080/"
        },
        "id": "zn-8H_qN9J1P",
        "outputId": "0d15bbbe-bc57-42fe-dc87-f3c5c40cf16d"
      },
      "execution_count": 633,
      "outputs": [
        {
          "output_type": "stream",
          "name": "stdout",
          "text": [
            "La exactitud del Modelo Forest con el conjunto de entrenamiento es de: 0.725\n",
            "La exactitud del Modelo Forest con el conjunto de validación es de: 0.6808510638297872\n"
          ]
        }
      ]
    },
    {
      "cell_type": "markdown",
      "source": [
        "#### Matriz de Confusión"
      ],
      "metadata": {
        "id": "rD2SrOYr_UP3"
      }
    },
    {
      "cell_type": "code",
      "source": [
        "from sklearn.metrics import confusion_matrix"
      ],
      "metadata": {
        "id": "7bt7tmBJ_uy2"
      },
      "execution_count": 634,
      "outputs": []
    },
    {
      "cell_type": "code",
      "source": [
        "# Matriz de Confusión tipo Array - Modelo Árbol\n",
        "y_previsto_arbol_desafio = modelo_arbol_desafio.predict(X_val_desafio)\n",
        "matriz_confusion_arbol_desafio = confusion_matrix(y_val_desafio,y_previsto_arbol_desafio)\n",
        "print(matriz_confusion_arbol_desafio)"
      ],
      "metadata": {
        "colab": {
          "base_uri": "https://localhost:8080/"
        },
        "id": "sExO4tt0_vvR",
        "outputId": "634d87d7-b283-4b96-d686-07e8e315ea65"
      },
      "execution_count": 635,
      "outputs": [
        {
          "output_type": "stream",
          "name": "stdout",
          "text": [
            "[[52 11]\n",
            " [10 21]]\n"
          ]
        }
      ]
    },
    {
      "cell_type": "code",
      "source": [
        "# Matriz de Confusión - Modelo Árbol\n",
        "visualizacion_arbol_desafio = ConfusionMatrixDisplay(\n",
        "    confusion_matrix=matriz_confusion_arbol_desafio,\n",
        "    display_labels=['Sin Diabetes', 'Con Diabetes']  # Etiquetas para las clases 0 y 1\n",
        ")\n",
        "\n",
        "visualizacion_arbol_desafio.plot();"
      ],
      "metadata": {
        "colab": {
          "base_uri": "https://localhost:8080/",
          "height": 449
        },
        "id": "QestKI9__Z61",
        "outputId": "ae67489e-c0d9-460e-b243-d377a010f295"
      },
      "execution_count": 636,
      "outputs": [
        {
          "output_type": "display_data",
          "data": {
            "text/plain": [
              "<Figure size 640x480 with 2 Axes>"
            ],
            "image/png": "[encoded data removed]"
          },
          "metadata": {}
        }
      ]
    },
    {
      "cell_type": "code",
      "source": [
        "# Matriz de Confusión tipo Array - Modelo Forest\n",
        "y_previsto_forest_desafio = modelo_forest_desafio.predict(X_val_desafio)\n",
        "matriz_confusion_forest_desafio = confusion_matrix(y_val_desafio,y_previsto_forest_desafio)\n",
        "print(matriz_confusion_forest_desafio)"
      ],
      "metadata": {
        "colab": {
          "base_uri": "https://localhost:8080/"
        },
        "id": "DIFNHtGZBaYm",
        "outputId": "6bafebc0-9030-4782-f79f-28a9129f9755"
      },
      "execution_count": 637,
      "outputs": [
        {
          "output_type": "stream",
          "name": "stdout",
          "text": [
            "[[59  4]\n",
            " [26  5]]\n"
          ]
        }
      ]
    },
    {
      "cell_type": "code",
      "source": [
        "# Matriz de Confusión - Modelo Forest\n",
        "visualizacion_forest_desafio = ConfusionMatrixDisplay(\n",
        "    confusion_matrix=matriz_confusion_forest_desafio,\n",
        "    display_labels=['Sin Diabetes', 'Con Diabetes']  # Etiquetas para las clases 0 y 1\n",
        ")\n",
        "\n",
        "visualizacion_forest_desafio.plot();"
      ],
      "metadata": {
        "colab": {
          "base_uri": "https://localhost:8080/",
          "height": 449
        },
        "id": "0tHCuU5UBaeG",
        "outputId": "c5071d1c-686b-42b0-e5a7-36ef0306ca70"
      },
      "execution_count": 638,
      "outputs": [
        {
          "output_type": "display_data",
          "data": {
            "text/plain": [
              "<Figure size 640x480 with 2 Axes>"
            ],
            "image/png": "[encoded data removed]"
          },
          "metadata": {}
        }
      ]
    },
    {
      "cell_type": "markdown",
      "source": [
        "### 2) Métricas de evaluación"
      ],
      "metadata": {
        "id": "-mTyjpwmzg4b"
      }
    },
    {
      "cell_type": "markdown",
      "source": [
        "**Estos desafíos dependen del modelo generado en los desafíos de la clase 1.**\n",
        "\n",
        "**`1 -`** Para una evaluación completa de un modelo de clasificación, podemos explorar métricas que evalúan la tasa de acierto general y también para cada clase de la variable objetivo de forma individual. **`Extrae las métricas de precisión, recall, accuracy y F1-Score de los modelos de clasificación generados en el desafío de la clase 1.`** La biblioteca Scikit-Learn tiene funciones para calcular cada una de las métricas, solo necesitas importar y utilizar como parámetros los valores reales y previstos por el modelo.\n",
        "\n",
        "**`2 -`** Además de métricas numéricas, se pueden explorar gráficos para evaluar el rendimiento de un modelo y comprender si puede diferenciar bien una clase de otra. **`Obtén la curva ROC y la métrica AUC`** de los modelos de clasificación generados en el desafío de la clase 1, comparando las curvas en el mismo gráfico. La curva ROC se puede generar usando el método RocCurveDisplay.from_predictions.\n",
        "\n",
        "**`3 -`** Además de la curva ROC, la curva de precisión x recall se puede usar para evaluar el rendimiento de modelos, siendo más interesante para datos desbalanceados. **`Obtén la curva de precisión x recall y la métrica AP`** de los modelos de clasificación generados en el desafío de la clase 1, comparando las curvas en el mismo gráfico. La curva de precisión x recall se puede generar usando el método PrecisionRecallDisplay.from_predictions.\n",
        "\n",
        "**`4 -`** Un resumen de las principales métricas de clasificación puede ser muy útil para resumir la información y generar insights de forma rápida. **`Genera los informes de métricas de los modelos de clasificación construidos en el desafío de la clase 1`**. El informe de métricas se puede generar a partir de la función classification_report de la biblioteca Scikit-Learn."
      ],
      "metadata": {
        "id": "yaf_TVnazg_m"
      }
    },
    {
      "cell_type": "markdown",
      "source": [
        "#### Extraer Métricas: Precisión, Recall, Accuracy y F1"
      ],
      "metadata": {
        "id": "JJqRZd6s0gNP"
      }
    },
    {
      "cell_type": "code",
      "source": [
        "# Importamos las principales métricas para modelos de clasificación\n",
        "from sklearn.metrics import accuracy_score, precision_score, recall_score, f1_score"
      ],
      "metadata": {
        "id": "Rk_SgPAE1Yc6"
      },
      "execution_count": 639,
      "outputs": []
    },
    {
      "cell_type": "code",
      "source": [
        "# Métricas Modelo Árbol\n",
        "print(f'La precisión del modelo de árbol es: {precision_score(y_val_desafio,y_previsto_arbol_desafio)}')\n",
        "print(f'La sensibilidad (recall) del modelo de árbol es: {recall_score(y_val_desafio,y_previsto_arbol_desafio)}')\n",
        "print(f'La exactitud (accuracy) del modelo de árbol es: {accuracy_score(y_val_desafio,y_previsto_arbol_desafio)}')\n",
        "print(f'El F1-Score del modelo de árbol es: {f1_score(y_val_desafio,y_previsto_arbol_desafio)}')"
      ],
      "metadata": {
        "colab": {
          "base_uri": "https://localhost:8080/"
        },
        "id": "Tys5TiqI11kn",
        "outputId": "c72aa9e2-96de-4446-b28f-3fd72841b0fe"
      },
      "execution_count": 640,
      "outputs": [
        {
          "output_type": "stream",
          "name": "stdout",
          "text": [
            "La precisión del modelo de árbol es: 0.65625\n",
            "La sensibilidad (recall) del modelo de árbol es: 0.6774193548387096\n",
            "La exactitud (accuracy) del modelo de árbol es: 0.776595744680851\n",
            "El F1-Score del modelo de árbol es: 0.6666666666666666\n"
          ]
        }
      ]
    },
    {
      "cell_type": "code",
      "source": [
        "# Métricas Modelo Forest\n",
        "print(f'La precisión del modelo forest es: {precision_score(y_val_desafio,y_previsto_forest_desafio)}')\n",
        "print(f'La sensibilidad (recall) del modelo forest es: {recall_score(y_val_desafio,y_previsto_forest_desafio)}')\n",
        "print(f'La exactitud (accuracy) del modelo forest es: {accuracy_score(y_val_desafio,y_previsto_forest_desafio)}')\n",
        "print(f'El F1-Score del modelo forest es: {f1_score(y_val_desafio,y_previsto_forest_desafio)}')"
      ],
      "metadata": {
        "colab": {
          "base_uri": "https://localhost:8080/"
        },
        "id": "ByvNPFLY2yFF",
        "outputId": "d7a4d1c2-c604-472c-8c7f-5dce67e1a647"
      },
      "execution_count": 641,
      "outputs": [
        {
          "output_type": "stream",
          "name": "stdout",
          "text": [
            "La precisión del modelo forest es: 0.5555555555555556\n",
            "La sensibilidad (recall) del modelo forest es: 0.16129032258064516\n",
            "La exactitud (accuracy) del modelo forest es: 0.6808510638297872\n",
            "El F1-Score del modelo forest es: 0.25\n"
          ]
        }
      ]
    },
    {
      "cell_type": "markdown",
      "source": [
        "#### Curva ROC y Métrica AUC"
      ],
      "metadata": {
        "id": "xvjUDGYE0gQn"
      }
    },
    {
      "cell_type": "code",
      "source": [
        "# Importamos la herramienta para graficar la curva ROC\n",
        "from sklearn.metrics import RocCurveDisplay\n",
        "# Importamos la función para calcular el área bajo la curva ROC (AUC)\n",
        "from sklearn.metrics import roc_auc_score"
      ],
      "metadata": {
        "id": "FPlF8Ug41Y4B"
      },
      "execution_count": 642,
      "outputs": []
    },
    {
      "cell_type": "code",
      "source": [
        "# Curva ROC Modelo Árbol\n",
        "RocCurveDisplay.from_predictions(y_val_desafio,y_previsto_arbol_desafio, name='Árbol de Decisión');"
      ],
      "metadata": {
        "colab": {
          "base_uri": "https://localhost:8080/",
          "height": 451
        },
        "id": "lCjwmzR73F4V",
        "outputId": "19e23ae3-2e48-4c23-e384-384cf8e83cfc"
      },
      "execution_count": 643,
      "outputs": [
        {
          "output_type": "display_data",
          "data": {
            "text/plain": [
              "<Figure size 640x480 with 1 Axes>"
            ],
            "image/png": "[encoded data removed]"
          },
          "metadata": {}
        }
      ]
    },
    {
      "cell_type": "code",
      "source": [
        "# El Área Bajo la Curva (AUC) - Modelo Árbol\n",
        "print(f'El área bajo la curva ROC del modelo de árbol es de: {roc_auc_score(y_val_desafio, y_previsto_arbol_desafio)}')"
      ],
      "metadata": {
        "colab": {
          "base_uri": "https://localhost:8080/"
        },
        "id": "-_7z7vyN34By",
        "outputId": "a12d802f-91b4-40b9-eb2e-bb2f8f226751"
      },
      "execution_count": 644,
      "outputs": [
        {
          "output_type": "stream",
          "name": "stdout",
          "text": [
            "El área bajo la curva ROC del modelo de árbol es de: 0.7514080901177674\n"
          ]
        }
      ]
    },
    {
      "cell_type": "code",
      "source": [
        "# Curva ROC Modelo Forest\n",
        "RocCurveDisplay.from_predictions(y_val_desafio,y_previsto_forest_desafio, name='Random Forest');"
      ],
      "metadata": {
        "colab": {
          "base_uri": "https://localhost:8080/",
          "height": 451
        },
        "id": "REcgvoar3OmU",
        "outputId": "49125606-39fa-467d-f4d5-355149324be4"
      },
      "execution_count": 645,
      "outputs": [
        {
          "output_type": "display_data",
          "data": {
            "text/plain": [
              "<Figure size 640x480 with 1 Axes>"
            ],
            "image/png": "[encoded data removed]"
          },
          "metadata": {}
        }
      ]
    },
    {
      "cell_type": "code",
      "source": [
        "# El Área Bajo la Curva (AUC) - Modelo Forest\n",
        "print(f'El área bajo la curva ROC del modelo forest es de: {roc_auc_score(y_val_desafio, y_previsto_forest_desafio)}')"
      ],
      "metadata": {
        "colab": {
          "base_uri": "https://localhost:8080/"
        },
        "id": "nawgH-ah34lJ",
        "outputId": "69bce82c-549f-4b4c-f74f-68992fdd7126"
      },
      "execution_count": 646,
      "outputs": [
        {
          "output_type": "stream",
          "name": "stdout",
          "text": [
            "El área bajo la curva ROC del modelo forest es de: 0.5488991295442909\n"
          ]
        }
      ]
    },
    {
      "cell_type": "markdown",
      "source": [
        "#### Curva de Precisión x Recall y Métrica AP (Average Precision)"
      ],
      "metadata": {
        "id": "3fwUb0EG0gUn"
      }
    },
    {
      "cell_type": "code",
      "source": [
        "# Importamos la clase que permite graficar la curva Precisión vs Recall\n",
        "from sklearn.metrics import PrecisionRecallDisplay"
      ],
      "metadata": {
        "id": "jPVcZ5Er1ZVi"
      },
      "execution_count": 647,
      "outputs": []
    },
    {
      "cell_type": "code",
      "source": [
        "# Curva de Precisión x Recall - Modelo Árbol\n",
        "PrecisionRecallDisplay.from_predictions(y_val_desafio, y_previsto_arbol_desafio, name='Árbol de Decisión');"
      ],
      "metadata": {
        "colab": {
          "base_uri": "https://localhost:8080/",
          "height": 451
        },
        "id": "qhsbacPN4sCb",
        "outputId": "7d2fad36-8aab-40c5-d847-109c9ff8ea1a"
      },
      "execution_count": 648,
      "outputs": [
        {
          "output_type": "display_data",
          "data": {
            "text/plain": [
              "<Figure size 640x480 with 1 Axes>"
            ],
            "image/png": "[encoded data removed]"
          },
          "metadata": {}
        }
      ]
    },
    {
      "cell_type": "code",
      "source": [
        "# Métrica AP - Modelo Árbol\n",
        "print(f'El score promedio de precisión vs recall para el modelo de árbol es de: {average_precision_score(y_val_desafio, y_previsto_arbol_desafio)}')"
      ],
      "metadata": {
        "colab": {
          "base_uri": "https://localhost:8080/"
        },
        "id": "EEaqdo9u5jsQ",
        "outputId": "f9f463db-6920-46f8-daca-5120ce9655a4"
      },
      "execution_count": 649,
      "outputs": [
        {
          "output_type": "stream",
          "name": "stdout",
          "text": [
            "El score promedio de precisión vs recall para el modelo de árbol es de: 0.5509394303363074\n"
          ]
        }
      ]
    },
    {
      "cell_type": "code",
      "source": [
        "# Curva de Precisión x Recall - Modelo Forest\n",
        "PrecisionRecallDisplay.from_predictions(y_val_desafio, y_previsto_forest_desafio, name='Random Forest');"
      ],
      "metadata": {
        "colab": {
          "base_uri": "https://localhost:8080/",
          "height": 451
        },
        "id": "oYuzrcY55H_5",
        "outputId": "2aa8ff1e-c7b5-40e6-fd4d-1b0015a09f41"
      },
      "execution_count": 650,
      "outputs": [
        {
          "output_type": "display_data",
          "data": {
            "text/plain": [
              "<Figure size 640x480 with 1 Axes>"
            ],
            "image/png": "[encoded data removed]"
          },
          "metadata": {}
        }
      ]
    },
    {
      "cell_type": "code",
      "source": [
        "# Métrica AP - Modelo Forest\n",
        "print(f'El score promedio de precisión vs recall para el modelo forest es de: {average_precision_score(y_val_desafio, y_previsto_forest_desafio)}')"
      ],
      "metadata": {
        "colab": {
          "base_uri": "https://localhost:8080/"
        },
        "id": "xbbavNho5kwU",
        "outputId": "7d198641-6c53-48e2-f845-8938ca4ef9f7"
      },
      "execution_count": 651,
      "outputs": [
        {
          "output_type": "stream",
          "name": "stdout",
          "text": [
            "El score promedio de precisión vs recall para el modelo forest es de: 0.3662014794478762\n"
          ]
        }
      ]
    },
    {
      "cell_type": "markdown",
      "source": [
        "#### Informe de Métricas"
      ],
      "metadata": {
        "id": "ZrnyWFFL0gYb"
      }
    },
    {
      "cell_type": "code",
      "source": [
        "# Informe de Métricas\n",
        "from sklearn.metrics import classification_report"
      ],
      "metadata": {
        "id": "V0Ez_2Xd1Z55"
      },
      "execution_count": 652,
      "outputs": []
    },
    {
      "cell_type": "code",
      "source": [
        "# Informe de Métricas para Modelo de Árbol\n",
        "print(f'Informe de Métricas para Modelo de Árbol:\\n\\n{classification_report(y_val_desafio, y_previsto_arbol_desafio)}')\n",
        "\n",
        "print('\\n*******************************************************\\n')\n",
        "\n",
        "# Informe de Métricas para Modelo Forest\n",
        "print(f'Informe de Métricas para Modelo Forest:\\n\\n{classification_report(y_val_desafio, y_previsto_forest_desafio)}')"
      ],
      "metadata": {
        "colab": {
          "base_uri": "https://localhost:8080/"
        },
        "id": "zlchN4p46Gd0",
        "outputId": "5a958c3d-3597-41d1-d287-9883276ea88d"
      },
      "execution_count": 653,
      "outputs": [
        {
          "output_type": "stream",
          "name": "stdout",
          "text": [
            "Informe de Métricas para Modelo de Árbol:\n",
            "\n",
            "              precision    recall  f1-score   support\n",
            "\n",
            "           0       0.84      0.83      0.83        63\n",
            "           1       0.66      0.68      0.67        31\n",
            "\n",
            "    accuracy                           0.78        94\n",
            "   macro avg       0.75      0.75      0.75        94\n",
            "weighted avg       0.78      0.78      0.78        94\n",
            "\n",
            "\n",
            "*******************************************************\n",
            "\n",
            "Informe de Métricas para Modelo Forest:\n",
            "\n",
            "              precision    recall  f1-score   support\n",
            "\n",
            "           0       0.69      0.94      0.80        63\n",
            "           1       0.56      0.16      0.25        31\n",
            "\n",
            "    accuracy                           0.68        94\n",
            "   macro avg       0.62      0.55      0.52        94\n",
            "weighted avg       0.65      0.68      0.62        94\n",
            "\n"
          ]
        }
      ]
    },
    {
      "cell_type": "markdown",
      "source": [
        "### 3) Validación Cruzada"
      ],
      "metadata": {
        "id": "ygSksA9Jd-41"
      }
    },
    {
      "cell_type": "markdown",
      "source": [
        "**`1 -`** En el proceso de validación cruzada, se generan diferentes modelos para cada división realizada en los datos y, en consecuencia, diferentes valores de métricas de evaluación. Para encontrar un resultado promedio de las métricas, se puede construir un `intervalo de confianza` a partir de la media y la desviación estándar de las métricas. Crea una función para calcular el intervalo de confianza de los resultados de una validación cruzada con 2 desviaciones estándar. **`La función necesita 2 parámetros: uno para recibir una lista con los resultados de las métricas de la validación cruzada y otro para recibir el nombre del algoritmo`**. Para generar el intervalo de confianza, extrae la media de los resultados de la lista y la desviación estándar. El intervalo de confianza debe ser presentado en un print con el valor mínimo siendo la media restada de 2 desviaciones estándar y el valor máximo siendo la media sumada de 2 desviaciones estándar. Ejemplo de retorno de la función:\n",
        "\n",
        "`Intervalo de confianza (\"nombre del modelo\"): [\"valor mínimo del intervalo\", \"valor máximo del intervalo\"]`\n",
        "\n",
        "**`2 -`** KFold es la estrategia más simple de validación cruzada, que permite la división aleatoria de los datos en k partes, siendo utilizada una parte para validación y el resto para entrenamiento del modelo. El proceso de creación de modelos se repite hasta que todas las partes son utilizadas como validación. Sabiendo esto, `evalúa el desempeño de los modelos con un intervalo de confianza utilizando la validación cruzada con el método KFold, usando 10 partes`, con el uso del parámetro n_splits y mezclando los datos antes de la separación con el parámetro shuffle. `Usa el método cross_val_score que no retorna el tiempo de ejecución, solo las métricas.`\n",
        "\n",
        "**`3 -`** En el proceso de división de datos con el KFold aleatorio, puede ser que la proporción de cada categoría de la variable objetivo no se mantenga en cada una de las partes de los datos. Para mantener esa proporción en cada una de las partes, podemos `utilizar el KFold estratificado`, haciendo que el proceso de validación de datos sea mucho más consistente. Evalúa el desempeño de los modelos con un intervalo de confianza utilizando la validación cruzada (cross_val_score) con el método StratifiedKFold, usando el parámetro n_splits y mezclando los datos antes de la separación con el parámetro shuffle y evaluando la métrica **`F1-Score usando el parámetro scoring`**.\n",
        "\n",
        "**`4 -`** En conjuntos de datos con pocos registros (pocas filas), las estrategias de separación de los datos para validación pueden hacer que quede poca información en los datos de entrenamiento, haciendo que el modelo no comprenda bien el patrón de los datos. El `LeaveOneOut` es una estrategia para sortear este problema, utilizando solo un registro como dato de validación. Evalúa el desempeño de los modelos utilizando la validación cruzada (cross_val_score) con el método LeaveOneOut.\n",
        "\n",
        "El método LeaveOneOut generará un modelo para cada una de las filas de la base de datos, por lo tanto, la lista de resultados tendrá tasa de acierto solo de 0 o 1 para cada modelo. De esta forma, extrae solo la media del resultado con el método mean(), sin utilizar el intervalo de confianza."
      ],
      "metadata": {
        "id": "JMClDQIEd_C7"
      }
    },
    {
      "cell_type": "markdown",
      "source": [
        "#### Intervalo de confianza con validación cruzada"
      ],
      "metadata": {
        "id": "CcG0mEwDgVTq"
      }
    },
    {
      "cell_type": "code",
      "source": [
        "from sklearn.model_selection import KFold, cross_validate"
      ],
      "metadata": {
        "id": "HhYvnLF0hfBn"
      },
      "execution_count": 654,
      "outputs": []
    },
    {
      "cell_type": "code",
      "source": [
        "kf_desafio = KFold(n_splits=10, shuffle=True, random_state = 5)"
      ],
      "metadata": {
        "id": "fffo150n1D6d"
      },
      "execution_count": 655,
      "outputs": []
    },
    {
      "cell_type": "code",
      "source": [
        "# Métricas Modelo Árbol\n",
        "cv_arbol_desafio = cross_validate(modelo_arbol_desafio, X_desafio, y_desafio, cv=kf_desafio)"
      ],
      "metadata": {
        "id": "3BrJktXTjY-7"
      },
      "execution_count": 656,
      "outputs": []
    },
    {
      "cell_type": "code",
      "source": [
        "# Métricas Modelo Random Forest\n",
        "cv_forest_desafio = cross_validate(modelo_forest_desafio, X_desafio, y_desafio, cv=kf_desafio)"
      ],
      "metadata": {
        "id": "xq76oC4wlfFS"
      },
      "execution_count": 657,
      "outputs": []
    },
    {
      "cell_type": "code",
      "source": [
        "# Calcula el intervalo de confianza a partir de un diccionario de resultados.\n",
        "# Usa el promedio y desviación estándar de los valores de test_score.\n",
        "def intervalo_confianza_desafio_test_score(nombre_modelo, resultado):\n",
        "  promedio = resultado['test_score'].mean()\n",
        "  desvio_std = resultado['test_score'].std()\n",
        "  print(f'El intervalo de confianza del Modelo {nombre_modelo} es de: {promedio-2*desvio_std},{min(promedio+2*desvio_std , 1)}')"
      ],
      "metadata": {
        "id": "UnFj02qJjZNP"
      },
      "execution_count": 658,
      "outputs": []
    },
    {
      "cell_type": "code",
      "source": [
        "# Intervalos de confianza para Modelos de Árbol y Random Forest\n",
        "intervalo_confianza_desafio_test_score('Árbol de Decisión',cv_arbol_desafio)\n",
        "intervalo_confianza_desafio_test_score('Random Forest',cv_forest_desafio)"
      ],
      "metadata": {
        "colab": {
          "base_uri": "https://localhost:8080/"
        },
        "id": "UhEkNkuVgvmc",
        "outputId": "ca4efad8-14ac-4003-be8d-bea16063f829"
      },
      "execution_count": 659,
      "outputs": [
        {
          "output_type": "stream",
          "name": "stdout",
          "text": [
            "El intervalo de confianza del Modelo Árbol de Decisión es de: 0.5337181765177326,0.8684155361422958\n",
            "El intervalo de confianza del Modelo Random Forest es de: 0.5935708529993637,0.7906396733164258\n"
          ]
        }
      ]
    },
    {
      "cell_type": "markdown",
      "source": [
        "#### KFold"
      ],
      "metadata": {
        "id": "Sq6Jy5tBgVXo"
      }
    },
    {
      "cell_type": "code",
      "source": [
        "from sklearn.model_selection import KFold, cross_val_score"
      ],
      "metadata": {
        "id": "gQAn-AgFpiLa"
      },
      "execution_count": 660,
      "outputs": []
    },
    {
      "cell_type": "code",
      "source": [
        "modelo_arbol_desafio = DecisionTreeClassifier(max_depth=3)\n",
        "modelo_forest_desafio = RandomForestClassifier(max_depth = 2)\n",
        "kf_desafio = StratifiedKFold(n_splits=10, shuffle=True, random_state=5, )"
      ],
      "metadata": {
        "id": "MiULVzxh0oMS"
      },
      "execution_count": 661,
      "outputs": []
    },
    {
      "cell_type": "code",
      "source": [
        "# Calcula el intervalo de confianza desde el modelo y los datos.\n",
        "# Utiliza cross_val_score para obtener un array de resultados de test.\n",
        "\n",
        "def intervalo_confianza_desafio_cv_score(nombre_modelo, modelo):\n",
        "    resultado = cross_val_score(modelo, X_desafio, y_desafio, cv=kf_desafio)\n",
        "    promedio = resultado.mean()\n",
        "    desvio_std = resultado.std()\n",
        "    print(f'El intervalo de confianza del Modelo {nombre_modelo} es de: {promedio-2*desvio_std:.4f}, {min(promedio+2*desvio_std , 1):.4f}')"
      ],
      "metadata": {
        "id": "ikZJRLMgsgWw"
      },
      "execution_count": 662,
      "outputs": []
    },
    {
      "cell_type": "code",
      "source": [
        "intervalo_confianza_desafio_cv_score('Árbol de Decisión', modelo_arbol_desafio,)\n",
        "intervalo_confianza_desafio_cv_score('Random Forest', modelo_forest_desafio,)"
      ],
      "metadata": {
        "colab": {
          "base_uri": "https://localhost:8080/"
        },
        "id": "yGNL95t2oBMB",
        "outputId": "0e4be054-8c13-4b31-bdd2-6c3b067a007f"
      },
      "execution_count": 663,
      "outputs": [
        {
          "output_type": "stream",
          "name": "stdout",
          "text": [
            "El intervalo de confianza del Modelo Árbol de Decisión es de: 0.6283, 0.7671\n",
            "El intervalo de confianza del Modelo Random Forest es de: 0.6173, 0.7733\n"
          ]
        }
      ]
    },
    {
      "cell_type": "markdown",
      "source": [
        "### StratifiedKFold"
      ],
      "metadata": {
        "id": "oQ2GFZ0_gVk6"
      }
    },
    {
      "cell_type": "code",
      "source": [
        "# Importamos StratifiedKFold, que mantiene la proporción de clases en cada fold\n",
        "from sklearn.model_selection import StratifiedKFold"
      ],
      "metadata": {
        "id": "SgWX24F718z_"
      },
      "execution_count": 664,
      "outputs": []
    },
    {
      "cell_type": "code",
      "source": [
        "modelo_arbol_desafio = DecisionTreeClassifier(max_depth=3)\n",
        "modelo_forest_desafio = RandomForestClassifier(max_depth = 2)\n",
        "skf_desafio = StratifiedKFold(n_splits=10, shuffle=True, random_state=5, )"
      ],
      "metadata": {
        "id": "SvABOEbZYJu6"
      },
      "execution_count": 665,
      "outputs": []
    },
    {
      "cell_type": "code",
      "source": [
        "def intervalo_confianza_desafio_skf(nombre_modelo, modelo):\n",
        "    f1_scores = cross_val_score(modelo, X_desafio, y_desafio, cv=skf_desafio, scoring='f1')\n",
        "    promedio = f1_scores.mean()\n",
        "    desvio_std = f1_scores.std()\n",
        "    print(f'El intervalo de confianza del Modelo {nombre_modelo} (con F1-Scores) es de: {promedio-2*desvio_std:.4f}, {min(promedio+2*desvio_std , 1):.4f}')"
      ],
      "metadata": {
        "id": "VL4YNs7mZ_tt"
      },
      "execution_count": 666,
      "outputs": []
    },
    {
      "cell_type": "code",
      "source": [
        "intervalo_confianza_desafio_skf('Árbol de Decisión', modelo_arbol_desafio,)\n",
        "intervalo_confianza_desafio_skf('Random Forest', modelo_forest_desafio,)"
      ],
      "metadata": {
        "colab": {
          "base_uri": "https://localhost:8080/"
        },
        "id": "oukIdMpAW9ga",
        "outputId": "234719a1-666c-4449-de2c-cb5355cd7846"
      },
      "execution_count": 667,
      "outputs": [
        {
          "output_type": "stream",
          "name": "stdout",
          "text": [
            "El intervalo de confianza del Modelo Árbol de Decisión (con F1-Scores) es de: 0.2717, 0.7462\n",
            "El intervalo de confianza del Modelo Random Forest (con F1-Scores) es de: 0.1137, 0.5977\n"
          ]
        }
      ]
    },
    {
      "cell_type": "markdown",
      "source": [
        "#### LeaveOneOut"
      ],
      "metadata": {
        "id": "_EmAvJVbgVph"
      }
    },
    {
      "cell_type": "code",
      "source": [
        "from sklearn.model_selection import cross_val_score, LeaveOneOut"
      ],
      "metadata": {
        "id": "mGdtDywJcjwM"
      },
      "execution_count": 668,
      "outputs": []
    },
    {
      "cell_type": "code",
      "source": [
        "modelo_arbol_desafio = DecisionTreeClassifier(max_depth=3)\n",
        "modelo_forest_desafio = RandomForestClassifier(max_depth = 2)\n",
        "loo_desafio  = LeaveOneOut()"
      ],
      "metadata": {
        "id": "b8D6qsPtd_QN"
      },
      "execution_count": 669,
      "outputs": []
    },
    {
      "cell_type": "code",
      "source": [
        "# Función con LeaveOneOut que calcula el promedio de acierto\n",
        "def promedio_desafio_con_loo(nombre_modelo, modelo):\n",
        "    resultados = cross_val_score(modelo, X_desafio, y_desafio, cv=loo_desafio)\n",
        "    promedio = resultados.mean()\n",
        "    print(f'La precisión media del Modelo {nombre_modelo} con LeaveOneOut es: {promedio:.4f}')"
      ],
      "metadata": {
        "id": "Byb8BPFqcZ_P"
      },
      "execution_count": 670,
      "outputs": []
    },
    {
      "cell_type": "code",
      "source": [
        "promedio_desafio_con_loo('Árbol de Decisión', modelo_arbol_desafio)\n",
        "promedio_desafio_con_loo('Random Forest', modelo_forest_desafio)"
      ],
      "metadata": {
        "colab": {
          "base_uri": "https://localhost:8080/"
        },
        "id": "Vgwl5ERKdlFL",
        "outputId": "e113e154-52c5-44fe-8dd0-44b036b57417"
      },
      "execution_count": 671,
      "outputs": [
        {
          "output_type": "stream",
          "name": "stdout",
          "text": [
            "La precisión media del Modelo Árbol de Decisión con LeaveOneOut es: 0.7086\n",
            "La precisión media del Modelo Random Forest con LeaveOneOut es: 0.6872\n"
          ]
        }
      ]
    },
    {
      "cell_type": "markdown",
      "source": [
        "### 4) Balanceo de datos"
      ],
      "metadata": {
        "id": "OfhBwdwb59bw"
      }
    },
    {
      "cell_type": "markdown",
      "source": [
        "* **`1 -`** El desbalanceo de los datos de la variable objetivo puede hacer que el modelo se incline a acertar los patrones de solo la categoría que tiene mayor cantidad, haciendo necesario en algunos casos un tratamiento específico de balanceo de datos. La etapa inicial es identificar si existe o no el desbalanceo de datos en la variable objetivo. Por eso, **`verifica la proporción`** de datos de la variable objetivo del conjunto de datos de diabetes. Este análisis puede hacerse a partir del porcentaje de datos, `utilizando el método value_counts(normalize=True)` o con la utilización de un `gráfico de conteo, usando el gráfico countplot` de la biblioteca seaborn para entender si hay un desbalanceo de datos.\n",
        "\n",
        "* **`2 -`** Al realizar el balanceo de datos en una validación cruzada, es necesario utilizar un `pipeline`, para que los datos de validación no sean balanceados, manteniéndose en el estándar de los datos del mundo real. Utiliza un `pipeline que contenga el ajuste del modelo y el balanceo de los datos usando el oversampling con SMOTE, obteniendo la media del F1-Score de una validación cruzada con StratifiedKFold.`\n",
        "\n",
        "* **`3 -`** Además del oversampling, es posible utilizar la estrategia de `undersampling` para hacer el balanceo de los datos. A pesar de ser estrategias distintas, ambas requieren de un pipeline por tratarse de balanceo de datos en una validación cruzada. Utiliza `un pipeline que contenga el ajuste del modelo y el balanceo de los datos usando el undersampling con NearMiss en su versión 3, obteniendo la media del F1-Score de una validación cruzada con StratifiedKFold.`\n",
        "\n",
        "* **`4 -`** Después de realizar diversas análisis y mejorar el rendimiento de los modelos, llega la etapa final, que consiste en `seleccionar el modelo con mejor rendimiento y hacer la evaluación final` en un conjunto de datos de prueba, que no ha sido visto durante el proceso de entrenamiento y validación. Elige el modelo que obtuvo el mejor rendimiento al comparar las estrategias de oversampling y undersampling y entrena un modelo usando todos los datos con la mejor estrategia. `Realiza la evaluación del modelo usando los datos de prueba` que fueron separados al inicio de los desafíos, `obteniendo el informe de métricas y matriz de confusión.`"
      ],
      "metadata": {
        "id": "eN3thclT6Crg"
      }
    },
    {
      "cell_type": "markdown",
      "source": [
        "#### Verificar Proporción"
      ],
      "metadata": {
        "id": "hb2A6QxYnawG"
      }
    },
    {
      "cell_type": "code",
      "source": [
        "datos_desafio['diabetes'].value_counts()"
      ],
      "metadata": {
        "colab": {
          "base_uri": "https://localhost:8080/",
          "height": 178
        },
        "id": "cXmU8V3rna4K",
        "outputId": "cdc8092b-46e9-4b14-8522-455c391f6678"
      },
      "execution_count": 672,
      "outputs": [
        {
          "output_type": "execute_result",
          "data": {
            "text/plain": [
              "diabetes\n",
              "0    264\n",
              "1    130\n",
              "Name: count, dtype: int64"
            ],
            "text/html": [
              "<div>\n",
              "<style scoped>\n",
              "    .dataframe tbody tr th:only-of-type {\n",
              "        vertical-align: middle;\n",
              "    }\n",
              "\n",
              "    .dataframe tbody tr th {\n",
              "        vertical-align: top;\n",
              "    }\n",
              "\n",
              "    .dataframe thead th {\n",
              "        text-align: right;\n",
              "    }\n",
              "</style>\n",
              "<table border=\"1\" class=\"dataframe\">\n",
              "  <thead>\n",
              "    <tr style=\"text-align: right;\">\n",
              "      <th></th>\n",
              "      <th>count</th>\n",
              "    </tr>\n",
              "    <tr>\n",
              "      <th>diabetes</th>\n",
              "      <th></th>\n",
              "    </tr>\n",
              "  </thead>\n",
              "  <tbody>\n",
              "    <tr>\n",
              "      <th>0</th>\n",
              "      <td>264</td>\n",
              "    </tr>\n",
              "    <tr>\n",
              "      <th>1</th>\n",
              "      <td>130</td>\n",
              "    </tr>\n",
              "  </tbody>\n",
              "</table>\n",
              "</div><br><label><b>dtype:</b> int64</label>"
            ]
          },
          "metadata": {},
          "execution_count": 672
        }
      ]
    },
    {
      "cell_type": "code",
      "source": [
        "round(datos_desafio['diabetes'].value_counts(normalize=True),4) * 100"
      ],
      "metadata": {
        "colab": {
          "base_uri": "https://localhost:8080/",
          "height": 178
        },
        "id": "m_B9O63WoL5J",
        "outputId": "fdc03b63-417d-4bbf-b8c3-5668cdb64ebc"
      },
      "execution_count": 673,
      "outputs": [
        {
          "output_type": "execute_result",
          "data": {
            "text/plain": [
              "diabetes\n",
              "0    67.01\n",
              "1    32.99\n",
              "Name: proportion, dtype: float64"
            ],
            "text/html": [
              "<div>\n",
              "<style scoped>\n",
              "    .dataframe tbody tr th:only-of-type {\n",
              "        vertical-align: middle;\n",
              "    }\n",
              "\n",
              "    .dataframe tbody tr th {\n",
              "        vertical-align: top;\n",
              "    }\n",
              "\n",
              "    .dataframe thead th {\n",
              "        text-align: right;\n",
              "    }\n",
              "</style>\n",
              "<table border=\"1\" class=\"dataframe\">\n",
              "  <thead>\n",
              "    <tr style=\"text-align: right;\">\n",
              "      <th></th>\n",
              "      <th>proportion</th>\n",
              "    </tr>\n",
              "    <tr>\n",
              "      <th>diabetes</th>\n",
              "      <th></th>\n",
              "    </tr>\n",
              "  </thead>\n",
              "  <tbody>\n",
              "    <tr>\n",
              "      <th>0</th>\n",
              "      <td>67.01</td>\n",
              "    </tr>\n",
              "    <tr>\n",
              "      <th>1</th>\n",
              "      <td>32.99</td>\n",
              "    </tr>\n",
              "  </tbody>\n",
              "</table>\n",
              "</div><br><label><b>dtype:</b> float64</label>"
            ]
          },
          "metadata": {},
          "execution_count": 673
        }
      ]
    },
    {
      "cell_type": "code",
      "source": [
        "import seaborn as sns\n",
        "\n",
        "sns.countplot(datos_desafio, x='diabetes', hue='diabetes', palette='Set1', legend=False);"
      ],
      "metadata": {
        "colab": {
          "base_uri": "https://localhost:8080/",
          "height": 449
        },
        "id": "T25TwaJEquK8",
        "outputId": "d4bea8df-9eeb-4be0-fa7b-3b3a22365aa9"
      },
      "execution_count": 674,
      "outputs": [
        {
          "output_type": "display_data",
          "data": {
            "text/plain": [
              "<Figure size 640x480 with 1 Axes>"
            ],
            "image/png": "[encoded data removed]"
          },
          "metadata": {}
        }
      ]
    },
    {
      "cell_type": "code",
      "source": [
        "import plotly.express as px\n",
        "\n",
        "fig = px.histogram(datos_desafio, x='diabetes', color= 'diabetes', title=\"Proporción\", width=700, height=400, pattern_shape='diabetes')\n",
        "fig.show()\n",
        "# px.histogram(datos_desafio, x='diabetes', color= 'diabetes', text_auto=True)"
      ],
      "metadata": {
        "colab": {
          "base_uri": "https://localhost:8080/",
          "height": 417
        },
        "id": "75_Tzmg8q31r",
        "outputId": "cc84c883-3a45-4f4b-9041-b0958f524f00"
      },
      "execution_count": 675,
      "outputs": [
        {
          "output_type": "display_data",
          "data": {
            "text/html": [
              "<html>\n",
              "<head><meta charset=\"utf-8\" /></head>\n",
              "<body>\n",
              "    <div>            <script src=\"https://cdnjs.cloudflare.com/ajax/libs/mathjax/2.7.5/MathJax.js?config=TeX-AMS-MML_SVG\"></script><script type=\"text/javascript\">if (window.MathJax && window.MathJax.Hub && window.MathJax.Hub.Config) {window.MathJax.Hub.Config({SVG: {font: \"STIX-Web\"}});}</script>                <script type=\"text/javascript\">window.PlotlyConfig = {MathJaxConfig: 'local'};</script>\n",
              "        <script charset=\"utf-8\" src=\"https://cdn.plot.ly/plotly-2.35.2.min.js\"></script>                <div id=\"da2e0a38-6513-40d1-a62f-e2a896ad2c51\" class=\"plotly-graph-div\" style=\"height:400px; width:700px;\"></div>            <script type=\"text/javascript\">                                    window.PLOTLYENV=window.PLOTLYENV || {};                                    if (document.getElementById(\"da2e0a38-6513-40d1-a62f-e2a896ad2c51\")) {                    Plotly.newPlot(                        \"da2e0a38-6513-40d1-a62f-e2a896ad2c51\",                        [{\"alignmentgroup\":\"True\",\"bingroup\":\"x\",\"hovertemplate\":\"diabetes=%{x}\\u003cbr\\u003ecount=%{y}\\u003cextra\\u003e\\u003c\\u002fextra\\u003e\",\"legendgroup\":\"0\",\"marker\":{\"color\":\"#636efa\",\"pattern\":{\"shape\":\"\"}},\"name\":\"0\",\"offsetgroup\":\"0\",\"orientation\":\"v\",\"showlegend\":true,\"x\":[0,0,0,0,0,0,0,0,0,0,0,0,0,0,0,0,0,0,0,0,0,0,0,0,0,0,0,0,0,0,0,0,0,0,0,0,0,0,0,0,0,0,0,0,0,0,0,0,0,0,0,0,0,0,0,0,0,0,0,0,0,0,0,0,0,0,0,0,0,0,0,0,0,0,0,0,0,0,0,0,0,0,0,0,0,0,0,0,0,0,0,0,0,0,0,0,0,0,0,0,0,0,0,0,0,0,0,0,0,0,0,0,0,0,0,0,0,0,0,0,0,0,0,0,0,0,0,0,0,0,0,0,0,0,0,0,0,0,0,0,0,0,0,0,0,0,0,0,0,0,0,0,0,0,0,0,0,0,0,0,0,0,0,0,0,0,0,0,0,0,0,0,0,0,0,0,0,0,0,0,0,0,0,0,0,0,0,0,0,0,0,0,0,0,0,0,0,0,0,0,0,0,0,0,0,0,0,0,0,0,0,0,0,0,0,0,0,0,0,0,0,0,0,0,0,0,0,0,0,0,0,0,0,0,0,0,0,0,0,0,0,0,0,0,0,0,0,0,0,0,0,0,0,0,0,0,0,0,0,0,0,0,0,0],\"xaxis\":\"x\",\"yaxis\":\"y\",\"type\":\"histogram\"},{\"alignmentgroup\":\"True\",\"bingroup\":\"x\",\"hovertemplate\":\"diabetes=%{x}\\u003cbr\\u003ecount=%{y}\\u003cextra\\u003e\\u003c\\u002fextra\\u003e\",\"legendgroup\":\"1\",\"marker\":{\"color\":\"#EF553B\",\"pattern\":{\"shape\":\"\\u002f\"}},\"name\":\"1\",\"offsetgroup\":\"1\",\"orientation\":\"v\",\"showlegend\":true,\"x\":[1,1,1,1,1,1,1,1,1,1,1,1,1,1,1,1,1,1,1,1,1,1,1,1,1,1,1,1,1,1,1,1,1,1,1,1,1,1,1,1,1,1,1,1,1,1,1,1,1,1,1,1,1,1,1,1,1,1,1,1,1,1,1,1,1,1,1,1,1,1,1,1,1,1,1,1,1,1,1,1,1,1,1,1,1,1,1,1,1,1,1,1,1,1,1,1,1,1,1,1,1,1,1,1,1,1,1,1,1,1,1,1,1,1,1,1,1,1,1,1,1,1,1,1,1,1,1,1,1,1],\"xaxis\":\"x\",\"yaxis\":\"y\",\"type\":\"histogram\"}],                        {\"template\":{\"data\":{\"histogram2dcontour\":[{\"type\":\"histogram2dcontour\",\"colorbar\":{\"outlinewidth\":0,\"ticks\":\"\"},\"colorscale\":[[0.0,\"#0d0887\"],[0.1111111111111111,\"#46039f\"],[0.2222222222222222,\"#7201a8\"],[0.3333333333333333,\"#9c179e\"],[0.4444444444444444,\"#bd3786\"],[0.5555555555555556,\"#d8576b\"],[0.6666666666666666,\"#ed7953\"],[0.7777777777777778,\"#fb9f3a\"],[0.8888888888888888,\"#fdca26\"],[1.0,\"#f0f921\"]]}],\"choropleth\":[{\"type\":\"choropleth\",\"colorbar\":{\"outlinewidth\":0,\"ticks\":\"\"}}],\"histogram2d\":[{\"type\":\"histogram2d\",\"colorbar\":{\"outlinewidth\":0,\"ticks\":\"\"},\"colorscale\":[[0.0,\"#0d0887\"],[0.1111111111111111,\"#46039f\"],[0.2222222222222222,\"#7201a8\"],[0.3333333333333333,\"#9c179e\"],[0.4444444444444444,\"#bd3786\"],[0.5555555555555556,\"#d8576b\"],[0.6666666666666666,\"#ed7953\"],[0.7777777777777778,\"#fb9f3a\"],[0.8888888888888888,\"#fdca26\"],[1.0,\"#f0f921\"]]}],\"heatmap\":[{\"type\":\"heatmap\",\"colorbar\":{\"outlinewidth\":0,\"ticks\":\"\"},\"colorscale\":[[0.0,\"#0d0887\"],[0.1111111111111111,\"#46039f\"],[0.2222222222222222,\"#7201a8\"],[0.3333333333333333,\"#9c179e\"],[0.4444444444444444,\"#bd3786\"],[0.5555555555555556,\"#d8576b\"],[0.6666666666666666,\"#ed7953\"],[0.7777777777777778,\"#fb9f3a\"],[0.8888888888888888,\"#fdca26\"],[1.0,\"#f0f921\"]]}],\"heatmapgl\":[{\"type\":\"heatmapgl\",\"colorbar\":{\"outlinewidth\":0,\"ticks\":\"\"},\"colorscale\":[[0.0,\"#0d0887\"],[0.1111111111111111,\"#46039f\"],[0.2222222222222222,\"#7201a8\"],[0.3333333333333333,\"#9c179e\"],[0.4444444444444444,\"#bd3786\"],[0.5555555555555556,\"#d8576b\"],[0.6666666666666666,\"#ed7953\"],[0.7777777777777778,\"#fb9f3a\"],[0.8888888888888888,\"#fdca26\"],[1.0,\"#f0f921\"]]}],\"contourcarpet\":[{\"type\":\"contourcarpet\",\"colorbar\":{\"outlinewidth\":0,\"ticks\":\"\"}}],\"contour\":[{\"type\":\"contour\",\"colorbar\":{\"outlinewidth\":0,\"ticks\":\"\"},\"colorscale\":[[0.0,\"#0d0887\"],[0.1111111111111111,\"#46039f\"],[0.2222222222222222,\"#7201a8\"],[0.3333333333333333,\"#9c179e\"],[0.4444444444444444,\"#bd3786\"],[0.5555555555555556,\"#d8576b\"],[0.6666666666666666,\"#ed7953\"],[0.7777777777777778,\"#fb9f3a\"],[0.8888888888888888,\"#fdca26\"],[1.0,\"#f0f921\"]]}],\"surface\":[{\"type\":\"surface\",\"colorbar\":{\"outlinewidth\":0,\"ticks\":\"\"},\"colorscale\":[[0.0,\"#0d0887\"],[0.1111111111111111,\"#46039f\"],[0.2222222222222222,\"#7201a8\"],[0.3333333333333333,\"#9c179e\"],[0.4444444444444444,\"#bd3786\"],[0.5555555555555556,\"#d8576b\"],[0.6666666666666666,\"#ed7953\"],[0.7777777777777778,\"#fb9f3a\"],[0.8888888888888888,\"#fdca26\"],[1.0,\"#f0f921\"]]}],\"mesh3d\":[{\"type\":\"mesh3d\",\"colorbar\":{\"outlinewidth\":0,\"ticks\":\"\"}}],\"scatter\":[{\"fillpattern\":{\"fillmode\":\"overlay\",\"size\":10,\"solidity\":0.2},\"type\":\"scatter\"}],\"parcoords\":[{\"type\":\"parcoords\",\"line\":{\"colorbar\":{\"outlinewidth\":0,\"ticks\":\"\"}}}],\"scatterpolargl\":[{\"type\":\"scatterpolargl\",\"marker\":{\"colorbar\":{\"outlinewidth\":0,\"ticks\":\"\"}}}],\"bar\":[{\"error_x\":{\"color\":\"#2a3f5f\"},\"error_y\":{\"color\":\"#2a3f5f\"},\"marker\":{\"line\":{\"color\":\"#E5ECF6\",\"width\":0.5},\"pattern\":{\"fillmode\":\"overlay\",\"size\":10,\"solidity\":0.2}},\"type\":\"bar\"}],\"scattergeo\":[{\"type\":\"scattergeo\",\"marker\":{\"colorbar\":{\"outlinewidth\":0,\"ticks\":\"\"}}}],\"scatterpolar\":[{\"type\":\"scatterpolar\",\"marker\":{\"colorbar\":{\"outlinewidth\":0,\"ticks\":\"\"}}}],\"histogram\":[{\"marker\":{\"pattern\":{\"fillmode\":\"overlay\",\"size\":10,\"solidity\":0.2}},\"type\":\"histogram\"}],\"scattergl\":[{\"type\":\"scattergl\",\"marker\":{\"colorbar\":{\"outlinewidth\":0,\"ticks\":\"\"}}}],\"scatter3d\":[{\"type\":\"scatter3d\",\"line\":{\"colorbar\":{\"outlinewidth\":0,\"ticks\":\"\"}},\"marker\":{\"colorbar\":{\"outlinewidth\":0,\"ticks\":\"\"}}}],\"scattermapbox\":[{\"type\":\"scattermapbox\",\"marker\":{\"colorbar\":{\"outlinewidth\":0,\"ticks\":\"\"}}}],\"scatterternary\":[{\"type\":\"scatterternary\",\"marker\":{\"colorbar\":{\"outlinewidth\":0,\"ticks\":\"\"}}}],\"scattercarpet\":[{\"type\":\"scattercarpet\",\"marker\":{\"colorbar\":{\"outlinewidth\":0,\"ticks\":\"\"}}}],\"carpet\":[{\"aaxis\":{\"endlinecolor\":\"#2a3f5f\",\"gridcolor\":\"white\",\"linecolor\":\"white\",\"minorgridcolor\":\"white\",\"startlinecolor\":\"#2a3f5f\"},\"baxis\":{\"endlinecolor\":\"#2a3f5f\",\"gridcolor\":\"white\",\"linecolor\":\"white\",\"minorgridcolor\":\"white\",\"startlinecolor\":\"#2a3f5f\"},\"type\":\"carpet\"}],\"table\":[{\"cells\":{\"fill\":{\"color\":\"#EBF0F8\"},\"line\":{\"color\":\"white\"}},\"header\":{\"fill\":{\"color\":\"#C8D4E3\"},\"line\":{\"color\":\"white\"}},\"type\":\"table\"}],\"barpolar\":[{\"marker\":{\"line\":{\"color\":\"#E5ECF6\",\"width\":0.5},\"pattern\":{\"fillmode\":\"overlay\",\"size\":10,\"solidity\":0.2}},\"type\":\"barpolar\"}],\"pie\":[{\"automargin\":true,\"type\":\"pie\"}]},\"layout\":{\"autotypenumbers\":\"strict\",\"colorway\":[\"#636efa\",\"#EF553B\",\"#00cc96\",\"#ab63fa\",\"#FFA15A\",\"#19d3f3\",\"#FF6692\",\"#B6E880\",\"#FF97FF\",\"#FECB52\"],\"font\":{\"color\":\"#2a3f5f\"},\"hovermode\":\"closest\",\"hoverlabel\":{\"align\":\"left\"},\"paper_bgcolor\":\"white\",\"plot_bgcolor\":\"#E5ECF6\",\"polar\":{\"bgcolor\":\"#E5ECF6\",\"angularaxis\":{\"gridcolor\":\"white\",\"linecolor\":\"white\",\"ticks\":\"\"},\"radialaxis\":{\"gridcolor\":\"white\",\"linecolor\":\"white\",\"ticks\":\"\"}},\"ternary\":{\"bgcolor\":\"#E5ECF6\",\"aaxis\":{\"gridcolor\":\"white\",\"linecolor\":\"white\",\"ticks\":\"\"},\"baxis\":{\"gridcolor\":\"white\",\"linecolor\":\"white\",\"ticks\":\"\"},\"caxis\":{\"gridcolor\":\"white\",\"linecolor\":\"white\",\"ticks\":\"\"}},\"coloraxis\":{\"colorbar\":{\"outlinewidth\":0,\"ticks\":\"\"}},\"colorscale\":{\"sequential\":[[0.0,\"#0d0887\"],[0.1111111111111111,\"#46039f\"],[0.2222222222222222,\"#7201a8\"],[0.3333333333333333,\"#9c179e\"],[0.4444444444444444,\"#bd3786\"],[0.5555555555555556,\"#d8576b\"],[0.6666666666666666,\"#ed7953\"],[0.7777777777777778,\"#fb9f3a\"],[0.8888888888888888,\"#fdca26\"],[1.0,\"#f0f921\"]],\"sequentialminus\":[[0.0,\"#0d0887\"],[0.1111111111111111,\"#46039f\"],[0.2222222222222222,\"#7201a8\"],[0.3333333333333333,\"#9c179e\"],[0.4444444444444444,\"#bd3786\"],[0.5555555555555556,\"#d8576b\"],[0.6666666666666666,\"#ed7953\"],[0.7777777777777778,\"#fb9f3a\"],[0.8888888888888888,\"#fdca26\"],[1.0,\"#f0f921\"]],\"diverging\":[[0,\"#8e0152\"],[0.1,\"#c51b7d\"],[0.2,\"#de77ae\"],[0.3,\"#f1b6da\"],[0.4,\"#fde0ef\"],[0.5,\"#f7f7f7\"],[0.6,\"#e6f5d0\"],[0.7,\"#b8e186\"],[0.8,\"#7fbc41\"],[0.9,\"#4d9221\"],[1,\"#276419\"]]},\"xaxis\":{\"gridcolor\":\"white\",\"linecolor\":\"white\",\"ticks\":\"\",\"title\":{\"standoff\":15},\"zerolinecolor\":\"white\",\"automargin\":true,\"zerolinewidth\":2},\"yaxis\":{\"gridcolor\":\"white\",\"linecolor\":\"white\",\"ticks\":\"\",\"title\":{\"standoff\":15},\"zerolinecolor\":\"white\",\"automargin\":true,\"zerolinewidth\":2},\"scene\":{\"xaxis\":{\"backgroundcolor\":\"#E5ECF6\",\"gridcolor\":\"white\",\"linecolor\":\"white\",\"showbackground\":true,\"ticks\":\"\",\"zerolinecolor\":\"white\",\"gridwidth\":2},\"yaxis\":{\"backgroundcolor\":\"#E5ECF6\",\"gridcolor\":\"white\",\"linecolor\":\"white\",\"showbackground\":true,\"ticks\":\"\",\"zerolinecolor\":\"white\",\"gridwidth\":2},\"zaxis\":{\"backgroundcolor\":\"#E5ECF6\",\"gridcolor\":\"white\",\"linecolor\":\"white\",\"showbackground\":true,\"ticks\":\"\",\"zerolinecolor\":\"white\",\"gridwidth\":2}},\"shapedefaults\":{\"line\":{\"color\":\"#2a3f5f\"}},\"annotationdefaults\":{\"arrowcolor\":\"#2a3f5f\",\"arrowhead\":0,\"arrowwidth\":1},\"geo\":{\"bgcolor\":\"white\",\"landcolor\":\"#E5ECF6\",\"subunitcolor\":\"white\",\"showland\":true,\"showlakes\":true,\"lakecolor\":\"white\"},\"title\":{\"x\":0.05},\"mapbox\":{\"style\":\"light\"}}},\"xaxis\":{\"anchor\":\"y\",\"domain\":[0.0,1.0],\"title\":{\"text\":\"diabetes\"},\"categoryorder\":\"array\",\"categoryarray\":[0,1]},\"yaxis\":{\"anchor\":\"x\",\"domain\":[0.0,1.0],\"title\":{\"text\":\"count\"}},\"legend\":{\"title\":{\"text\":\"diabetes\"},\"tracegroupgap\":0},\"title\":{\"text\":\"Proporción\"},\"barmode\":\"relative\",\"height\":400,\"width\":700},                        {\"responsive\": true}                    ).then(function(){\n",
              "                            \n",
              "var gd = document.getElementById('da2e0a38-6513-40d1-a62f-e2a896ad2c51');\n",
              "var x = new MutationObserver(function (mutations, observer) {{\n",
              "        var display = window.getComputedStyle(gd).display;\n",
              "        if (!display || display === 'none') {{\n",
              "            console.log([gd, 'removed!']);\n",
              "            Plotly.purge(gd);\n",
              "            observer.disconnect();\n",
              "        }}\n",
              "}});\n",
              "\n",
              "// Listen for the removal of the full notebook cells\n",
              "var notebookContainer = gd.closest('#notebook-container');\n",
              "if (notebookContainer) {{\n",
              "    x.observe(notebookContainer, {childList: true});\n",
              "}}\n",
              "\n",
              "// Listen for the clearing of the current output cell\n",
              "var outputEl = gd.closest('.output');\n",
              "if (outputEl) {{\n",
              "    x.observe(outputEl, {childList: true});\n",
              "}}\n",
              "\n",
              "                        })                };                            </script>        </div>\n",
              "</body>\n",
              "</html>"
            ]
          },
          "metadata": {}
        }
      ]
    },
    {
      "cell_type": "markdown",
      "source": [
        "#### Oversampling"
      ],
      "metadata": {
        "id": "A0DEIqq5p5uw"
      }
    },
    {
      "cell_type": "code",
      "source": [
        "from imblearn.over_sampling import SMOTE\n",
        "from imblearn.pipeline import Pipeline as imbpipeline"
      ],
      "metadata": {
        "id": "zK27-4aWp54m"
      },
      "execution_count": 676,
      "outputs": []
    },
    {
      "cell_type": "code",
      "source": [
        "# Modelo Árbol de Decisión\n",
        "modelo_arbol_desafio = DecisionTreeClassifier(max_depth = 3)\n",
        "pipeline_desafio_arbol = imbpipeline([('oversample', SMOTE()),('arbol', modelo_arbol_desafio)])\n",
        "skf_desafio = StratifiedKFold(n_splits=10, shuffle=True, random_state=5)\n",
        "resultado_desafio_arbol = cross_val_score(pipeline_desafio_arbol, X_desafio, y_desafio, cv=skf_desafio, scoring='f1')\n",
        "print(f'F1 de Modelo de Árbol de Decisión es de: {resultado_desafio_arbol.mean()}')"
      ],
      "metadata": {
        "id": "C4t36W5d06al",
        "outputId": "0d53654d-6bc1-4674-be5e-4f9e559281d9",
        "colab": {
          "base_uri": "https://localhost:8080/"
        }
      },
      "execution_count": 677,
      "outputs": [
        {
          "output_type": "stream",
          "name": "stdout",
          "text": [
            "F1 de Modelo de Árbol de Decisión es de: 0.5453614368272813\n"
          ]
        }
      ]
    },
    {
      "cell_type": "code",
      "source": [
        "# Modelo Random Forest\n",
        "modelo_forest_desafio = RandomForestClassifier(max_depth = 2)\n",
        "pipeline_desafio_forest = imbpipeline([('oversample', SMOTE()),('forest', modelo_forest_desafio)])\n",
        "skf_desafio = StratifiedKFold(n_splits=10, shuffle=True, random_state=5)\n",
        "resultado_desafio_forest = cross_val_score(pipeline_desafio_forest, X_desafio, y_desafio, cv=skf_desafio, scoring='f1')\n",
        "print(f'F1 de Modelo Random Forest es de: {resultado_desafio_forest.mean()}')"
      ],
      "metadata": {
        "id": "DAgSKi1l16q0",
        "outputId": "6e9c887c-f335-4a0e-a749-506eb3c22b99",
        "colab": {
          "base_uri": "https://localhost:8080/"
        }
      },
      "execution_count": 678,
      "outputs": [
        {
          "output_type": "stream",
          "name": "stdout",
          "text": [
            "F1 de Modelo Random Forest es de: 0.6168981728210937\n"
          ]
        }
      ]
    },
    {
      "cell_type": "markdown",
      "source": [
        "#### Undersampling"
      ],
      "metadata": {
        "id": "K7mY6hf5p4aR"
      }
    },
    {
      "cell_type": "code",
      "source": [
        "from imblearn.under_sampling import NearMiss"
      ],
      "metadata": {
        "id": "aO7DekvPnbRy"
      },
      "execution_count": 679,
      "outputs": []
    },
    {
      "cell_type": "code",
      "source": [
        "# Modelo Árbol de Decisión\n",
        "modelo_arbol_desafio = DecisionTreeClassifier(max_depth = 3)\n",
        "pipeline_desafio_arbol = imbpipeline([('undersample', NearMiss(version = 3)),('arbol', modelo_arbol_desafio)])\n",
        "skf_desafio = StratifiedKFold(n_splits=10, shuffle=True, random_state=5)\n",
        "resultado_desafio_arbol = cross_val_score(pipeline_desafio_arbol, X_desafio, y_desafio, cv=skf_desafio, scoring='f1')\n",
        "print(f'F1 de Modelo de Árbol de Decisión es de: {resultado_desafio_arbol.mean()}')"
      ],
      "metadata": {
        "id": "0S8RASa054Pu",
        "outputId": "224fe9fa-17b1-4fd3-adea-02a5c2c2c196",
        "colab": {
          "base_uri": "https://localhost:8080/"
        }
      },
      "execution_count": 680,
      "outputs": [
        {
          "output_type": "stream",
          "name": "stdout",
          "text": [
            "F1 de Modelo de Árbol de Decisión es de: 0.5449681473471796\n"
          ]
        }
      ]
    },
    {
      "cell_type": "code",
      "source": [
        "# Modelo Random Forest\n",
        "modelo_forest_desafio = RandomForestClassifier(max_depth = 2)\n",
        "pipeline_desafio_forest = imbpipeline([('undersample', NearMiss(version = 3)),('forest', modelo_forest_desafio)])\n",
        "skf_desafio = StratifiedKFold(n_splits=10, shuffle=True, random_state=5)\n",
        "resultado_desafio_forest = cross_val_score(pipeline_desafio_forest, X_desafio, y_desafio, cv=skf_desafio, scoring='f1')\n",
        "print(f'F1 de Modelo Random Forest es de: {resultado_desafio_forest.mean()}')"
      ],
      "metadata": {
        "id": "pS7uPnvq6wet",
        "outputId": "16ebde2a-8bfb-433b-b504-c9982fc203b8",
        "colab": {
          "base_uri": "https://localhost:8080/"
        }
      },
      "execution_count": 681,
      "outputs": [
        {
          "output_type": "stream",
          "name": "stdout",
          "text": [
            "F1 de Modelo Random Forest es de: 0.6224205116362777\n"
          ]
        }
      ]
    },
    {
      "cell_type": "markdown",
      "source": [
        "#### Evaluación del mejor modelo usando el conjunto de prueba"
      ],
      "metadata": {
        "id": "I5a_Lq__nbYj"
      }
    },
    {
      "cell_type": "code",
      "source": [
        "# Modelo Forest con undersampling usando NearMiss v3: reduce la clase mayoritaria conservando los casos más “difíciles”\n",
        "undersample_desafio = NearMiss(version=3)\n",
        "\n",
        "# Re-muestreo SOLO sobre el entrenamiento (evita contaminar el test)\n",
        "x_balanceada_desafio, y_balanceada_desafio = undersample_desafio.fit_resample(X_desafio, y_desafio)\n",
        "\n",
        "# Modelo: Random Forest (max_depth=2 para controlar complejidad). Recomendable fijar random_state.\n",
        "modelo_forest_desafio = RandomForestClassifier(max_depth=2)\n",
        "\n",
        "# Entrenamiento con datos ya balanceados por NearMiss\n",
        "modelo_forest_desafio.fit(x_balanceada_desafio, y_balanceada_desafio)\n",
        "\n",
        "# Predicción sobre el set de prueba original (sin aplicar ningún re-muestreo)\n",
        "y_previsto_forest_desafio = modelo_forest_desafio.predict(X_test_desafio)\n",
        "\n",
        "# Métricas por clase (precisión, recall, F1) y promedios\n",
        "print(classification_report(y_test_desafio, y_previsto_forest_desafio))\n",
        "\n",
        "# Matriz de confusión (TN, FP, FN, TP) para diagnóstico rápido de errores\n",
        "ConfusionMatrixDisplay.from_predictions(y_test_desafio, y_previsto_forest_desafio);"
      ],
      "metadata": {
        "colab": {
          "base_uri": "https://localhost:8080/",
          "height": 618
        },
        "id": "r9au6vMfnbe6",
        "outputId": "db505131-b29b-4079-bea7-dab16ff13733"
      },
      "execution_count": 682,
      "outputs": [
        {
          "output_type": "stream",
          "name": "stdout",
          "text": [
            "              precision    recall  f1-score   support\n",
            "\n",
            "           0       0.80      0.62      0.70        13\n",
            "           1       0.50      0.71      0.59         7\n",
            "\n",
            "    accuracy                           0.65        20\n",
            "   macro avg       0.65      0.66      0.64        20\n",
            "weighted avg       0.70      0.65      0.66        20\n",
            "\n"
          ]
        },
        {
          "output_type": "display_data",
          "data": {
            "text/plain": [
              "<Figure size 640x480 with 2 Axes>"
            ],
            "image/png": "[encoded data removed]"
          },
          "metadata": {}
        }
      ]
    },
    {
      "cell_type": "code",
      "source": [
        "# Random Forest con Oversampling usando SMOTE: genera sintéticamente ejemplos de la clase minoritaria\n",
        "modelo_base = RandomForestClassifier(random_state=5)\n",
        "\n",
        "# Re-muestreo SOLO sobre el entrenamiento (evita data leakage)\n",
        "oversample_desafio = SMOTE(random_state=5)\n",
        "x_balanceada_desafio, y_balanceada_desafio = oversample_desafio.fit_resample(X_desafio, y_desafio)\n",
        "\n",
        "# Entrenamiento con datos balanceados artificialmente por SMOTE\n",
        "modelo_base.fit(x_balanceada_desafio, y_balanceada_desafio)\n",
        "\n",
        "# Predicción sobre el set de prueba original (sin re-muestreo)\n",
        "y_previsto_smote_desafio = modelo_base.predict(X_test_desafio)\n",
        "\n",
        "# Métricas por clase (precisión, recall, F1) y promedios\n",
        "print(classification_report(y_test_desafio, y_previsto_smote_desafio))\n",
        "\n",
        "# Matriz de confusión (TN, FP, FN, TP) para análisis de aciertos y errores\n",
        "ConfusionMatrixDisplay.from_predictions(y_test_desafio, y_previsto_smote_desafio);"
      ],
      "metadata": {
        "id": "YBg0yCPWFPMp",
        "outputId": "e0f303a8-f5ca-4594-f160-913584115d33",
        "colab": {
          "base_uri": "https://localhost:8080/",
          "height": 618
        }
      },
      "execution_count": 683,
      "outputs": [
        {
          "output_type": "stream",
          "name": "stdout",
          "text": [
            "              precision    recall  f1-score   support\n",
            "\n",
            "           0       0.75      0.69      0.72        13\n",
            "           1       0.50      0.57      0.53         7\n",
            "\n",
            "    accuracy                           0.65        20\n",
            "   macro avg       0.62      0.63      0.63        20\n",
            "weighted avg       0.66      0.65      0.65        20\n",
            "\n"
          ]
        },
        {
          "output_type": "display_data",
          "data": {
            "text/plain": [
              "<Figure size 640x480 with 2 Axes>"
            ],
            "image/png": "[encoded data removed]"
          },
          "metadata": {}
        }
      ]
    }
  ]
}